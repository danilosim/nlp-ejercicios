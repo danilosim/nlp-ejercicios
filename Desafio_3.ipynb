{
 "cells": [
  {
   "cell_type": "markdown",
   "metadata": {
    "id": "g3yeJGnCYxuF"
   },
   "source": [
    "<img src=\"https://github.com/hernancontigiani/ceia_memorias_especializacion/raw/master/Figures/logoFIUBA.jpg\" width=\"500\" align=\"center\">\n",
    "\n",
    "\n",
    "# Procesamiento de lenguaje natural\n",
    "## Modelo de lenguaje con tokenización por caracteres"
   ]
  },
  {
   "cell_type": "code",
   "execution_count": null,
   "metadata": {},
   "outputs": [],
   "source": [
    "import tensorflow as tf\n",
    "print(tf.config.list_physical_devices('GPU'))\n",
    "import numpy as np\n",
    "import pandas as pd\n",
    "import matplotlib.pyplot as plt\n",
    "from sklearn.model_selection import train_test_split\n",
    "\n",
    "from tensorflow import keras\n",
    "from tensorflow.keras import layers"
   ]
  },
  {
   "cell_type": "markdown",
   "metadata": {
    "id": "Iv5PEwGzZA9-"
   },
   "source": [
    "### Datos\n",
    "Utilizaremos como dataset noticias en inglés del archivo news.csv, combinando los campos title y text."
   ]
  },
  {
   "cell_type": "code",
   "execution_count": null,
   "metadata": {},
   "outputs": [],
   "source": [
    "# Load news dataset\n",
    "news_df = pd.read_csv('news.csv')\n",
    "\n",
    "print(f\"Dataset shape: {news_df.shape}\")\n",
    "print(f\"Columns: {news_df.columns.tolist()}\")\n",
    "print(f\"Subjects: {news_df['subject'].unique()}\")\n",
    "\n",
    "# Combine title and text columns\n",
    "news_df['combined_text'] = news_df['title'] + '. ' + news_df['text']\n",
    "\n",
    "# Create the article_text by concatenating all news articles\n",
    "article_text = ' '.join(news_df[:50]['combined_text'].astype(str))\n",
    "\n",
    "# pasar todo el texto a minúscula\n",
    "article_text = article_text.lower()\n",
    "\n",
    "print(f\"Total text length before cleaning: {len(article_text)} characters\")"
   ]
  },
  {
   "cell_type": "code",
   "execution_count": null,
   "id": "8cd26682",
   "metadata": {},
   "outputs": [],
   "source": [
    "import re\n",
    "\n",
    "# Clean text: keep letters, numbers, basic punctuation, and accented characters\n",
    "def clean_text(text):\n",
    "    # Keep: a-z, A-Z, 0-9, spaces, basic punctuation, and common accented characters\n",
    "    cleaned = re.sub(r'[^\\w\\s.,!?;:\\-\\'áéíóúñçàèìòùâêîôûäëïöü]', ' ', text, flags=re.UNICODE)\n",
    "    # Replace multiple spaces with single space\n",
    "    cleaned = re.sub(r'\\s+', ' ', cleaned).strip()\n",
    "    return cleaned\n",
    "\n",
    "# Apply cleaning\n",
    "article_text = clean_text(article_text)\n",
    "print(f\"Cleaned text length: {len(article_text)} characters\")\n",
    "print(f\"Sample: {article_text[:200]}...\")"
   ]
  },
  {
   "cell_type": "code",
   "execution_count": null,
   "metadata": {
    "id": "WBE0sSYuB-E6"
   },
   "outputs": [],
   "source": [
    "# en article text se encuentra el texto completo\n",
    "article_text[:1000]"
   ]
  },
  {
   "cell_type": "markdown",
   "metadata": {
    "id": "cP1JdiOIKQWi"
   },
   "source": [
    "### Elegir el tamaño del contexto\n",
    "\n",
    "En este caso, como el modelo de lenguaje es por caracteres, todo un gran corpus\n",
    "de texto puede ser considerado un documento en sí mismo y el tamaño de contexto\n",
    "puede ser elegido con más libertad en comparación a un modelo de lenguaje tokenizado por palabras y dividido en documentos más acotados."
   ]
  },
  {
   "cell_type": "code",
   "execution_count": null,
   "metadata": {
    "id": "wumBNwdjJM3j"
   },
   "outputs": [],
   "source": [
    "# seleccionamos el tamaño de contexto\n",
    "max_context_size = 250"
   ]
  },
  {
   "cell_type": "code",
   "execution_count": null,
   "metadata": {
    "id": "m5FeTaGvbDbw"
   },
   "outputs": [],
   "source": [
    "# Usaremos las utilidades de procesamiento de textos y secuencias de Keras\n",
    "from tensorflow.keras.utils import pad_sequences # se utilizará para padding"
   ]
  },
  {
   "cell_type": "code",
   "execution_count": null,
   "metadata": {
    "id": "573Cg5n7VhWw"
   },
   "outputs": [],
   "source": [
    "# en este caso el vocabulario es el conjunto único de caracteres que existe en todo el texto\n",
    "chars_vocab = set(article_text)"
   ]
  },
  {
   "cell_type": "code",
   "execution_count": null,
   "metadata": {
    "id": "VwTK6xgLJd8q"
   },
   "outputs": [],
   "source": [
    "# la longitud de vocabulario de caracteres es:\n",
    "len(chars_vocab)"
   ]
  },
  {
   "cell_type": "code",
   "execution_count": null,
   "metadata": {
    "id": "2W0AeQjXV1Ou"
   },
   "outputs": [],
   "source": [
    "# Construimos los dicionarios que asignan índices a caracteres y viceversa.\n",
    "# El diccionario `char2idx` servirá como tokenizador.\n",
    "char2idx = {k: v for v,k in enumerate(chars_vocab)}\n",
    "idx2char = {v: k for k,v in char2idx.items()}"
   ]
  },
  {
   "cell_type": "markdown",
   "metadata": {
    "id": "2oIUjVU0LB0r"
   },
   "source": [
    "###  Tokenizar"
   ]
  },
  {
   "cell_type": "code",
   "execution_count": null,
   "metadata": {
    "id": "h07G3srdJppo"
   },
   "outputs": [],
   "source": [
    "# tokenizamos el texto completo\n",
    "tokenized_text = [char2idx[ch] for ch in article_text]"
   ]
  },
  {
   "cell_type": "code",
   "execution_count": null,
   "metadata": {
    "id": "PwGVSKOiJ5bj"
   },
   "outputs": [],
   "source": [
    "tokenized_text[:10]"
   ]
  },
  {
   "cell_type": "markdown",
   "metadata": {
    "id": "pfpYcaypKcI9"
   },
   "source": [
    "### Organizando y estructurando el dataset"
   ]
  },
  {
   "cell_type": "code",
   "execution_count": null,
   "metadata": {
    "id": "WSSmg9jtKP0T"
   },
   "outputs": [],
   "source": [
    "# separaremos el dataset entre entrenamiento y validación.\n",
    "# `p_val` será la proporción del corpus que se reservará para validación\n",
    "# `num_val` es la cantidad de secuencias de tamaño `max_context_size` que se usará en validación\n",
    "p_val = 0.1\n",
    "num_val = int(np.ceil(len(tokenized_text)*p_val/max_context_size))"
   ]
  },
  {
   "cell_type": "code",
   "execution_count": null,
   "metadata": {
    "id": "b7dCpGrdKll0"
   },
   "outputs": [],
   "source": [
    "# separamos la porción de texto utilizada en entrenamiento de la de validación.\n",
    "train_text = tokenized_text[:-num_val*max_context_size]\n",
    "val_text = tokenized_text[-num_val*max_context_size:]"
   ]
  },
  {
   "cell_type": "code",
   "execution_count": null,
   "metadata": {
    "id": "NmxQdxl8LRCg"
   },
   "outputs": [],
   "source": [
    "tokenized_sentences_val = [val_text[init*max_context_size:init*(max_context_size+1)] for init in range(num_val)]"
   ]
  },
  {
   "cell_type": "code",
   "execution_count": null,
   "metadata": {
    "id": "_gyFT9koLqDm"
   },
   "outputs": [],
   "source": [
    "tokenized_sentences_train = [train_text[init:init+max_context_size] for init in range(len(train_text)-max_context_size+1)]"
   ]
  },
  {
   "cell_type": "code",
   "execution_count": null,
   "metadata": {
    "id": "oVNqmmLRodT0"
   },
   "outputs": [],
   "source": [
    "X = np.array(tokenized_sentences_train[:-1])\n",
    "y = np.array(tokenized_sentences_train[1:])"
   ]
  },
  {
   "cell_type": "markdown",
   "metadata": {
    "id": "Vken7O4ETsAJ"
   },
   "source": [
    "Nótese que estamos estructurando el problema de aprendizaje como *many-to-many*:\n",
    "\n",
    "Entrada: secuencia de tokens [$x_0$, $x_1$, ..., $x_N$]\n",
    "\n",
    "Target: secuencia de tokens [$x_1$, $x_2$, ..., $x_{N+1}$]\n",
    "\n",
    "De manera que la red tiene que aprender que su salida deben ser los tokens desplazados en una posición y un nuevo token predicho (el N+1).\n",
    "\n",
    "La ventaja de estructurar el aprendizaje de esta manera es que para cada token de target se propaga una señal de gradiente por el grafo de cómputo recurrente, que es mejor que estructurar el problema como *many-to-one* en donde sólo una señal de gradiente se propaga."
   ]
  },
  {
   "cell_type": "markdown",
   "metadata": {
    "id": "l3iPTx-UJl6r"
   },
   "source": [
    "En este punto tenemos en la variable `tokenized_sentences` los versos tokenizados. Vamos a quedarnos con un conjunto de validación que utilizaremos para medir la calidad de la generación de secuencias con la métrica de Perplejidad."
   ]
  },
  {
   "cell_type": "markdown",
   "id": "eaebc7f0",
   "metadata": {},
   "source": [
    "## Comparando diferentes arquitecturas RNN\n",
    "\n",
    "Según la consigna, exploraremos SimpleRNN, LSTM y GRU para implementar el modelo de lenguaje."
   ]
  },
  {
   "cell_type": "code",
   "execution_count": null,
   "id": "cd791c74",
   "metadata": {},
   "outputs": [],
   "source": [
    "from keras.layers import LSTM, GRU, Input, TimeDistributed, CategoryEncoding, SimpleRNN, Dense\n",
    "from keras.models import Sequential\n",
    "\n",
    "def create_model(rnn_type='SimpleRNN', units=200, vocab_size=len(chars_vocab)):\n",
    "    \"\"\"\n",
    "    Create RNN model with different architectures\n",
    "    \n",
    "    Args:\n",
    "        rnn_type: 'SimpleRNN', 'LSTM', or 'GRU'\n",
    "        units: number of RNN units\n",
    "        vocab_size: vocabulary size\n",
    "    \"\"\"\n",
    "    model = Sequential()\n",
    "    \n",
    "    model.add(TimeDistributed(CategoryEncoding(num_tokens=len(chars_vocab), output_mode=\"one_hot\"), \n",
    "                             input_shape=(None, 1)))\n",
    "    \n",
    "    if rnn_type == 'SimpleRNN':\n",
    "        model.add(SimpleRNN(units, return_sequences=True, dropout=0.1, recurrent_dropout=0.1))\n",
    "    elif rnn_type == 'LSTM':\n",
    "        model.add(LSTM(units, return_sequences=True, dropout=0.1, recurrent_dropout=0.1))\n",
    "    elif rnn_type == 'GRU':\n",
    "        model.add(GRU(units, return_sequences=True, dropout=0.1, recurrent_dropout=0.1))\n",
    "    else:\n",
    "        raise ValueError(\"rnn_type must be 'SimpleRNN', 'LSTM', or 'GRU'\")\n",
    "    \n",
    "    model.add(Dense(len(chars_vocab), activation='softmax'))\n",
    "    model.compile(loss='sparse_categorical_crossentropy', optimizer='rmsprop')\n",
    "    \n",
    "    return model\n",
    "\n",
    "# Create models with different architectures\n",
    "models = {}\n",
    "for rnn_type in ['SimpleRNN', 'LSTM', 'GRU']:\n",
    "    print(f\"\\n=== Creating {rnn_type} model ===\")\n",
    "    models[rnn_type] = create_model(rnn_type, units=200, vocab_size=len(chars_vocab))\n",
    "    models[rnn_type].summary()"
   ]
  },
  {
   "cell_type": "code",
   "execution_count": null,
   "metadata": {},
   "outputs": [],
   "source": [
    "class PplCallback(keras.callbacks.Callback):\n",
    "\n",
    "    '''\n",
    "    Este callback es una solución ad-hoc para calcular al final de cada epoch de\n",
    "    entrenamiento la métrica de Perplejidad sobre un conjunto de datos de validación.\n",
    "    La perplejidad es una métrica cuantitativa para evaluar la calidad de la generación de secuencias.\n",
    "    Además implementa la finalización del entrenamiento (Early Stopping)\n",
    "    si la perplejidad no mejora después de `patience` epochs.\n",
    "    '''\n",
    "\n",
    "    def __init__(self, val_data, history_ppl,patience=5):\n",
    "      # El callback lo inicializamos con secuencias de validación sobre las cuales\n",
    "      # mediremos la perplejidad\n",
    "      self.val_data = val_data\n",
    "\n",
    "      self.target = []\n",
    "      self.padded = []\n",
    "\n",
    "      count = 0\n",
    "      self.info = []\n",
    "      self.min_score = np.inf\n",
    "      self.patience_counter = 0\n",
    "      self.patience = patience\n",
    "\n",
    "      # nos movemos en todas las secuencias de los datos de validación\n",
    "      for seq in self.val_data:\n",
    "\n",
    "        len_seq = len(seq)\n",
    "        # armamos todas las subsecuencias\n",
    "        subseq = [seq[:i] for i in range(1,len_seq)]\n",
    "        self.target.extend([seq[i] for i in range(1,len_seq)])\n",
    "\n",
    "        if len(subseq)!=0:\n",
    "\n",
    "          self.padded.append(pad_sequences(subseq, maxlen=max_context_size, padding='pre'))\n",
    "\n",
    "          self.info.append((count,count+len_seq))\n",
    "          count += len_seq\n",
    "\n",
    "      self.padded = np.vstack(self.padded)\n",
    "\n",
    "\n",
    "    def on_epoch_end(self, epoch, logs=None):\n",
    "\n",
    "        # en `scores` iremos guardando la perplejidad de cada secuencia\n",
    "        scores = []\n",
    "\n",
    "        predictions = self.model.predict(self.padded,verbose=0)\n",
    "\n",
    "        # para cada secuencia de validación\n",
    "        for start,end in self.info:\n",
    "\n",
    "          # en `probs` iremos guardando las probabilidades de los términos target\n",
    "          probs = [predictions[idx_seq,-1,idx_vocab] for idx_seq, idx_vocab in zip(range(start,end),self.target[start:end])]\n",
    "\n",
    "          # calculamos la perplejidad por medio de logaritmos\n",
    "          scores.append(np.exp(-np.sum(np.log(probs))/(end-start)))\n",
    "\n",
    "        # promediamos todos los scores e imprimimos el valor promedio\n",
    "        current_score = np.mean(scores)\n",
    "        history_ppl.append(current_score)\n",
    "        print(f'\\n mean perplexity: {current_score} \\n')\n",
    "\n",
    "        # chequeamos si tenemos que detener el entrenamiento\n",
    "        if current_score < self.min_score:\n",
    "          self.min_score = current_score\n",
    "          self.model.save(\"my_model.keras\")\n",
    "          print(\"Saved new model!\")\n",
    "          self.patience_counter = 0\n",
    "        else:\n",
    "          self.patience_counter += 1\n",
    "          if self.patience_counter == self.patience:\n",
    "            print(\"Stopping training...\")\n",
    "            self.model.stop_training = True\n"
   ]
  },
  {
   "cell_type": "code",
   "execution_count": null,
   "id": "c72151fb",
   "metadata": {},
   "outputs": [],
   "source": [
    "# Train all models (you can choose which one to train)\n",
    "# For demonstration, let's train the LSTM model\n",
    "selected_model = 'LSTM'  # Change to 'SimpleRNN' or 'GRU' as needed\n",
    "\n",
    "print(f\"Training {selected_model} model...\")\n",
    "model = models[selected_model]\n",
    "\n",
    "# Train the selected model\n",
    "history_ppl = []\n",
    "hist = model.fit(X, y, epochs=10, \n",
    "                callbacks=[PplCallback(tokenized_sentences_val, history_ppl)], \n",
    "                batch_size=128)"
   ]
  },
  {
   "cell_type": "markdown",
   "metadata": {
    "id": "8HBZIwR0gruA"
   },
   "source": [
    "### Entrenamiento"
   ]
  },
  {
   "cell_type": "code",
   "execution_count": null,
   "metadata": {
    "id": "oQq1PHDkxDvN"
   },
   "outputs": [],
   "source": [
    "# fiteamos, nótese el agregado del callback con su inicialización. El batch_size lo podemos seleccionar a mano\n",
    "# en general, lo mejor es escoger el batch más grande posible que minimice el tiempo de cada época.\n",
    "# En la variable `history_ppl` se guardarán los valores de perplejidad para cada época.\n",
    "history_ppl = []\n",
    "hist = model.fit(X, y, epochs=20, callbacks=[PplCallback(tokenized_sentences_val,history_ppl)], batch_size=256)"
   ]
  },
  {
   "cell_type": "code",
   "execution_count": null,
   "metadata": {
    "id": "K30JHB3Dv-mx"
   },
   "outputs": [],
   "source": [
    "import matplotlib.pyplot as plt\n",
    "import seaborn as sns\n",
    "\n",
    "# Entrenamiento\n",
    "epoch_count = range(1, len(history_ppl) + 1)\n",
    "sns.lineplot(x=epoch_count,  y=history_ppl)\n",
    "plt.show()"
   ]
  },
  {
   "cell_type": "code",
   "execution_count": null,
   "metadata": {
    "id": "Rhy5hZN38qfO"
   },
   "outputs": [],
   "source": [
    "# Cargamos el mejor modelo guardado del entrenamiento para hacer inferencia\n",
    "model = keras.models.load_model('my_model.keras')"
   ]
  },
  {
   "cell_type": "markdown",
   "metadata": {
    "id": "KN6Fg_BsxJe6"
   },
   "source": [
    "\n",
    "### Predicción del próximo caracter"
   ]
  },
  {
   "cell_type": "code",
   "execution_count": null,
   "metadata": {
    "id": "IBvKHFPmzpy2"
   },
   "outputs": [],
   "source": [
    "# Se puede usar gradio para probar el modelo\n",
    "# Gradio es una herramienta muy útil para crear interfaces para ensayar modelos\n",
    "# https://gradio.app/\n",
    "\n",
    "!pip install -q gradio"
   ]
  },
  {
   "cell_type": "code",
   "execution_count": null,
   "metadata": {
    "id": "HNyBykvhzs7-"
   },
   "outputs": [],
   "source": [
    "import gradio as gr\n",
    "\n",
    "def model_response(human_text):\n",
    "\n",
    "    # Encodeamos\n",
    "    encoded = [char2idx[ch] for ch in human_text.lower() ]\n",
    "    # Si tienen distinto largo\n",
    "    encoded = pad_sequences([encoded], maxlen=max_context_size, padding='pre')\n",
    "\n",
    "    # Predicción softmax\n",
    "    y_hat = np.argmax(model.predict(encoded)[0,-1,:])\n",
    "\n",
    "\n",
    "    # Debemos buscar en el vocabulario el caracter\n",
    "    # que corresopnde al indice (y_hat) predicho por le modelo\n",
    "    out_word = ''\n",
    "    out_word = idx2char[y_hat]\n",
    "\n",
    "    # Agrego la palabra a la frase predicha\n",
    "    return human_text + out_word\n",
    "\n",
    "iface = gr.Interface(\n",
    "    fn=model_response,\n",
    "    inputs=[\"textbox\"],\n",
    "    outputs=\"text\")\n",
    "\n",
    "iface.launch(debug=True)"
   ]
  },
  {
   "cell_type": "markdown",
   "metadata": {
    "id": "mCeMWWupxN1-"
   },
   "source": [
    "### Generación de secuencias"
   ]
  },
  {
   "cell_type": "code",
   "execution_count": null,
   "metadata": {
    "id": "bwbS_pfhxvB3"
   },
   "outputs": [],
   "source": [
    "def generate_seq(model, seed_text, max_length, n_words):\n",
    "    \"\"\"\n",
    "        Exec model sequence prediction\n",
    "\n",
    "        Args:\n",
    "            model (keras): modelo entrenado\n",
    "            seed_text (string): texto de entrada (input_seq)\n",
    "            max_length (int): máxima longitud de la sequencia de entrada\n",
    "            n_words (int): números de caracteres a agregar a la sequencia de entrada\n",
    "        returns:\n",
    "            output_text (string): sentencia con las \"n_words\" agregadas\n",
    "    \"\"\"\n",
    "    output_text = seed_text\n",
    "\t# generate a fixed number of words\n",
    "    for _ in range(n_words):\n",
    "\t\t# Encodeamos\n",
    "        encoded = [char2idx[ch] for ch in output_text.lower() ]\n",
    "\t\t# Si tienen distinto largo\n",
    "        encoded = pad_sequences([encoded], maxlen=max_length, padding='pre')\n",
    "\n",
    "\t\t# Predicción softmax\n",
    "        y_hat = np.argmax(model.predict(encoded,verbose=0)[0,-1,:])\n",
    "\t\t# Vamos concatenando las predicciones\n",
    "        out_word = ''\n",
    "\n",
    "        out_word = idx2char[y_hat]\n",
    "\n",
    "\t\t# Agrego las palabras a la frase predicha\n",
    "        output_text += out_word\n",
    "    return output_text"
   ]
  },
  {
   "cell_type": "code",
   "execution_count": null,
   "metadata": {
    "id": "JoFqRC5pxzqS"
   },
   "outputs": [],
   "source": [
    "input_text='habia una vez'\n",
    "\n",
    "generate_seq(model, input_text, max_length=max_context_size, n_words=30)"
   ]
  },
  {
   "cell_type": "markdown",
   "metadata": {
    "id": "drJ6xn5qW1Hl"
   },
   "source": [
    "###  Beam search y muestreo aleatorio"
   ]
  },
  {
   "cell_type": "code",
   "execution_count": null,
   "metadata": {
    "id": "_vovn9XZW1Hl"
   },
   "outputs": [],
   "source": [
    "# funcionalidades para hacer encoding y decoding\n",
    "\n",
    "def encode(text,max_length=max_context_size):\n",
    "\n",
    "    encoded = [char2idx[ch] for ch in text]\n",
    "    encoded = pad_sequences([encoded], maxlen=max_length, padding='pre')\n",
    "\n",
    "    return encoded\n",
    "\n",
    "def decode(seq):\n",
    "    return ''.join([idx2char[ch] for ch in seq])"
   ]
  },
  {
   "cell_type": "code",
   "execution_count": null,
   "metadata": {
    "id": "I_lZiQwkW1Hl"
   },
   "outputs": [],
   "source": [
    "from scipy.special import softmax\n",
    "\n",
    "# función que selecciona candidatos para el beam search\n",
    "def select_candidates(pred,num_beams,vocab_size,history_probs,history_tokens,temp,mode):\n",
    "\n",
    "  # colectar todas las probabilidades para la siguiente búsqueda\n",
    "  pred_large = []\n",
    "\n",
    "  for idx,pp in enumerate(pred):\n",
    "    pred_large.extend(np.log(pp+1E-10)+history_probs[idx])\n",
    "\n",
    "  pred_large = np.array(pred_large)\n",
    "\n",
    "  # criterio de selección\n",
    "  if mode == 'det':\n",
    "    idx_select = np.argsort(pred_large)[::-1][:num_beams] # beam search determinista\n",
    "  elif mode == 'sto':\n",
    "    idx_select = np.random.choice(np.arange(pred_large.shape[0]), num_beams, p=softmax(pred_large/temp)) # beam search con muestreo aleatorio\n",
    "  else:\n",
    "    raise ValueError(f'Wrong selection mode. {mode} was given. det and sto are supported.')\n",
    "\n",
    "  # traducir a índices de token en el vocabulario\n",
    "  new_history_tokens = np.concatenate((np.array(history_tokens)[idx_select//vocab_size],\n",
    "                        np.array([idx_select%vocab_size]).T),\n",
    "                      axis=1)\n",
    "\n",
    "  # devolver el producto de las probabilidades (log) y la secuencia de tokens seleccionados\n",
    "  return pred_large[idx_select.astype(int)], new_history_tokens.astype(int)\n",
    "\n",
    "\n",
    "def beam_search(model,num_beams,num_words,input,temp=1,mode='det'):\n",
    "\n",
    "    # first iteration\n",
    "\n",
    "    # encode\n",
    "    encoded = encode(input)\n",
    "\n",
    "    # first prediction\n",
    "    y_hat = model.predict(encoded,verbose=0)[0,-1,:]\n",
    "\n",
    "    # get vocabulary size\n",
    "    vocab_size = y_hat.shape[0]\n",
    "\n",
    "    # initialize history\n",
    "    history_probs = [0]*num_beams\n",
    "    history_tokens = [encoded[0]]*num_beams\n",
    "\n",
    "    # select num_beams candidates\n",
    "    history_probs, history_tokens = select_candidates([y_hat],\n",
    "                                        num_beams,\n",
    "                                        vocab_size,\n",
    "                                        history_probs,\n",
    "                                        history_tokens,\n",
    "                                        temp,\n",
    "                                        mode)\n",
    "\n",
    "    # beam search loop\n",
    "    for i in range(num_words-1):\n",
    "\n",
    "      preds = []\n",
    "\n",
    "      for hist in history_tokens:\n",
    "\n",
    "        # actualizar secuencia de tokens\n",
    "        input_update = np.array([hist[i+1:]]).copy()\n",
    "\n",
    "        # predicción\n",
    "        y_hat = model.predict(input_update,verbose=0)[0,-1,:]\n",
    "\n",
    "        preds.append(y_hat)\n",
    "\n",
    "      history_probs, history_tokens = select_candidates(preds,\n",
    "                                                        num_beams,\n",
    "                                                        vocab_size,\n",
    "                                                        history_probs,\n",
    "                                                        history_tokens,\n",
    "                                                        temp,\n",
    "                                                        mode)\n",
    "\n",
    "    return history_tokens[:,-(len(input)+num_words):]"
   ]
  },
  {
   "cell_type": "code",
   "execution_count": null,
   "metadata": {
    "id": "GeLqAoOYW1Hm"
   },
   "outputs": [],
   "source": [
    "### Generación de secuencias\n",
    "\n",
    "Implementaremos las estrategias solicitadas:\n",
    "1. **Greedy search**: Selecciona siempre el token más probable\n",
    "2. **Beam search determinístico**: Mantiene los k mejores candidatos\n",
    "3. **Beam search estocástico**: Muestreo aleatorio con temperatura"
   ]
  },
  {
   "cell_type": "code",
   "execution_count": null,
   "metadata": {
    "id": "P8HQoLhw-NYg"
   },
   "outputs": [],
   "source": [
    "def generate_seq_greedy(model, seed_text, max_length, n_chars):\n",
    "    \"\"\"\n",
    "    Greedy search: always select the most probable next character\n",
    "    \"\"\"\n",
    "    output_text = seed_text\n",
    "    for _ in range(n_chars):\n",
    "        encoded = [char2idx[ch] for ch in output_text.lower()]\n",
    "        encoded = pad_sequences([encoded], maxlen=max_length, padding='pre')\n",
    "        \n",
    "        # Greedy: select most probable character\n",
    "        y_hat = np.argmax(model.predict(encoded, verbose=0)[0, -1, :])\n",
    "        output_text += idx2char[y_hat]\n",
    "    \n",
    "    return output_text\n",
    "\n",
    "def generate_seq_stochastic(model, seed_text, max_length, n_chars, temperature=1.0):\n",
    "    \"\"\"\n",
    "    Stochastic sampling with temperature\n",
    "    \"\"\"\n",
    "    output_text = seed_text\n",
    "    for _ in range(n_chars):\n",
    "        encoded = [char2idx[ch] for ch in output_text.lower()]\n",
    "        encoded = pad_sequences([encoded], maxlen=max_length, padding='pre')\n",
    "        \n",
    "        # Get probabilities and apply temperature\n",
    "        probs = model.predict(encoded, verbose=0)[0, -1, :]\n",
    "        probs = np.exp(np.log(probs + 1e-10) / temperature)\n",
    "        probs = probs / np.sum(probs)\n",
    "        \n",
    "        # Sample from the distribution\n",
    "        y_hat = np.random.choice(len(probs), p=probs)\n",
    "        output_text += idx2char[y_hat]\n",
    "    \n",
    "    return output_text"
   ]
  },
  {
   "cell_type": "code",
   "execution_count": null,
   "id": "6d4d75aa",
   "metadata": {},
   "outputs": [],
   "source": [
    "# Test different generation strategies\n",
    "seed_text = \"the president\"\n",
    "n_chars = 100\n",
    "\n",
    "print(\"=== GREEDY SEARCH ===\")\n",
    "greedy_result = generate_seq_greedy(model, seed_text, max_context_size, n_chars)\n",
    "print(greedy_result)\n",
    "\n",
    "print(\"\\n=== STOCHASTIC SAMPLING (Temperature = 0.5) ===\")\n",
    "stochastic_low = generate_seq_stochastic(model, seed_text, max_context_size, n_chars, temperature=0.5)\n",
    "print(stochastic_low)\n",
    "\n",
    "print(\"\\n=== STOCHASTIC SAMPLING (Temperature = 1.0) ===\")\n",
    "stochastic_mid = generate_seq_stochastic(model, seed_text, max_context_size, n_chars, temperature=1.0)\n",
    "print(stochastic_mid)\n",
    "\n",
    "print(\"\\n=== STOCHASTIC SAMPLING (Temperature = 1.5) ===\")\n",
    "stochastic_high = generate_seq_stochastic(model, seed_text, max_context_size, n_chars, temperature=1.5)\n",
    "print(stochastic_high)"
   ]
  },
  {
   "cell_type": "code",
   "execution_count": null,
   "metadata": {
    "id": "2S3_I3S1W1Hm"
   },
   "outputs": [],
   "source": [
    "# veamos las salidas\n",
    "decode(salidas[0])"
   ]
  },
  {
   "cell_type": "markdown",
   "metadata": {
    "id": "Q_LlqmtEW1Hn"
   },
   "source": [
    "###  Beam search determinístico y estocástico\n",
    "\n",
    "Implementamos beam search con ambas variantes según la consigna."
   ]
  },
  {
   "cell_type": "code",
   "execution_count": null,
   "id": "2d7bf730",
   "metadata": {},
   "outputs": [],
   "source": [
    "# Test beam search strategies\n",
    "seed_text = \"the president\"\n",
    "\n",
    "print(\"=== BEAM SEARCH DETERMINÍSTICO ===\")\n",
    "beam_det = beam_search(model, num_beams=5, num_words=50, input=seed_text, mode='det')\n",
    "for i, result in enumerate(beam_det[:3]):  # Show top 3 results\n",
    "    print(f\"Candidate {i+1}: {decode(result)}\")\n",
    "\n",
    "print(\"\\n=== BEAM SEARCH ESTOCÁSTICO (Temperature = 0.8) ===\")\n",
    "beam_sto = beam_search(model, num_beams=5, num_words=50, input=seed_text, temp=0.8, mode='sto')\n",
    "for i, result in enumerate(beam_sto[:3]):  # Show top 3 results\n",
    "    print(f\"Candidate {i+1}: {decode(result)}\")\n",
    "\n",
    "print(\"\\n=== BEAM SEARCH ESTOCÁSTICO (Temperature = 1.2) ===\")\n",
    "beam_sto_high = beam_search(model, num_beams=5, num_words=50, input=seed_text, temp=1.2, mode='sto')\n",
    "for i, result in enumerate(beam_sto_high[:3]):  # Show top 3 results\n",
    "    print(f\"Candidate {i+1}: {decode(result)}\")"
   ]
  },
  {
   "cell_type": "markdown",
   "id": "715a70c6",
   "metadata": {},
   "source": [
    "## Análisis del efecto de la temperatura\n",
    "\n",
    "La temperatura controla la \"creatividad\" del modelo:\n",
    "- **Temperatura baja (0.5)**: Más conservador, selecciona opciones más probables\n",
    "- **Temperatura media (1.0)**: Equilibrio entre coherencia y diversidad  \n",
    "- **Temperatura alta (1.5)**: Más creativo pero potencialmente menos coherente"
   ]
  }
 ],
 "metadata": {
  "accelerator": "GPU",
  "colab": {
   "gpuType": "T4",
   "provenance": []
  },
  "kernelspec": {
   "display_name": ".venv",
   "language": "python",
   "name": "python3"
  },
  "language_info": {
   "codemirror_mode": {
    "name": "ipython",
    "version": 3
   },
   "file_extension": ".py",
   "mimetype": "text/x-python",
   "name": "python",
   "nbconvert_exporter": "python",
   "pygments_lexer": "ipython3",
   "version": "3.11.12"
  }
 },
 "nbformat": 4,
 "nbformat_minor": 0
}
