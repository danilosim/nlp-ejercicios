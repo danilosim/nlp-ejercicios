{
 "cells": [
  {
   "cell_type": "markdown",
   "metadata": {
    "id": "sZd5yLnnHOK0"
   },
   "source": [
    "<img src=\"https://github.com/hernancontigiani/ceia_memorias_especializacion/raw/master/Figures/logoFIUBA.jpg\" width=\"500\" align=\"center\">\n",
    "\n",
    "\n",
    "# Procesamiento de lenguaje natural\n",
    "## Custom embedddings con Gensim\n",
    "\n"
   ]
  },
  {
   "cell_type": "markdown",
   "metadata": {
    "id": "vA7nqkumo9z9"
   },
   "source": [
    "### Objetivo\n",
    "El objetivo es utilizar documentos / corpus para crear embeddings de palabras basado en ese contexto. Se utilizará canciones de bandas para generar los embeddings, es decir, que los vectores tendrán la forma en función de como esa banda haya utilizado las palabras en sus canciones."
   ]
  },
  {
   "cell_type": "code",
   "execution_count": 2,
   "metadata": {
    "id": "lFToQs5FK5uZ"
   },
   "outputs": [],
   "source": [
    "import pandas as pd\n",
    "import matplotlib.pyplot as plt\n",
    "import seaborn as sns\n",
    "\n",
    "import multiprocessing\n",
    "from gensim.models import Word2Vec"
   ]
  },
  {
   "cell_type": "markdown",
   "metadata": {
    "id": "g07zJxG7H9vG"
   },
   "source": [
    "### Datos\n",
    "Utilizaremos como dataset canciones de bandas de habla inglesa."
   ]
  },
  {
   "cell_type": "code",
   "execution_count": 3,
   "metadata": {
    "id": "l7z4CSBfpR3X"
   },
   "outputs": [
    {
     "name": "stdout",
     "output_type": "stream",
     "text": [
      "El dataset ya se encuentra descargado\n"
     ]
    }
   ],
   "source": [
    "# Descargar la carpeta de dataset\n",
    "import os\n",
    "import platform\n",
    "if os.access('./songs_dataset', os.F_OK) is False:\n",
    "    if os.access('songs_dataset.zip', os.F_OK) is False:\n",
    "        !curl https://raw.githubusercontent.com/FIUBA-Posgrado-Inteligencia-Artificial/procesamiento_lenguaje_natural/main/datasets/songs_dataset.zip -o songs_dataset.zip\n",
    "    !unzip -q songs_dataset.zip   \n",
    "else:\n",
    "    print(\"El dataset ya se encuentra descargado\")"
   ]
  },
  {
   "cell_type": "code",
   "execution_count": 4,
   "metadata": {
    "id": "mysGrIw9ljC2"
   },
   "outputs": [
    {
     "data": {
      "text/plain": [
       "['prince.txt',\n",
       " 'dickinson.txt',\n",
       " 'notorious-big.txt',\n",
       " 'beatles.txt',\n",
       " 'bob-dylan.txt',\n",
       " 'bjork.txt',\n",
       " 'johnny-cash.txt',\n",
       " 'disney.txt',\n",
       " 'janisjoplin.txt',\n",
       " 'kanye.txt',\n",
       " 'bob-marley.txt',\n",
       " 'leonard-cohen.txt',\n",
       " 'ludacris.txt',\n",
       " 'adele.txt',\n",
       " 'alicia-keys.txt',\n",
       " 'joni-mitchell.txt',\n",
       " 'amy-winehouse.txt',\n",
       " 'lorde.txt',\n",
       " 'rihanna.txt',\n",
       " 'Kanye_West.txt',\n",
       " 'nirvana.txt',\n",
       " 'cake.txt',\n",
       " 'bieber.txt',\n",
       " 'notorious_big.txt',\n",
       " 'missy-elliott.txt',\n",
       " 'dolly-parton.txt',\n",
       " 'jimi-hendrix.txt',\n",
       " 'michael-jackson.txt',\n",
       " 'al-green.txt',\n",
       " 'lil-wayne.txt',\n",
       " 'lady-gaga.txt',\n",
       " 'lin-manuel-miranda.txt',\n",
       " 'nursery_rhymes.txt',\n",
       " 'dj-khaled.txt',\n",
       " 'radiohead.txt',\n",
       " 'patti-smith.txt',\n",
       " 'blink-182.txt',\n",
       " 'Lil_Wayne.txt',\n",
       " 'dr-seuss.txt',\n",
       " 'r-kelly.txt',\n",
       " 'drake.txt',\n",
       " 'britney-spears.txt',\n",
       " 'bruce-springsteen.txt',\n",
       " 'nicki-minaj.txt',\n",
       " 'kanye-west.txt',\n",
       " 'paul-simon.txt',\n",
       " 'nickelback.txt',\n",
       " 'eminem.txt',\n",
       " 'bruno-mars.txt']"
      ]
     },
     "execution_count": 4,
     "metadata": {},
     "output_type": "execute_result"
    }
   ],
   "source": [
    "# Posibles bandas\n",
    "os.listdir(\"./songs_dataset/\")"
   ]
  },
  {
   "cell_type": "code",
   "execution_count": 5,
   "metadata": {
    "id": "ticoqYD1Z3I7"
   },
   "outputs": [
    {
     "name": "stderr",
     "output_type": "stream",
     "text": [
      "/var/folders/ml/gmqmyfhd39bc7mggbpwznw0r0000gn/T/ipykernel_92350/2728444896.py:2: ParserWarning: Falling back to the 'python' engine because the 'c' engine does not support regex separators (separators > 1 char and different from '\\s+' are interpreted as regex); you can avoid this warning by specifying engine='python'.\n",
      "  df = pd.read_csv('songs_dataset/radiohead.txt', sep='/n', header=None)\n"
     ]
    },
    {
     "data": {
      "text/html": [
       "<div>\n",
       "<style scoped>\n",
       "    .dataframe tbody tr th:only-of-type {\n",
       "        vertical-align: middle;\n",
       "    }\n",
       "\n",
       "    .dataframe tbody tr th {\n",
       "        vertical-align: top;\n",
       "    }\n",
       "\n",
       "    .dataframe thead th {\n",
       "        text-align: right;\n",
       "    }\n",
       "</style>\n",
       "<table border=\"1\" class=\"dataframe\">\n",
       "  <thead>\n",
       "    <tr style=\"text-align: right;\">\n",
       "      <th></th>\n",
       "      <th>0</th>\n",
       "    </tr>\n",
       "  </thead>\n",
       "  <tbody>\n",
       "    <tr>\n",
       "      <th>0</th>\n",
       "      <td>Come on, come on</td>\n",
       "    </tr>\n",
       "    <tr>\n",
       "      <th>1</th>\n",
       "      <td>You think you drive me crazy</td>\n",
       "    </tr>\n",
       "    <tr>\n",
       "      <th>2</th>\n",
       "      <td>Come on, come on</td>\n",
       "    </tr>\n",
       "    <tr>\n",
       "      <th>3</th>\n",
       "      <td>You and whose army?</td>\n",
       "    </tr>\n",
       "    <tr>\n",
       "      <th>4</th>\n",
       "      <td>You and your cronies</td>\n",
       "    </tr>\n",
       "  </tbody>\n",
       "</table>\n",
       "</div>"
      ],
      "text/plain": [
       "                              0\n",
       "0              Come on, come on\n",
       "1  You think you drive me crazy\n",
       "2              Come on, come on\n",
       "3           You and whose army?\n",
       "4          You and your cronies"
      ]
     },
     "execution_count": 5,
     "metadata": {},
     "output_type": "execute_result"
    }
   ],
   "source": [
    "# Armar el dataset utilizando salto de línea para separar las oraciones/docs\n",
    "df = pd.read_csv('songs_dataset/radiohead.txt', sep='/n', header=None)\n",
    "df.head()"
   ]
  },
  {
   "cell_type": "code",
   "execution_count": 6,
   "metadata": {
    "id": "LEpKubK9XzXN"
   },
   "outputs": [
    {
     "name": "stdout",
     "output_type": "stream",
     "text": [
      "Cantidad de documentos: 2343\n"
     ]
    }
   ],
   "source": [
    "print(\"Cantidad de documentos:\", df.shape[0])"
   ]
  },
  {
   "cell_type": "markdown",
   "metadata": {
    "id": "ab94qaFlrA1G"
   },
   "source": [
    "### 1 - Preprocesamiento"
   ]
  },
  {
   "cell_type": "code",
   "execution_count": 7,
   "metadata": {
    "id": "rIsmMWmjrDHd"
   },
   "outputs": [],
   "source": [
    "from tensorflow.keras.preprocessing.text import text_to_word_sequence\n",
    "\n",
    "sentence_tokens = []\n",
    "# Recorrer todas las filas y transformar las oraciones\n",
    "# en una secuencia de palabras (esto podría realizarse con NLTK o spaCy también)\n",
    "for _, row in df[:None].iterrows():\n",
    "    sentence_tokens.append(text_to_word_sequence(row[0]))"
   ]
  },
  {
   "cell_type": "code",
   "execution_count": 8,
   "metadata": {
    "id": "CHepi_DGrbhq"
   },
   "outputs": [
    {
     "data": {
      "text/plain": [
       "[['come', 'on', 'come', 'on'], ['you', 'think', 'you', 'drive', 'me', 'crazy']]"
      ]
     },
     "execution_count": 8,
     "metadata": {},
     "output_type": "execute_result"
    }
   ],
   "source": [
    "# Demos un vistazo\n",
    "sentence_tokens[:2]"
   ]
  },
  {
   "cell_type": "markdown",
   "metadata": {
    "id": "BaXV6nlHr5Aa"
   },
   "source": [
    "### 2 - Crear los vectores (word2vec)"
   ]
  },
  {
   "cell_type": "code",
   "execution_count": 9,
   "metadata": {
    "id": "OSb0v7h8r7hK"
   },
   "outputs": [],
   "source": [
    "from gensim.models.callbacks import CallbackAny2Vec\n",
    "# Durante el entrenamiento gensim por defecto no informa el \"loss\" en cada época\n",
    "# Sobrecargamos el callback para poder tener esta información\n",
    "class callback(CallbackAny2Vec):\n",
    "    \"\"\"\n",
    "    Callback to print loss after each epoch\n",
    "    \"\"\"\n",
    "    def __init__(self):\n",
    "        self.epoch = 0\n",
    "\n",
    "    def on_epoch_end(self, model):\n",
    "        loss = model.get_latest_training_loss()\n",
    "        if self.epoch == 0:\n",
    "            print('Loss after epoch {}: {}'.format(self.epoch, loss))\n",
    "        else:\n",
    "            print('Loss after epoch {}: {}'.format(self.epoch, loss- self.loss_previous_step))\n",
    "        self.epoch += 1\n",
    "        self.loss_previous_step = loss"
   ]
  },
  {
   "cell_type": "code",
   "execution_count": 10,
   "metadata": {
    "id": "i0wnDdv9sJ47"
   },
   "outputs": [],
   "source": [
    "# Crearmos el modelo generador de vectores\n",
    "# En este caso utilizaremos la estructura modelo Skipgram\n",
    "w2v_model = Word2Vec(min_count=5,    # frecuencia mínima de palabra para incluirla en el vocabulario\n",
    "                     window=2,       # cant de palabras antes y desp de la predicha\n",
    "                     vector_size=300,       # dimensionalidad de los vectores \n",
    "                     negative=20,    # cantidad de negative samples... 0 es no se usa\n",
    "                     workers=1,      # si tienen más cores pueden cambiar este valor\n",
    "                     sg=1)           # modelo 0:CBOW  1:skipgram"
   ]
  },
  {
   "cell_type": "code",
   "execution_count": 11,
   "metadata": {
    "id": "5lTt8wErsf17"
   },
   "outputs": [],
   "source": [
    "# Obtener el vocabulario con los tokens\n",
    "w2v_model.build_vocab(sentence_tokens)"
   ]
  },
  {
   "cell_type": "code",
   "execution_count": 12,
   "metadata": {
    "id": "TNc9qt4os5AT"
   },
   "outputs": [
    {
     "name": "stdout",
     "output_type": "stream",
     "text": [
      "Cantidad de docs en el corpus: 2343\n"
     ]
    }
   ],
   "source": [
    "# Cantidad de filas/docs encontradas en el corpus\n",
    "print(\"Cantidad de docs en el corpus:\", w2v_model.corpus_count)"
   ]
  },
  {
   "cell_type": "code",
   "execution_count": 13,
   "metadata": {
    "id": "idw9cHF3tSMl"
   },
   "outputs": [
    {
     "name": "stdout",
     "output_type": "stream",
     "text": [
      "Cantidad de words distintas en el corpus: 383\n"
     ]
    }
   ],
   "source": [
    "# Cantidad de words encontradas en el corpus\n",
    "print(\"Cantidad de words distintas en el corpus:\", len(w2v_model.wv.index_to_key))"
   ]
  },
  {
   "cell_type": "markdown",
   "metadata": {
    "id": "fC9mZ8DPk-UC"
   },
   "source": [
    "### 3 - Entrenar embeddings"
   ]
  },
  {
   "cell_type": "code",
   "execution_count": 14,
   "metadata": {
    "id": "QSp-x0PAsq56"
   },
   "outputs": [
    {
     "name": "stdout",
     "output_type": "stream",
     "text": [
      "Loss after epoch 0: 89124.28125\n",
      "Loss after epoch 1: 40447.0234375\n",
      "Loss after epoch 2: 38616.4609375\n",
      "Loss after epoch 3: 37738.953125\n",
      "Loss after epoch 4: 37809.390625\n",
      "Loss after epoch 5: 37434.765625\n",
      "Loss after epoch 6: 36855.21875\n",
      "Loss after epoch 7: 36691.40625\n",
      "Loss after epoch 8: 35232.21875\n",
      "Loss after epoch 9: 35044.4375\n",
      "Loss after epoch 10: 34932.375\n",
      "Loss after epoch 11: 33556.0\n",
      "Loss after epoch 12: 32181.15625\n",
      "Loss after epoch 13: 31678.375\n",
      "Loss after epoch 14: 30294.875\n",
      "Loss after epoch 15: 29945.8125\n",
      "Loss after epoch 16: 28267.6875\n",
      "Loss after epoch 17: 27461.4375\n",
      "Loss after epoch 18: 27017.875\n",
      "Loss after epoch 19: 25738.25\n",
      "Loss after epoch 20: 25231.4375\n",
      "Loss after epoch 21: 24793.625\n",
      "Loss after epoch 22: 24439.1875\n",
      "Loss after epoch 23: 23323.5\n",
      "Loss after epoch 24: 23092.75\n",
      "Loss after epoch 25: 22049.625\n",
      "Loss after epoch 26: 22376.1875\n",
      "Loss after epoch 27: 21885.875\n",
      "Loss after epoch 28: 21206.6875\n",
      "Loss after epoch 29: 21741.5\n",
      "Loss after epoch 30: 20223.125\n",
      "Loss after epoch 31: 19986.1875\n",
      "Loss after epoch 32: 20870.75\n",
      "Loss after epoch 33: 20197.125\n",
      "Loss after epoch 34: 19327.0625\n",
      "Loss after epoch 35: 19165.5\n",
      "Loss after epoch 36: 18178.875\n",
      "Loss after epoch 37: 18707.75\n",
      "Loss after epoch 38: 18629.5\n",
      "Loss after epoch 39: 18189.375\n",
      "Loss after epoch 40: 18452.125\n",
      "Loss after epoch 41: 18426.0\n",
      "Loss after epoch 42: 18113.25\n",
      "Loss after epoch 43: 17830.75\n",
      "Loss after epoch 44: 18068.375\n",
      "Loss after epoch 45: 17697.25\n",
      "Loss after epoch 46: 17763.75\n",
      "Loss after epoch 47: 18402.0\n",
      "Loss after epoch 48: 18185.375\n",
      "Loss after epoch 49: 17120.375\n",
      "Loss after epoch 50: 17719.625\n",
      "Loss after epoch 51: 17765.25\n",
      "Loss after epoch 52: 17576.875\n",
      "Loss after epoch 53: 17746.375\n",
      "Loss after epoch 54: 17678.875\n",
      "Loss after epoch 55: 17384.0\n",
      "Loss after epoch 56: 17952.0\n",
      "Loss after epoch 57: 17442.0\n",
      "Loss after epoch 58: 17588.625\n",
      "Loss after epoch 59: 17965.5\n",
      "Loss after epoch 60: 17793.625\n",
      "Loss after epoch 61: 17283.75\n",
      "Loss after epoch 62: 17271.875\n",
      "Loss after epoch 63: 17063.875\n",
      "Loss after epoch 64: 17314.125\n",
      "Loss after epoch 65: 17709.25\n",
      "Loss after epoch 66: 16808.625\n",
      "Loss after epoch 67: 17495.25\n",
      "Loss after epoch 68: 17307.875\n",
      "Loss after epoch 69: 17559.375\n",
      "Loss after epoch 70: 17395.5\n",
      "Loss after epoch 71: 17552.5\n",
      "Loss after epoch 72: 17176.25\n",
      "Loss after epoch 73: 17470.125\n",
      "Loss after epoch 74: 16894.75\n",
      "Loss after epoch 75: 17411.625\n",
      "Loss after epoch 76: 17489.125\n",
      "Loss after epoch 77: 17682.625\n",
      "Loss after epoch 78: 17232.75\n",
      "Loss after epoch 79: 16916.375\n",
      "Loss after epoch 80: 17523.375\n",
      "Loss after epoch 81: 17334.75\n",
      "Loss after epoch 82: 17122.0\n",
      "Loss after epoch 83: 16926.0\n",
      "Loss after epoch 84: 17147.875\n",
      "Loss after epoch 85: 16883.75\n",
      "Loss after epoch 86: 17314.375\n",
      "Loss after epoch 87: 17721.125\n",
      "Loss after epoch 88: 17026.75\n",
      "Loss after epoch 89: 17206.375\n",
      "Loss after epoch 90: 16747.375\n",
      "Loss after epoch 91: 17353.5\n",
      "Loss after epoch 92: 16693.375\n",
      "Loss after epoch 93: 16893.25\n",
      "Loss after epoch 94: 16714.875\n",
      "Loss after epoch 95: 16216.0\n",
      "Loss after epoch 96: 16532.0\n",
      "Loss after epoch 97: 15745.75\n",
      "Loss after epoch 98: 16280.25\n",
      "Loss after epoch 99: 16564.0\n",
      "Loss after epoch 100: 16649.0\n",
      "Loss after epoch 101: 16577.75\n",
      "Loss after epoch 102: 16341.5\n",
      "Loss after epoch 103: 16639.5\n",
      "Loss after epoch 104: 16211.0\n",
      "Loss after epoch 105: 16787.25\n",
      "Loss after epoch 106: 17411.25\n",
      "Loss after epoch 107: 17041.75\n",
      "Loss after epoch 108: 16123.0\n",
      "Loss after epoch 109: 16001.5\n",
      "Loss after epoch 110: 15980.5\n",
      "Loss after epoch 111: 16274.25\n",
      "Loss after epoch 112: 16298.5\n",
      "Loss after epoch 113: 16391.5\n",
      "Loss after epoch 114: 16149.5\n",
      "Loss after epoch 115: 16295.75\n",
      "Loss after epoch 116: 16636.75\n",
      "Loss after epoch 117: 16213.75\n",
      "Loss after epoch 118: 16584.5\n",
      "Loss after epoch 119: 17113.75\n",
      "Loss after epoch 120: 16661.5\n",
      "Loss after epoch 121: 16419.5\n",
      "Loss after epoch 122: 16737.25\n",
      "Loss after epoch 123: 15950.25\n",
      "Loss after epoch 124: 16758.75\n",
      "Loss after epoch 125: 16105.0\n",
      "Loss after epoch 126: 16462.5\n",
      "Loss after epoch 127: 16224.0\n",
      "Loss after epoch 128: 16403.0\n",
      "Loss after epoch 129: 16167.25\n",
      "Loss after epoch 130: 16861.75\n",
      "Loss after epoch 131: 15964.0\n",
      "Loss after epoch 132: 16181.5\n",
      "Loss after epoch 133: 16204.75\n",
      "Loss after epoch 134: 16173.75\n",
      "Loss after epoch 135: 16469.25\n",
      "Loss after epoch 136: 16315.25\n",
      "Loss after epoch 137: 16413.5\n",
      "Loss after epoch 138: 15891.0\n",
      "Loss after epoch 139: 16371.75\n",
      "Loss after epoch 140: 15796.5\n",
      "Loss after epoch 141: 15990.75\n",
      "Loss after epoch 142: 16257.5\n",
      "Loss after epoch 143: 15939.75\n",
      "Loss after epoch 144: 15904.25\n",
      "Loss after epoch 145: 16262.75\n",
      "Loss after epoch 146: 15905.25\n",
      "Loss after epoch 147: 16388.75\n",
      "Loss after epoch 148: 16281.0\n",
      "Loss after epoch 149: 15815.0\n",
      "Loss after epoch 150: 16662.25\n",
      "Loss after epoch 151: 16233.25\n",
      "Loss after epoch 152: 15648.5\n",
      "Loss after epoch 153: 15519.5\n",
      "Loss after epoch 154: 15905.5\n",
      "Loss after epoch 155: 16326.25\n",
      "Loss after epoch 156: 16271.25\n",
      "Loss after epoch 157: 15493.75\n",
      "Loss after epoch 158: 16388.0\n",
      "Loss after epoch 159: 16185.5\n",
      "Loss after epoch 160: 16062.75\n",
      "Loss after epoch 161: 15970.0\n",
      "Loss after epoch 162: 16134.5\n",
      "Loss after epoch 163: 16228.25\n",
      "Loss after epoch 164: 16394.5\n",
      "Loss after epoch 165: 16150.5\n",
      "Loss after epoch 166: 16361.75\n",
      "Loss after epoch 167: 16253.5\n",
      "Loss after epoch 168: 16312.25\n",
      "Loss after epoch 169: 15852.25\n",
      "Loss after epoch 170: 16098.5\n",
      "Loss after epoch 171: 16194.5\n",
      "Loss after epoch 172: 16409.5\n",
      "Loss after epoch 173: 16151.75\n",
      "Loss after epoch 174: 15563.25\n",
      "Loss after epoch 175: 16439.5\n",
      "Loss after epoch 176: 16229.5\n",
      "Loss after epoch 177: 15716.25\n",
      "Loss after epoch 178: 16066.0\n",
      "Loss after epoch 179: 15856.25\n",
      "Loss after epoch 180: 15719.0\n",
      "Loss after epoch 181: 16240.25\n",
      "Loss after epoch 182: 15538.5\n",
      "Loss after epoch 183: 16048.75\n",
      "Loss after epoch 184: 15886.25\n",
      "Loss after epoch 185: 16296.75\n",
      "Loss after epoch 186: 16298.5\n",
      "Loss after epoch 187: 15924.0\n",
      "Loss after epoch 188: 16178.5\n",
      "Loss after epoch 189: 15987.75\n",
      "Loss after epoch 190: 15435.25\n",
      "Loss after epoch 191: 16350.5\n",
      "Loss after epoch 192: 16115.75\n",
      "Loss after epoch 193: 15769.5\n",
      "Loss after epoch 194: 15700.0\n",
      "Loss after epoch 195: 15303.25\n",
      "Loss after epoch 196: 15520.25\n",
      "Loss after epoch 197: 15446.25\n",
      "Loss after epoch 198: 15933.5\n",
      "Loss after epoch 199: 15199.75\n"
     ]
    },
    {
     "data": {
      "text/plain": [
       "(1170623, 2360600)"
      ]
     },
     "execution_count": 14,
     "metadata": {},
     "output_type": "execute_result"
    }
   ],
   "source": [
    "# Entrenamos el modelo generador de vectores\n",
    "# Utilizamos nuestro callback\n",
    "w2v_model.train(sentence_tokens,\n",
    "                 total_examples=w2v_model.corpus_count,\n",
    "                 epochs=200,\n",
    "                 compute_loss = True,\n",
    "                 callbacks=[callback()]\n",
    "                 )"
   ]
  },
  {
   "cell_type": "markdown",
   "metadata": {
    "id": "ddT9NVuNlCAe"
   },
   "source": [
    "### 4 - Ensayar"
   ]
  },
  {
   "cell_type": "code",
   "execution_count": 15,
   "metadata": {
    "id": "6cHN9xGLuPEm"
   },
   "outputs": [
    {
     "data": {
      "text/plain": [
       "[('choke', 0.4765268862247467),\n",
       " (\"payin'\", 0.4705463945865631),\n",
       " ('needed', 0.4636782109737396),\n",
       " ('hearts', 0.44341522455215454),\n",
       " ('alright', 0.42987796664237976),\n",
       " ('ringing', 0.42928045988082886),\n",
       " ('its', 0.4290997087955475),\n",
       " ('rain', 0.42642396688461304),\n",
       " (\"i'd\", 0.4235934019088745),\n",
       " ('broken', 0.4232752025127411)]"
      ]
     },
     "execution_count": 15,
     "metadata": {},
     "output_type": "execute_result"
    }
   ],
   "source": [
    "# Palabras que MÁS se relacionan con...:\n",
    "w2v_model.wv.most_similar(positive=[\"love\"], topn=10)"
   ]
  },
  {
   "cell_type": "code",
   "execution_count": 16,
   "metadata": {
    "id": "47HiU5gdkdMq"
   },
   "outputs": [
    {
     "data": {
      "text/plain": [
       "[('uptight', 0.038635268807411194),\n",
       " ('away', -0.006682051811367273),\n",
       " ('day', -0.03571729734539986),\n",
       " ('over', -0.050668999552726746),\n",
       " ('off', -0.05396568030118942),\n",
       " ('big', -0.05529693886637688),\n",
       " ('and', -0.06878501176834106),\n",
       " ('this', -0.07278633117675781),\n",
       " ('about', -0.0790463536977768),\n",
       " (\"you've\", -0.0796360969543457)]"
      ]
     },
     "execution_count": 16,
     "metadata": {},
     "output_type": "execute_result"
    }
   ],
   "source": [
    "# Palabras que MENOS se relacionan con...:\n",
    "w2v_model.wv.most_similar(negative=[\"love\"], topn=10)"
   ]
  },
  {
   "cell_type": "code",
   "execution_count": 17,
   "metadata": {
    "id": "DT4Rvno2mD65"
   },
   "outputs": [
    {
     "data": {
      "text/plain": [
       "[('weirdo', 0.9541454911231995),\n",
       " ('ready', 0.7748377919197083),\n",
       " ('bunker', 0.6798977851867676),\n",
       " (\"who's\", 0.6266152262687683),\n",
       " ('such', 0.6206404566764832),\n",
       " ('stuffed', 0.6200128793716431),\n",
       " ('lie', 0.6066186428070068),\n",
       " ('height', 0.5944558382034302),\n",
       " ('great', 0.5845938324928284),\n",
       " ('alright', 0.5750374794006348)]"
      ]
     },
     "execution_count": 17,
     "metadata": {},
     "output_type": "execute_result"
    }
   ],
   "source": [
    "# Palabras que MÁS se relacionan con...:\n",
    "w2v_model.wv.most_similar(positive=[\"creep\"], topn=10)"
   ]
  },
  {
   "cell_type": "code",
   "execution_count": 18,
   "metadata": {
    "id": "XPLDPgzBmQXt"
   },
   "outputs": [
    {
     "data": {
      "text/plain": [
       "[('needed', 0.604769229888916),\n",
       " ('attention', 0.5510879158973694),\n",
       " ('myself', 0.5088874101638794),\n",
       " ('believe', 0.5076034665107727),\n",
       " (\"payin'\", 0.49516627192497253)]"
      ]
     },
     "execution_count": 18,
     "metadata": {},
     "output_type": "execute_result"
    }
   ],
   "source": [
    "# Palabras que MÁS se relacionan con...:\n",
    "w2v_model.wv.most_similar(positive=[\"need\"], topn=5)"
   ]
  },
  {
   "cell_type": "code",
   "execution_count": 19,
   "metadata": {
    "id": "L_UvHPMMklOr"
   },
   "outputs": [
    {
     "ename": "KeyError",
     "evalue": "\"Key 'police' not present in vocabulary\"",
     "output_type": "error",
     "traceback": [
      "\u001b[31m---------------------------------------------------------------------------\u001b[39m",
      "\u001b[31mKeyError\u001b[39m                                  Traceback (most recent call last)",
      "\u001b[36mCell\u001b[39m\u001b[36m \u001b[39m\u001b[32mIn[19]\u001b[39m\u001b[32m, line 2\u001b[39m\n\u001b[32m      1\u001b[39m \u001b[38;5;66;03m# Ensayar con una palabra que no está en el vocabulario:\u001b[39;00m\n\u001b[32m----> \u001b[39m\u001b[32m2\u001b[39m \u001b[43mw2v_model\u001b[49m\u001b[43m.\u001b[49m\u001b[43mwv\u001b[49m\u001b[43m.\u001b[49m\u001b[43mmost_similar\u001b[49m\u001b[43m(\u001b[49m\u001b[43mnegative\u001b[49m\u001b[43m=\u001b[49m\u001b[43m[\u001b[49m\u001b[33;43m\"\u001b[39;49m\u001b[33;43mpolice\u001b[39;49m\u001b[33;43m\"\u001b[39;49m\u001b[43m]\u001b[49m\u001b[43m)\u001b[49m\n",
      "\u001b[36mFile \u001b[39m\u001b[32m~/projects/maestria/nlp-ejercicios/.venv/lib/python3.11/site-packages/gensim/models/keyedvectors.py:841\u001b[39m, in \u001b[36mKeyedVectors.most_similar\u001b[39m\u001b[34m(self, positive, negative, topn, clip_start, clip_end, restrict_vocab, indexer)\u001b[39m\n\u001b[32m    838\u001b[39m         weight[idx] = item[\u001b[32m1\u001b[39m]\n\u001b[32m    840\u001b[39m \u001b[38;5;66;03m# compute the weighted average of all keys\u001b[39;00m\n\u001b[32m--> \u001b[39m\u001b[32m841\u001b[39m mean = \u001b[38;5;28;43mself\u001b[39;49m\u001b[43m.\u001b[49m\u001b[43mget_mean_vector\u001b[49m\u001b[43m(\u001b[49m\u001b[43mkeys\u001b[49m\u001b[43m,\u001b[49m\u001b[43m \u001b[49m\u001b[43mweight\u001b[49m\u001b[43m,\u001b[49m\u001b[43m \u001b[49m\u001b[43mpre_normalize\u001b[49m\u001b[43m=\u001b[49m\u001b[38;5;28;43;01mTrue\u001b[39;49;00m\u001b[43m,\u001b[49m\u001b[43m \u001b[49m\u001b[43mpost_normalize\u001b[49m\u001b[43m=\u001b[49m\u001b[38;5;28;43;01mTrue\u001b[39;49;00m\u001b[43m,\u001b[49m\u001b[43m \u001b[49m\u001b[43mignore_missing\u001b[49m\u001b[43m=\u001b[49m\u001b[38;5;28;43;01mFalse\u001b[39;49;00m\u001b[43m)\u001b[49m\n\u001b[32m    842\u001b[39m all_keys = [\n\u001b[32m    843\u001b[39m     \u001b[38;5;28mself\u001b[39m.get_index(key) \u001b[38;5;28;01mfor\u001b[39;00m key \u001b[38;5;129;01min\u001b[39;00m keys \u001b[38;5;28;01mif\u001b[39;00m \u001b[38;5;28misinstance\u001b[39m(key, _KEY_TYPES) \u001b[38;5;129;01mand\u001b[39;00m \u001b[38;5;28mself\u001b[39m.has_index_for(key)\n\u001b[32m    844\u001b[39m ]\n\u001b[32m    846\u001b[39m \u001b[38;5;28;01mif\u001b[39;00m indexer \u001b[38;5;129;01mis\u001b[39;00m \u001b[38;5;129;01mnot\u001b[39;00m \u001b[38;5;28;01mNone\u001b[39;00m \u001b[38;5;129;01mand\u001b[39;00m \u001b[38;5;28misinstance\u001b[39m(topn, \u001b[38;5;28mint\u001b[39m):\n",
      "\u001b[36mFile \u001b[39m\u001b[32m~/projects/maestria/nlp-ejercicios/.venv/lib/python3.11/site-packages/gensim/models/keyedvectors.py:518\u001b[39m, in \u001b[36mKeyedVectors.get_mean_vector\u001b[39m\u001b[34m(self, keys, weights, pre_normalize, post_normalize, ignore_missing)\u001b[39m\n\u001b[32m    516\u001b[39m         total_weight += \u001b[38;5;28mabs\u001b[39m(weights[idx])\n\u001b[32m    517\u001b[39m     \u001b[38;5;28;01melif\u001b[39;00m \u001b[38;5;129;01mnot\u001b[39;00m ignore_missing:\n\u001b[32m--> \u001b[39m\u001b[32m518\u001b[39m         \u001b[38;5;28;01mraise\u001b[39;00m \u001b[38;5;167;01mKeyError\u001b[39;00m(\u001b[33mf\u001b[39m\u001b[33m\"\u001b[39m\u001b[33mKey \u001b[39m\u001b[33m'\u001b[39m\u001b[38;5;132;01m{\u001b[39;00mkey\u001b[38;5;132;01m}\u001b[39;00m\u001b[33m'\u001b[39m\u001b[33m not present in vocabulary\u001b[39m\u001b[33m\"\u001b[39m)\n\u001b[32m    520\u001b[39m \u001b[38;5;28;01mif\u001b[39;00m total_weight > \u001b[32m0\u001b[39m:\n\u001b[32m    521\u001b[39m     mean = mean / total_weight\n",
      "\u001b[31mKeyError\u001b[39m: \"Key 'police' not present in vocabulary\""
     ]
    }
   ],
   "source": [
    "# Ensayar con una palabra que no está en el vocabulario:\n",
    "w2v_model.wv.most_similar(negative=[\"police\"])"
   ]
  },
  {
   "cell_type": "code",
   "execution_count": 20,
   "metadata": {},
   "outputs": [
    {
     "name": "stdout",
     "output_type": "stream",
     "text": [
      "[-0.13601704  0.20232981  0.00834987 -0.26749125  0.30056277 -0.5020355\n",
      "  0.327451    1.1208166   0.187635    0.00942725  0.25671086 -0.5456774\n",
      " -0.0719433  -0.20585757  0.12615837 -0.0548914  -0.18485625 -0.16165109\n",
      " -0.16811296 -0.5562529   0.10862747 -0.09662451  0.4335825   0.3574674\n",
      "  0.06571554  0.48860696 -0.08798373 -0.03489013 -0.2807634   0.15898919\n",
      "  0.267329   -0.47787878 -0.13828525 -0.28826666 -0.36534128 -0.05455005\n",
      "  0.13331263 -0.25373155 -0.33356822 -0.14566366  0.40675855  0.40367696\n",
      "  0.02460105 -0.32948408  0.34494206  0.5035701   0.56450677  0.23035869\n",
      "  0.36720663  0.41672128  0.20410623 -0.22758538 -0.26233205 -0.14001192\n",
      "  0.33463684  0.0475526  -0.3333087  -0.27484497  0.23262167  0.02723552\n",
      " -0.465579   -0.30705562  0.11581385  0.27590692  0.25327793  0.26715353\n",
      " -0.01743512 -0.26914006 -0.2844288  -0.30408022  0.5796684   0.0763476\n",
      " -0.17681159 -0.00811843  0.15160923  0.1767514  -0.3101527   0.00141646\n",
      " -0.02295237  0.9104636  -0.1359857   0.00794682 -0.20533566  0.69270384\n",
      "  0.07280211  0.13757028  0.0993968  -0.23717616  0.05538955  0.52380913\n",
      "  0.28928775 -0.22913036  0.03723796 -0.40119928  0.49484992  0.20445925\n",
      "  0.37004116 -0.174391   -0.07875986 -0.09205633 -0.3605183   0.6618512\n",
      " -0.05680453  0.31318927 -0.4380754  -0.12820609  0.02813682 -0.27445176\n",
      " -0.3596359   0.13187739 -0.4020251   0.12992568  0.5983108   0.45411256\n",
      "  0.17506099  0.1564894  -0.3859268   0.09016605  0.56322736 -0.4319589\n",
      " -0.01295414 -0.06399592 -0.28546256 -0.05549537 -0.27496067  0.45288795\n",
      "  0.44777295  0.02522774  0.21668121  0.5234979   0.1500713   0.05874979\n",
      "  0.29763094  0.20538738 -0.06112241  0.30989024 -0.01891996 -0.00584756\n",
      " -0.26456973  0.3371575  -0.25781667  0.08775865  0.5239025   0.36976972\n",
      " -0.05886374 -0.7268272  -0.26103812 -0.26151672 -0.12239707 -0.46799177\n",
      " -0.19706108 -0.07957785 -0.07125393 -0.4811832  -0.23877522  0.00988285\n",
      " -0.42315793 -0.14497283  0.06607242  0.12144939  0.14756562  0.2623248\n",
      " -0.00591826  0.35758138 -0.30423132  0.1127962  -0.217318   -0.03738688\n",
      "  0.03590509  0.00790222 -0.09960049 -0.16892418  0.10272546 -0.09477721\n",
      " -0.3891834   0.4459003  -0.3211614  -0.3126519   0.31049997 -0.15290074\n",
      "  0.104643   -0.17517373  0.22060388  0.11992586 -0.48586655 -0.00459789\n",
      "  0.6550764   0.5181823  -0.12075714 -0.25827923 -0.03724384 -0.47912055\n",
      " -0.6813881  -0.18327673 -0.02722786 -0.13514395  0.13459247 -0.08437179\n",
      " -0.24995045  0.2233957  -0.35544807  0.35506937  0.135444    0.04137762\n",
      " -0.27482492 -0.12547992  0.18449016  0.23159516 -0.02917726  0.4496757\n",
      "  0.02330426 -0.38372988 -0.20703839  0.21712935 -0.2552919  -0.36910668\n",
      " -0.3158519   0.00423539 -0.29624343 -0.18342692 -0.3449691  -0.19183211\n",
      "  0.36578116 -0.5719103  -0.07698676 -0.2580952  -0.01305416  0.41271856\n",
      " -0.08038853  0.1620992   0.07314998  0.2917377  -0.06350251  0.08992965\n",
      "  0.16353789  0.5062367  -0.20053378 -0.29870987 -0.22859964 -0.42735693\n",
      "  0.24182494 -0.23284751 -0.02535216 -0.09098382  0.12093207  0.17576659\n",
      "  0.279983   -0.08985407  0.05286999 -0.18095185 -0.1486372  -0.06096312\n",
      "  0.0950634   0.1051923  -0.5277452  -0.36496797  0.5731842  -0.23705766\n",
      " -0.37832555 -0.16365153  0.07297654  0.49454495  0.18883374 -0.2592736\n",
      " -0.32054573  0.26631624  0.01455795  0.49605474 -0.5973253   0.3031734\n",
      " -0.24045041 -0.0570666   0.26452824  0.00244387  0.44552943 -0.06120874\n",
      "  0.16824673 -0.38964683 -0.126212   -0.08431777  0.23707712  0.26338527\n",
      " -0.1785738   0.1126111   0.19160901 -0.16079853 -0.1831758   0.23778678\n",
      " -0.02911693  0.23548311  0.2753678   0.36865294  0.10572256  0.12285956\n",
      "  0.29166037  0.26011544  0.06453796 -0.23059684  0.29940307  0.053526  ]\n"
     ]
    }
   ],
   "source": [
    "# el método `get_vector` permite obtener los vectores:\n",
    "vector_love = w2v_model.wv.get_vector(\"dream\")\n",
    "print(vector_love)"
   ]
  },
  {
   "cell_type": "code",
   "execution_count": 21,
   "metadata": {},
   "outputs": [
    {
     "data": {
      "text/plain": [
       "[('dream', 1.0),\n",
       " ('nice', 0.6387646198272705),\n",
       " ('drop', 0.5974333882331848),\n",
       " ('bed', 0.5675229430198669),\n",
       " ('choke', 0.5611574053764343),\n",
       " ('long', 0.5409419536590576),\n",
       " ('enough', 0.5312414169311523),\n",
       " ('great', 0.509792149066925),\n",
       " ('height', 0.5045536160469055),\n",
       " ('belong', 0.5024136304855347)]"
      ]
     },
     "execution_count": 21,
     "metadata": {},
     "output_type": "execute_result"
    }
   ],
   "source": [
    "# el método `most_similar` también permite comparar a partir de vectores\n",
    "w2v_model.wv.most_similar(vector_love)"
   ]
  },
  {
   "cell_type": "code",
   "execution_count": 22,
   "metadata": {},
   "outputs": [
    {
     "data": {
      "text/plain": [
       "[('choke', 0.4765268862247467),\n",
       " (\"payin'\", 0.4705463945865631),\n",
       " ('needed', 0.4636782109737396),\n",
       " ('hearts', 0.44341522455215454),\n",
       " ('alright', 0.42987796664237976),\n",
       " ('ringing', 0.42928045988082886),\n",
       " ('its', 0.4290997087955475),\n",
       " ('rain', 0.42642396688461304),\n",
       " (\"i'd\", 0.4235934019088745),\n",
       " ('broken', 0.4232752025127411)]"
      ]
     },
     "execution_count": 22,
     "metadata": {},
     "output_type": "execute_result"
    }
   ],
   "source": [
    "# Palabras que MÁS se relacionan con...:\n",
    "w2v_model.wv.most_similar(positive=[\"love\"], topn=10)"
   ]
  },
  {
   "cell_type": "markdown",
   "metadata": {
    "id": "_g8UVWe6lFmh"
   },
   "source": [
    "### 5 - Visualizar agrupación de vectores"
   ]
  },
  {
   "cell_type": "code",
   "execution_count": 23,
   "metadata": {
    "id": "pDxEVXAivjr9"
   },
   "outputs": [],
   "source": [
    "from sklearn.decomposition import IncrementalPCA    \n",
    "from sklearn.manifold import TSNE                   \n",
    "import numpy as np                                  \n",
    "\n",
    "def reduce_dimensions(model, num_dimensions = 2 ):\n",
    "     \n",
    "    vectors = np.asarray(model.wv.vectors)\n",
    "    labels = np.asarray(model.wv.index_to_key)  \n",
    "\n",
    "    tsne = TSNE(n_components=num_dimensions, random_state=0)\n",
    "    vectors = tsne.fit_transform(vectors)\n",
    "\n",
    "    return vectors, labels"
   ]
  },
  {
   "cell_type": "code",
   "execution_count": 24,
   "metadata": {
    "id": "NCCXtDpcugmd"
   },
   "outputs": [
    {
     "data": {
      "application/vnd.plotly.v1+json": {
       "config": {
        "plotlyServerURL": "https://plot.ly"
       },
       "data": [
        {
         "hovertemplate": "x=%{x}<br>y=%{y}<br>text=%{text}<extra></extra>",
         "legendgroup": "",
         "marker": {
          "color": "#636efa",
          "symbol": "circle"
         },
         "mode": "markers+text",
         "name": "",
         "orientation": "v",
         "showlegend": false,
         "text": [
          "the",
          "you",
          "i",
          "and",
          "a",
          "to",
          "me",
          "in",
          "your",
          "it",
          "don't",
          "all",
          "on",
          "is",
          "of",
          "i'm",
          "up",
          "out",
          "no",
          "be",
          "my",
          "we",
          "what",
          "will",
          "it's",
          "not",
          "just",
          "can",
          "this",
          "down",
          "that",
          "are",
          "want",
          "do",
          "get",
          "know",
          "with",
          "but",
          "like",
          "where",
          "so",
          "if",
          "for",
          "alive",
          "one",
          "come",
          "now",
          "they",
          "back",
          "here",
          "oh",
          "take",
          "off",
          "you're",
          "there",
          "i'll",
          "see",
          "again",
          "hurt",
          "eat",
          "am",
          "from",
          "should",
          "when",
          "more",
          "got",
          "around",
          "really",
          "at",
          "lies",
          "have",
          "let",
          "love",
          "as",
          "rain",
          "good",
          "us",
          "there's",
          "go",
          "yourself",
          "there'll",
          "think",
          "by",
          "everything",
          "into",
          "arms",
          "too",
          "leave",
          "feel",
          "wish",
          "coming",
          "best",
          "little",
          "day",
          "mess",
          "can't",
          "eyes",
          "broken",
          "run",
          "an",
          "time",
          "make",
          "or",
          "lost",
          "truth",
          "nothing",
          "children",
          "head",
          "enough",
          "been",
          "hearts",
          "i've",
          "ah",
          "try",
          "away",
          "light",
          "gonna",
          "wrong",
          "over",
          "still",
          "could",
          "never",
          "was",
          "dream",
          "'cause",
          "flah",
          "why",
          "end",
          "attention",
          "efil",
          "home",
          "ym",
          "fo",
          "before",
          "messed",
          "myself",
          "first",
          "moon",
          "inside",
          "these",
          "uptight",
          "you've",
          "you'll",
          "how",
          "free",
          "falling",
          "keep",
          "place",
          "yeah",
          "right",
          "face",
          "things",
          "way",
          "put",
          "about",
          "who",
          "such",
          "nice",
          "upon",
          "its",
          "say",
          "ringing",
          "fade",
          "belong",
          "that's",
          "special",
          "world",
          "ready",
          "heart",
          "wears",
          "set",
          "look",
          "then",
          "times",
          "had",
          "bit",
          "won't",
          "soul",
          "else",
          "him",
          "would",
          "comes",
          "man",
          "believe",
          "we're",
          "he",
          "mine",
          "need",
          "because",
          "left",
          "payin'",
          "i'd",
          "hell",
          "always",
          "open",
          "hanging",
          "walls",
          "happen",
          "dry",
          "two"
         ],
         "type": "scatter",
         "x": {
          "bdata": "f2wgQD+jbL+lduu/VmwHQRi/yL+ukuM/Ke20PcHGab4mJ4vAZL/mwM6LpcDpr1VBEYUfQTarLEEJSxNBAZswwaq5E8FFzLW/Lz2lvzhfoMCkaTNBqzy/P2v/ecDtee9AMDe9wHcQ+cACRpdA5fmDQKoLEUH1CLNA08jAQITe8cB+yJPAvBIwQLFzQEGlP4nAnzFTQQ82IMGj0U9B9wIAwUTpPsHLLzg/x6p4wFv5FUHo+79AMC+IP9G1OEFRkuHAT7vKwNOrS8AhwbpAqT0HwXrz3D+mMULBsmKsQL6BVEB+5F6/zgsRwLfw1cAiXQJBxDkhwEEYPr5u5vvARamMwIgoL8DfJgjAhwgeQfcdB8GW5iNBqg83wMffs8BEnyhAvgNNQcQPxkDjiBrBrGrZQCev+kBEW+JAlCM8QMYuV0COZjTASD7BPQIAukB9xvtA4pT+QOzItsDfjbXAsYuQwFirx8A1QkNAMA8bwImBnEBLKso/fd+pQFC8zkCcVmtAzaOYQBB0FsFvBy3AaukiQdSdAEGZvRvBeD8LQNh/AcFZU+xAUrN6v7IgA0EaQ+m//VfCwFHdKMB+eBvBuh0vPrGjxEBwaZZAadZxv/kNk0DsnVhAHph8vp1pKEEAmajATkKYQF3qKMGmGntAQZafP24fx79He9PAulXRwAsTAEB7zQbBpjPTwGaE/EDPH9jAB+bXwEYAHUCW/wFBbjcTwQCFAkHWDnLA/MMSQdJWc0AEY/M/oAOgwI9MBkEumSdAFjElwTml6D+6Ys5AtL8CQElFDMHzAlk+32tFQMtsdD9TNvhAAc+PQOKYlMCseHNARtHNwON/Lj9wqRNBelqoQENVNkDeB93ArpUVwBWtjj9HHidAzxMnQMg7Iz/mgSjBjHglQSd4sb8qNCXBITtqQDSPlUCUSblAmblLQL5qKsEdcbVAVBr/P3BfFUBcY9NAYFwMQUwNvkDM7+HAAcYTwfA2TT+GSTK/shQ6wU8V+8A8qCvBDafsQCzJ/sAbody/vUo/wHxmLkEt6hdBPdvKQN/+vECg4Ta8jSqcwCHEXMA=",
          "dtype": "f4"
         },
         "xaxis": "x",
         "y": {
          "bdata": "HweRPt6sX8AJs2fAyX7uQLrv2EBqFgI7VsbtwJ983kAPhqNAVCEJwD8a+cAy4Ta/kNaaQKXOWMBsnxNB96uJv6BGD8FX0R7B5ulawRheV8FA/EdAFjiOv5hiQsBd2FhAkYqQP7uHO7+PMg7BNHRwwEzovb9hq4k/iQO8wLyXsEBE+NZAK4MTwWXjpkCsvpTAr/qtwBhvir7azyVAjpV+P5aNTUCvZ33AjZkEQQoiX0ClNCRB2j/mwA+UAUHv8TPB0B0OQMdzZ79w+5DA/3/oP2oPycANmwpAKK08wWr5EEEVBM3A8qElwTOhBsFMGFRA1bcmwCl1G8BjrhfB/F3sP4DRW8FwXKpAdUcDQObNckBdo9JAPcNewcfgxr8y+hi/8ExRwKiG+T82PARBLrZIwH2oHsFEmuLAKyxRwIcDDMH9il3BiiCNwA5L+UATZYG/WpidQCM3CsE6jDA81N4SwfqWhMCufDjBQkZzvy78TsDMSEFBA4c3QWh5D8CxivFAJy+SQMdjCEEs8wbBEq0PwSLlG8CKQwRB44QKQY+X7sCpHn3AEEyNQP4bVz79dAJAKJtJv7XyhkAajQNBIjt+viMljcBsH5A/eyc1QB+ey0AjzZfAeCN2QFAdHT76CwFBcfPlwN+61MAtYSTBpKdCwCKXzsAdIT1BZYDHwP3fq8CVX4TACtQ8QY9UNEFWDUJBwu5BQSWNd8APxMu/SvPRwJbHuj7Tn9dAdw4GwassU0Hw8qw+J3MKP4dJmMB58pvAtJ2XQCDzj0CV8rS/ksJtQCfhdcAIqGxAVzzRQBqsMUD0dKvAiFIEQaFoXkBGab3A0cB7QPQJcMBXsXPAclKvQNI8BsF3HTHBMGEdwaK9msAnHU1ADEY7wY1zmkAK7r2/xdz3wHyFDMGCAZhA7USxQL44BECYY0PAMwLTwNXsUsC5hG1A6rQfQJ6wIUGtNZxAeGi9QIiqIcEYiedAxKfWwNPa90DVo7fAR30qQG8YksB2EUTAWRIGwaleesCuy6PA1y8TwBKppcBM/dnAe6WIQDHD2b9Cgsw/u5QOwfGByD8=",
          "dtype": "f4"
         },
         "yaxis": "y"
        }
       ],
       "layout": {
        "legend": {
         "tracegroupgap": 0
        },
        "margin": {
         "t": 60
        },
        "template": {
         "data": {
          "bar": [
           {
            "error_x": {
             "color": "#2a3f5f"
            },
            "error_y": {
             "color": "#2a3f5f"
            },
            "marker": {
             "line": {
              "color": "#E5ECF6",
              "width": 0.5
             },
             "pattern": {
              "fillmode": "overlay",
              "size": 10,
              "solidity": 0.2
             }
            },
            "type": "bar"
           }
          ],
          "barpolar": [
           {
            "marker": {
             "line": {
              "color": "#E5ECF6",
              "width": 0.5
             },
             "pattern": {
              "fillmode": "overlay",
              "size": 10,
              "solidity": 0.2
             }
            },
            "type": "barpolar"
           }
          ],
          "carpet": [
           {
            "aaxis": {
             "endlinecolor": "#2a3f5f",
             "gridcolor": "white",
             "linecolor": "white",
             "minorgridcolor": "white",
             "startlinecolor": "#2a3f5f"
            },
            "baxis": {
             "endlinecolor": "#2a3f5f",
             "gridcolor": "white",
             "linecolor": "white",
             "minorgridcolor": "white",
             "startlinecolor": "#2a3f5f"
            },
            "type": "carpet"
           }
          ],
          "choropleth": [
           {
            "colorbar": {
             "outlinewidth": 0,
             "ticks": ""
            },
            "type": "choropleth"
           }
          ],
          "contour": [
           {
            "colorbar": {
             "outlinewidth": 0,
             "ticks": ""
            },
            "colorscale": [
             [
              0,
              "#0d0887"
             ],
             [
              0.1111111111111111,
              "#46039f"
             ],
             [
              0.2222222222222222,
              "#7201a8"
             ],
             [
              0.3333333333333333,
              "#9c179e"
             ],
             [
              0.4444444444444444,
              "#bd3786"
             ],
             [
              0.5555555555555556,
              "#d8576b"
             ],
             [
              0.6666666666666666,
              "#ed7953"
             ],
             [
              0.7777777777777778,
              "#fb9f3a"
             ],
             [
              0.8888888888888888,
              "#fdca26"
             ],
             [
              1,
              "#f0f921"
             ]
            ],
            "type": "contour"
           }
          ],
          "contourcarpet": [
           {
            "colorbar": {
             "outlinewidth": 0,
             "ticks": ""
            },
            "type": "contourcarpet"
           }
          ],
          "heatmap": [
           {
            "colorbar": {
             "outlinewidth": 0,
             "ticks": ""
            },
            "colorscale": [
             [
              0,
              "#0d0887"
             ],
             [
              0.1111111111111111,
              "#46039f"
             ],
             [
              0.2222222222222222,
              "#7201a8"
             ],
             [
              0.3333333333333333,
              "#9c179e"
             ],
             [
              0.4444444444444444,
              "#bd3786"
             ],
             [
              0.5555555555555556,
              "#d8576b"
             ],
             [
              0.6666666666666666,
              "#ed7953"
             ],
             [
              0.7777777777777778,
              "#fb9f3a"
             ],
             [
              0.8888888888888888,
              "#fdca26"
             ],
             [
              1,
              "#f0f921"
             ]
            ],
            "type": "heatmap"
           }
          ],
          "histogram": [
           {
            "marker": {
             "pattern": {
              "fillmode": "overlay",
              "size": 10,
              "solidity": 0.2
             }
            },
            "type": "histogram"
           }
          ],
          "histogram2d": [
           {
            "colorbar": {
             "outlinewidth": 0,
             "ticks": ""
            },
            "colorscale": [
             [
              0,
              "#0d0887"
             ],
             [
              0.1111111111111111,
              "#46039f"
             ],
             [
              0.2222222222222222,
              "#7201a8"
             ],
             [
              0.3333333333333333,
              "#9c179e"
             ],
             [
              0.4444444444444444,
              "#bd3786"
             ],
             [
              0.5555555555555556,
              "#d8576b"
             ],
             [
              0.6666666666666666,
              "#ed7953"
             ],
             [
              0.7777777777777778,
              "#fb9f3a"
             ],
             [
              0.8888888888888888,
              "#fdca26"
             ],
             [
              1,
              "#f0f921"
             ]
            ],
            "type": "histogram2d"
           }
          ],
          "histogram2dcontour": [
           {
            "colorbar": {
             "outlinewidth": 0,
             "ticks": ""
            },
            "colorscale": [
             [
              0,
              "#0d0887"
             ],
             [
              0.1111111111111111,
              "#46039f"
             ],
             [
              0.2222222222222222,
              "#7201a8"
             ],
             [
              0.3333333333333333,
              "#9c179e"
             ],
             [
              0.4444444444444444,
              "#bd3786"
             ],
             [
              0.5555555555555556,
              "#d8576b"
             ],
             [
              0.6666666666666666,
              "#ed7953"
             ],
             [
              0.7777777777777778,
              "#fb9f3a"
             ],
             [
              0.8888888888888888,
              "#fdca26"
             ],
             [
              1,
              "#f0f921"
             ]
            ],
            "type": "histogram2dcontour"
           }
          ],
          "mesh3d": [
           {
            "colorbar": {
             "outlinewidth": 0,
             "ticks": ""
            },
            "type": "mesh3d"
           }
          ],
          "parcoords": [
           {
            "line": {
             "colorbar": {
              "outlinewidth": 0,
              "ticks": ""
             }
            },
            "type": "parcoords"
           }
          ],
          "pie": [
           {
            "automargin": true,
            "type": "pie"
           }
          ],
          "scatter": [
           {
            "fillpattern": {
             "fillmode": "overlay",
             "size": 10,
             "solidity": 0.2
            },
            "type": "scatter"
           }
          ],
          "scatter3d": [
           {
            "line": {
             "colorbar": {
              "outlinewidth": 0,
              "ticks": ""
             }
            },
            "marker": {
             "colorbar": {
              "outlinewidth": 0,
              "ticks": ""
             }
            },
            "type": "scatter3d"
           }
          ],
          "scattercarpet": [
           {
            "marker": {
             "colorbar": {
              "outlinewidth": 0,
              "ticks": ""
             }
            },
            "type": "scattercarpet"
           }
          ],
          "scattergeo": [
           {
            "marker": {
             "colorbar": {
              "outlinewidth": 0,
              "ticks": ""
             }
            },
            "type": "scattergeo"
           }
          ],
          "scattergl": [
           {
            "marker": {
             "colorbar": {
              "outlinewidth": 0,
              "ticks": ""
             }
            },
            "type": "scattergl"
           }
          ],
          "scattermap": [
           {
            "marker": {
             "colorbar": {
              "outlinewidth": 0,
              "ticks": ""
             }
            },
            "type": "scattermap"
           }
          ],
          "scattermapbox": [
           {
            "marker": {
             "colorbar": {
              "outlinewidth": 0,
              "ticks": ""
             }
            },
            "type": "scattermapbox"
           }
          ],
          "scatterpolar": [
           {
            "marker": {
             "colorbar": {
              "outlinewidth": 0,
              "ticks": ""
             }
            },
            "type": "scatterpolar"
           }
          ],
          "scatterpolargl": [
           {
            "marker": {
             "colorbar": {
              "outlinewidth": 0,
              "ticks": ""
             }
            },
            "type": "scatterpolargl"
           }
          ],
          "scatterternary": [
           {
            "marker": {
             "colorbar": {
              "outlinewidth": 0,
              "ticks": ""
             }
            },
            "type": "scatterternary"
           }
          ],
          "surface": [
           {
            "colorbar": {
             "outlinewidth": 0,
             "ticks": ""
            },
            "colorscale": [
             [
              0,
              "#0d0887"
             ],
             [
              0.1111111111111111,
              "#46039f"
             ],
             [
              0.2222222222222222,
              "#7201a8"
             ],
             [
              0.3333333333333333,
              "#9c179e"
             ],
             [
              0.4444444444444444,
              "#bd3786"
             ],
             [
              0.5555555555555556,
              "#d8576b"
             ],
             [
              0.6666666666666666,
              "#ed7953"
             ],
             [
              0.7777777777777778,
              "#fb9f3a"
             ],
             [
              0.8888888888888888,
              "#fdca26"
             ],
             [
              1,
              "#f0f921"
             ]
            ],
            "type": "surface"
           }
          ],
          "table": [
           {
            "cells": {
             "fill": {
              "color": "#EBF0F8"
             },
             "line": {
              "color": "white"
             }
            },
            "header": {
             "fill": {
              "color": "#C8D4E3"
             },
             "line": {
              "color": "white"
             }
            },
            "type": "table"
           }
          ]
         },
         "layout": {
          "annotationdefaults": {
           "arrowcolor": "#2a3f5f",
           "arrowhead": 0,
           "arrowwidth": 1
          },
          "autotypenumbers": "strict",
          "coloraxis": {
           "colorbar": {
            "outlinewidth": 0,
            "ticks": ""
           }
          },
          "colorscale": {
           "diverging": [
            [
             0,
             "#8e0152"
            ],
            [
             0.1,
             "#c51b7d"
            ],
            [
             0.2,
             "#de77ae"
            ],
            [
             0.3,
             "#f1b6da"
            ],
            [
             0.4,
             "#fde0ef"
            ],
            [
             0.5,
             "#f7f7f7"
            ],
            [
             0.6,
             "#e6f5d0"
            ],
            [
             0.7,
             "#b8e186"
            ],
            [
             0.8,
             "#7fbc41"
            ],
            [
             0.9,
             "#4d9221"
            ],
            [
             1,
             "#276419"
            ]
           ],
           "sequential": [
            [
             0,
             "#0d0887"
            ],
            [
             0.1111111111111111,
             "#46039f"
            ],
            [
             0.2222222222222222,
             "#7201a8"
            ],
            [
             0.3333333333333333,
             "#9c179e"
            ],
            [
             0.4444444444444444,
             "#bd3786"
            ],
            [
             0.5555555555555556,
             "#d8576b"
            ],
            [
             0.6666666666666666,
             "#ed7953"
            ],
            [
             0.7777777777777778,
             "#fb9f3a"
            ],
            [
             0.8888888888888888,
             "#fdca26"
            ],
            [
             1,
             "#f0f921"
            ]
           ],
           "sequentialminus": [
            [
             0,
             "#0d0887"
            ],
            [
             0.1111111111111111,
             "#46039f"
            ],
            [
             0.2222222222222222,
             "#7201a8"
            ],
            [
             0.3333333333333333,
             "#9c179e"
            ],
            [
             0.4444444444444444,
             "#bd3786"
            ],
            [
             0.5555555555555556,
             "#d8576b"
            ],
            [
             0.6666666666666666,
             "#ed7953"
            ],
            [
             0.7777777777777778,
             "#fb9f3a"
            ],
            [
             0.8888888888888888,
             "#fdca26"
            ],
            [
             1,
             "#f0f921"
            ]
           ]
          },
          "colorway": [
           "#636efa",
           "#EF553B",
           "#00cc96",
           "#ab63fa",
           "#FFA15A",
           "#19d3f3",
           "#FF6692",
           "#B6E880",
           "#FF97FF",
           "#FECB52"
          ],
          "font": {
           "color": "#2a3f5f"
          },
          "geo": {
           "bgcolor": "white",
           "lakecolor": "white",
           "landcolor": "#E5ECF6",
           "showlakes": true,
           "showland": true,
           "subunitcolor": "white"
          },
          "hoverlabel": {
           "align": "left"
          },
          "hovermode": "closest",
          "mapbox": {
           "style": "light"
          },
          "paper_bgcolor": "white",
          "plot_bgcolor": "#E5ECF6",
          "polar": {
           "angularaxis": {
            "gridcolor": "white",
            "linecolor": "white",
            "ticks": ""
           },
           "bgcolor": "#E5ECF6",
           "radialaxis": {
            "gridcolor": "white",
            "linecolor": "white",
            "ticks": ""
           }
          },
          "scene": {
           "xaxis": {
            "backgroundcolor": "#E5ECF6",
            "gridcolor": "white",
            "gridwidth": 2,
            "linecolor": "white",
            "showbackground": true,
            "ticks": "",
            "zerolinecolor": "white"
           },
           "yaxis": {
            "backgroundcolor": "#E5ECF6",
            "gridcolor": "white",
            "gridwidth": 2,
            "linecolor": "white",
            "showbackground": true,
            "ticks": "",
            "zerolinecolor": "white"
           },
           "zaxis": {
            "backgroundcolor": "#E5ECF6",
            "gridcolor": "white",
            "gridwidth": 2,
            "linecolor": "white",
            "showbackground": true,
            "ticks": "",
            "zerolinecolor": "white"
           }
          },
          "shapedefaults": {
           "line": {
            "color": "#2a3f5f"
           }
          },
          "ternary": {
           "aaxis": {
            "gridcolor": "white",
            "linecolor": "white",
            "ticks": ""
           },
           "baxis": {
            "gridcolor": "white",
            "linecolor": "white",
            "ticks": ""
           },
           "bgcolor": "#E5ECF6",
           "caxis": {
            "gridcolor": "white",
            "linecolor": "white",
            "ticks": ""
           }
          },
          "title": {
           "x": 0.05
          },
          "xaxis": {
           "automargin": true,
           "gridcolor": "white",
           "linecolor": "white",
           "ticks": "",
           "title": {
            "standoff": 15
           },
           "zerolinecolor": "white",
           "zerolinewidth": 2
          },
          "yaxis": {
           "automargin": true,
           "gridcolor": "white",
           "linecolor": "white",
           "ticks": "",
           "title": {
            "standoff": 15
           },
           "zerolinecolor": "white",
           "zerolinewidth": 2
          }
         }
        },
        "xaxis": {
         "anchor": "y",
         "domain": [
          0,
          1
         ],
         "title": {
          "text": "x"
         }
        },
        "yaxis": {
         "anchor": "x",
         "domain": [
          0,
          1
         ],
         "title": {
          "text": "y"
         }
        }
       }
      }
     },
     "metadata": {},
     "output_type": "display_data"
    }
   ],
   "source": [
    "# Graficar los embedddings en 2D\n",
    "import plotly.graph_objects as go\n",
    "import plotly.express as px\n",
    "\n",
    "vecs, labels = reduce_dimensions(w2v_model)\n",
    "\n",
    "MAX_WORDS=200\n",
    "fig = px.scatter(x=vecs[:MAX_WORDS,0], y=vecs[:MAX_WORDS,1], text=labels[:MAX_WORDS])\n",
    "fig.show() # esto para plotly en colab"
   ]
  },
  {
   "cell_type": "code",
   "execution_count": 27,
   "metadata": {},
   "outputs": [
    {
     "data": {
      "application/vnd.plotly.v1+json": {
       "config": {
        "plotlyServerURL": "https://plot.ly"
       },
       "data": [
        {
         "hovertemplate": "x=%{x}<br>y=%{y}<br>z=%{z}<br>text=%{text}<extra></extra>",
         "legendgroup": "",
         "marker": {
          "color": "#636efa",
          "size": 2,
          "symbol": "circle"
         },
         "mode": "markers+text",
         "name": "",
         "scene": "scene",
         "showlegend": false,
         "text": [
          "the",
          "you",
          "i",
          "and",
          "a",
          "to",
          "me",
          "in",
          "your",
          "it",
          "don't",
          "all",
          "on",
          "is",
          "of",
          "i'm",
          "up",
          "out",
          "no",
          "be",
          "my",
          "we",
          "what",
          "will",
          "it's",
          "not",
          "just",
          "can",
          "this",
          "down",
          "that",
          "are",
          "want",
          "do",
          "get",
          "know",
          "with",
          "but",
          "like",
          "where",
          "so",
          "if",
          "for",
          "alive",
          "one",
          "come",
          "now",
          "they",
          "back",
          "here",
          "oh",
          "take",
          "off",
          "you're",
          "there",
          "i'll",
          "see",
          "again",
          "hurt",
          "eat",
          "am",
          "from",
          "should",
          "when",
          "more",
          "got",
          "around",
          "really",
          "at",
          "lies",
          "have",
          "let",
          "love",
          "as",
          "rain",
          "good",
          "us",
          "there's",
          "go",
          "yourself",
          "there'll",
          "think",
          "by",
          "everything",
          "into",
          "arms",
          "too",
          "leave",
          "feel",
          "wish",
          "coming",
          "best",
          "little",
          "day",
          "mess",
          "can't",
          "eyes",
          "broken",
          "run",
          "an",
          "time",
          "make",
          "or",
          "lost",
          "truth",
          "nothing",
          "children",
          "head",
          "enough",
          "been",
          "hearts",
          "i've",
          "ah",
          "try",
          "away",
          "light",
          "gonna",
          "wrong",
          "over",
          "still",
          "could",
          "never",
          "was",
          "dream",
          "'cause",
          "flah",
          "why",
          "end",
          "attention",
          "efil",
          "home",
          "ym",
          "fo",
          "before",
          "messed",
          "myself",
          "first",
          "moon",
          "inside",
          "these",
          "uptight",
          "you've",
          "you'll",
          "how",
          "free",
          "falling",
          "keep",
          "place",
          "yeah",
          "right",
          "face",
          "things",
          "way",
          "put",
          "about",
          "who",
          "such",
          "nice",
          "upon",
          "its",
          "say",
          "ringing",
          "fade",
          "belong",
          "that's",
          "special",
          "world",
          "ready",
          "heart",
          "wears",
          "set",
          "look",
          "then",
          "times",
          "had",
          "bit",
          "won't",
          "soul",
          "else",
          "him",
          "would",
          "comes",
          "man",
          "believe",
          "we're",
          "he",
          "mine",
          "need",
          "because",
          "left",
          "payin'",
          "i'd",
          "hell",
          "always",
          "open",
          "hanging",
          "walls",
          "happen",
          "dry",
          "two"
         ],
         "type": "scatter3d",
         "x": {
          "bdata": "xz7WwAG3u0BZEUXB3qIhQjUilUKZahXCcpU8QqlZdsJMfv7BALgjQsiTs0BTiwLCCi8tQpj3jsKVLB/CZFL9wMiEI8EV4O/AO+x2QQcizsFuhtjBkSGCwiSYukDaP5pBYoqqQaHgw0KZJs7Biw4Gv+Q12UHqEMFB2ECiwecmpMKwPmJAgge7QJ6Fk8IXK2PCH0mbwVqjgMFTI7fC2oIHweLUEULQ8jRCkDLlQd4XCcL+xInCb/UFQmZ5C8IgXWdCdMHJQVrKQ8K2R3VCKM8MQfHrLEBb51VCS86hQgSuv0A6ZAvC3ngXv571OkFXdPDB2zCrQnQ6RsJCkATB0/mJwq2XK0JpDtfBxaNmQq0cl0EEKZvC+KpNQsGk6EF1at1Bk7ScwlQrVEJ/DJVCsDAHQbCJssL77GtC5OZ1wkbMMEB3VEpCBLJcwV2RgcKO3iZCdKVnwn7Tk0H1IphBfpRAQSB8+sHwu0hBKHsbwt6HTMG7gyBCxUBKwmkFDUIbYSBBVqxDQhc8j0LhVzs/M8uVQXvSc0Lll4RCRrcJQnPZfkFg+1jA70ECwUiRTcJujHTAMqkVQoSURcB1p4VCtTKIwu3xZ0Lvx5LCr/0Uwk82pcISd2NC0egRQUZmf0JjaUbBYMCAwDD6JEHFSpDBTZNvQjiYAMI4D4RCtq7sQSffOUELykTCAX2HQnQinELrw5BCNPGjQgvsREIhMTZCSz7CQJJ8UMLHD2XCf1IPQrZyssJmuxZDEiVTQH961cH5x4pB3WmmwYd4o0K6ZcDB9xIrQhMpQ8JTl4lB5cKxwTuMhsITndnBFYGlQRcZIsAIvFrCRiFlQfSGJ0InIG3Cp7QLQt53K8G/GVtCrdY2QZ3A40GrAZVCCaRLQmFgTUIo5a9AyWh3QSmzG0JhUkTB7h5twjyxmEL8ehFCZi6gQfPnv0FlGXNCPqSmwmnIw0D4XB9C0lNvwdfAhkE6lB9CmaBIQJavEsLp8bnB8Rb9QcaT+cGTbKVBi6lxQgDj/cF9QZ3ByVP5wW3iecKWYJFA6moPP4vZzkE0xjnCWcHmQXd85cE=",
          "dtype": "f4"
         },
         "y": {
          "bdata": "60WXQuKnr8LhvKTChZaBwo5fAUKAXSnCt8YpwtveosKfQcpBBGikwoyLn0JHWJHBi15+wmwkL8KrQ+tBjvYAwpv8f8LkW0FCs4ouwtcgo8LHdd7BuPKGQVRdY0IcxmBCURANQlFJcUA0jafBs8JnQgRrJcI5zoRCVvaQwYEJpEDFU2VBIIWJwjFtLMJ2/xBCzyK9wg0nE8J65b/BrjgEwgIBlkLX/7jBpmJDQgvnVkJhD1hCC9CnwYoJX0LKJMpAMuCows4aCsHm0aVA95U5wrHBCcIwLYJCSRMuwnnGo0LX3JXCiWzZv5ZfGsKcdqpC9azowf3QaMJs/YDCmf3twYlvaMFLpX1CACXgwMm9nME3D3lCxBYPwg/uJUJZrla/HmKUwdE3d0I7K6/AQrGfwWBsCT9fszXCkzzeQEwyEUK64cTBc5xwwvrascFa7dhBP7lEP3TDycHoAT5BSKYywagn/UHWfKlC6NulQfBnGELe/HrCkZMdQjgvG0ERXobCNGi2QMBIIEGKzu/BL7mXwU78uEE/lmM/ESbXQDDwecLvublAqpZPQqG6jkJncYJCMRijQQ1gKkJjVDPBycLywEZ90EAY5f9Bno5wwepVEUFHxIfCz9kUQqmtesIa+K/Cn/uhQhOxucJ46iU/J3IgwnfYYsK6Th5CW4SEwpxggcF2agdBhZjuQUKJccHSOzZCIcsUQgtFnkGfp1NBpfigwjJ4eUK4/GXCW9s1wkYL9r7GPh5CB4YYQhq4kEFcB0rCrQ+BQmmkzL8jHmXCD/iYwXFDJcF0L9FByHHVQQyyokEjikdAjiiDQsJk90HaJedBv1jOQZ0+FMIk41fCFeijQdkSNkL97/PAhkzxwJN3DsKPnBvClCloQiSEQEIjvsHB/j4nwk5cmMEFJ3dC6HFbvqooFsI5H65BnvEEQtk4Ej/O0bVBahjfwYgrZcIAAAHBQXtxwjevaT5RP6ZCMfihwn31P0JyiB7ChFJhQoxLXEDBqs8+BX6ywX6OJMDvvoPCDRyMwdnEAsIZAebBd/8hwWGjdkAzKZZB19t6v5gaeEI=",
          "dtype": "f4"
         },
         "z": {
          "bdata": "hPtfwCIp7MFS65XBUc5lQifTLcLtDHhCalCdQv+Y9EA9E3bCnk5mQXYruUFqRJHCCqSwvz1JVMJIW+vBUmOYwryQq7/jiKFChYhMwlbcIcLTw6ZCXzi1QdA0KELToAnC/RghQq2Ly8D/+ivCqq2XwpPm50F5PIBCsPXAwnjNl0DxaL5CqElUQuhM50FfiYVCrz2wQBp8X8JJ4ZJBJZiBQpf6FEK1xWNCIliewqhSaEIu4uTBRUaoQuCsdsIwSibCYXI1Qgg0P0H3aOw/5lVAQpSlpkJ66cdBCxiOPulUQ0Kjz44/6YCbQSLbUkHZEdRApgvbwafPOcKSipVBrcW5QItmVcJSmBnCbGyXQjChO0IN2ZZAQ2NQws4teULn88HC04svwpP7LsAo+hpCmbfAwq5YFUI6BKHBJWrowThg9EHLbT3CE7aHQiadIUKZGcTB6kqZwkwF3T/RzDxCyuG1QK/SjEIf8+/BH0rxQE5smsIn2GHC6Q0RQMOvBcL0Dl3C5SeNwq9uHUL4ZAZCIzrOwX5+vME3RlFCZHWtQtc2QEF7QazC6mtOwpZDAL/Xa8/B+E1xQtyu28HOZjtCmXQHwRevIMFOU0PCfjuFwfMNLMJxjgHCVtJowrfC0EDE1EBCDitBwtP1DkBW7kTCE4dMQi7fWEEIeYxBm4rxQTnVikKTDJJCx5KzQXJVmMA+H/VBoa3MQcy/HkJcK4vBV0HVQcVBPkFa9nRBWqXowUlvmsE7ZYVDWQtnQunjssLnTpFCoqxKQuMzScLjsjXCU3KgwraSkEIxtIXCFDG/QlfkBcGTOYvCzwtiwkxuGMGTeozCB9cDwp5zQ0JhyQbBnxSYwj/tB0J/JCPCVK/OQXDzcUKTXvtBBCBHQpYscMKbRorCqq+UwVj7t0GINWpCmelQwmn6TcKZtUHC3GOlQi8daMKes4DC8QJmwToH9sHefSZCPciNwvofC8InRI3B4whkQWNsBkIQBMRB6mULQjP7pEJDe4/Cbsi2weeRdEIfjhJCIAqaQVl1fUKPw5LBcHK3QkfUr8GyPB9CzF+Nv+ZVIME=",
          "dtype": "f4"
         }
        }
       ],
       "layout": {
        "legend": {
         "tracegroupgap": 0
        },
        "margin": {
         "t": 60
        },
        "scene": {
         "domain": {
          "x": [
           0,
           1
          ],
          "y": [
           0,
           1
          ]
         },
         "xaxis": {
          "title": {
           "text": "x"
          }
         },
         "yaxis": {
          "title": {
           "text": "y"
          }
         },
         "zaxis": {
          "title": {
           "text": "z"
          }
         }
        },
        "template": {
         "data": {
          "bar": [
           {
            "error_x": {
             "color": "#2a3f5f"
            },
            "error_y": {
             "color": "#2a3f5f"
            },
            "marker": {
             "line": {
              "color": "#E5ECF6",
              "width": 0.5
             },
             "pattern": {
              "fillmode": "overlay",
              "size": 10,
              "solidity": 0.2
             }
            },
            "type": "bar"
           }
          ],
          "barpolar": [
           {
            "marker": {
             "line": {
              "color": "#E5ECF6",
              "width": 0.5
             },
             "pattern": {
              "fillmode": "overlay",
              "size": 10,
              "solidity": 0.2
             }
            },
            "type": "barpolar"
           }
          ],
          "carpet": [
           {
            "aaxis": {
             "endlinecolor": "#2a3f5f",
             "gridcolor": "white",
             "linecolor": "white",
             "minorgridcolor": "white",
             "startlinecolor": "#2a3f5f"
            },
            "baxis": {
             "endlinecolor": "#2a3f5f",
             "gridcolor": "white",
             "linecolor": "white",
             "minorgridcolor": "white",
             "startlinecolor": "#2a3f5f"
            },
            "type": "carpet"
           }
          ],
          "choropleth": [
           {
            "colorbar": {
             "outlinewidth": 0,
             "ticks": ""
            },
            "type": "choropleth"
           }
          ],
          "contour": [
           {
            "colorbar": {
             "outlinewidth": 0,
             "ticks": ""
            },
            "colorscale": [
             [
              0,
              "#0d0887"
             ],
             [
              0.1111111111111111,
              "#46039f"
             ],
             [
              0.2222222222222222,
              "#7201a8"
             ],
             [
              0.3333333333333333,
              "#9c179e"
             ],
             [
              0.4444444444444444,
              "#bd3786"
             ],
             [
              0.5555555555555556,
              "#d8576b"
             ],
             [
              0.6666666666666666,
              "#ed7953"
             ],
             [
              0.7777777777777778,
              "#fb9f3a"
             ],
             [
              0.8888888888888888,
              "#fdca26"
             ],
             [
              1,
              "#f0f921"
             ]
            ],
            "type": "contour"
           }
          ],
          "contourcarpet": [
           {
            "colorbar": {
             "outlinewidth": 0,
             "ticks": ""
            },
            "type": "contourcarpet"
           }
          ],
          "heatmap": [
           {
            "colorbar": {
             "outlinewidth": 0,
             "ticks": ""
            },
            "colorscale": [
             [
              0,
              "#0d0887"
             ],
             [
              0.1111111111111111,
              "#46039f"
             ],
             [
              0.2222222222222222,
              "#7201a8"
             ],
             [
              0.3333333333333333,
              "#9c179e"
             ],
             [
              0.4444444444444444,
              "#bd3786"
             ],
             [
              0.5555555555555556,
              "#d8576b"
             ],
             [
              0.6666666666666666,
              "#ed7953"
             ],
             [
              0.7777777777777778,
              "#fb9f3a"
             ],
             [
              0.8888888888888888,
              "#fdca26"
             ],
             [
              1,
              "#f0f921"
             ]
            ],
            "type": "heatmap"
           }
          ],
          "histogram": [
           {
            "marker": {
             "pattern": {
              "fillmode": "overlay",
              "size": 10,
              "solidity": 0.2
             }
            },
            "type": "histogram"
           }
          ],
          "histogram2d": [
           {
            "colorbar": {
             "outlinewidth": 0,
             "ticks": ""
            },
            "colorscale": [
             [
              0,
              "#0d0887"
             ],
             [
              0.1111111111111111,
              "#46039f"
             ],
             [
              0.2222222222222222,
              "#7201a8"
             ],
             [
              0.3333333333333333,
              "#9c179e"
             ],
             [
              0.4444444444444444,
              "#bd3786"
             ],
             [
              0.5555555555555556,
              "#d8576b"
             ],
             [
              0.6666666666666666,
              "#ed7953"
             ],
             [
              0.7777777777777778,
              "#fb9f3a"
             ],
             [
              0.8888888888888888,
              "#fdca26"
             ],
             [
              1,
              "#f0f921"
             ]
            ],
            "type": "histogram2d"
           }
          ],
          "histogram2dcontour": [
           {
            "colorbar": {
             "outlinewidth": 0,
             "ticks": ""
            },
            "colorscale": [
             [
              0,
              "#0d0887"
             ],
             [
              0.1111111111111111,
              "#46039f"
             ],
             [
              0.2222222222222222,
              "#7201a8"
             ],
             [
              0.3333333333333333,
              "#9c179e"
             ],
             [
              0.4444444444444444,
              "#bd3786"
             ],
             [
              0.5555555555555556,
              "#d8576b"
             ],
             [
              0.6666666666666666,
              "#ed7953"
             ],
             [
              0.7777777777777778,
              "#fb9f3a"
             ],
             [
              0.8888888888888888,
              "#fdca26"
             ],
             [
              1,
              "#f0f921"
             ]
            ],
            "type": "histogram2dcontour"
           }
          ],
          "mesh3d": [
           {
            "colorbar": {
             "outlinewidth": 0,
             "ticks": ""
            },
            "type": "mesh3d"
           }
          ],
          "parcoords": [
           {
            "line": {
             "colorbar": {
              "outlinewidth": 0,
              "ticks": ""
             }
            },
            "type": "parcoords"
           }
          ],
          "pie": [
           {
            "automargin": true,
            "type": "pie"
           }
          ],
          "scatter": [
           {
            "fillpattern": {
             "fillmode": "overlay",
             "size": 10,
             "solidity": 0.2
            },
            "type": "scatter"
           }
          ],
          "scatter3d": [
           {
            "line": {
             "colorbar": {
              "outlinewidth": 0,
              "ticks": ""
             }
            },
            "marker": {
             "colorbar": {
              "outlinewidth": 0,
              "ticks": ""
             }
            },
            "type": "scatter3d"
           }
          ],
          "scattercarpet": [
           {
            "marker": {
             "colorbar": {
              "outlinewidth": 0,
              "ticks": ""
             }
            },
            "type": "scattercarpet"
           }
          ],
          "scattergeo": [
           {
            "marker": {
             "colorbar": {
              "outlinewidth": 0,
              "ticks": ""
             }
            },
            "type": "scattergeo"
           }
          ],
          "scattergl": [
           {
            "marker": {
             "colorbar": {
              "outlinewidth": 0,
              "ticks": ""
             }
            },
            "type": "scattergl"
           }
          ],
          "scattermap": [
           {
            "marker": {
             "colorbar": {
              "outlinewidth": 0,
              "ticks": ""
             }
            },
            "type": "scattermap"
           }
          ],
          "scattermapbox": [
           {
            "marker": {
             "colorbar": {
              "outlinewidth": 0,
              "ticks": ""
             }
            },
            "type": "scattermapbox"
           }
          ],
          "scatterpolar": [
           {
            "marker": {
             "colorbar": {
              "outlinewidth": 0,
              "ticks": ""
             }
            },
            "type": "scatterpolar"
           }
          ],
          "scatterpolargl": [
           {
            "marker": {
             "colorbar": {
              "outlinewidth": 0,
              "ticks": ""
             }
            },
            "type": "scatterpolargl"
           }
          ],
          "scatterternary": [
           {
            "marker": {
             "colorbar": {
              "outlinewidth": 0,
              "ticks": ""
             }
            },
            "type": "scatterternary"
           }
          ],
          "surface": [
           {
            "colorbar": {
             "outlinewidth": 0,
             "ticks": ""
            },
            "colorscale": [
             [
              0,
              "#0d0887"
             ],
             [
              0.1111111111111111,
              "#46039f"
             ],
             [
              0.2222222222222222,
              "#7201a8"
             ],
             [
              0.3333333333333333,
              "#9c179e"
             ],
             [
              0.4444444444444444,
              "#bd3786"
             ],
             [
              0.5555555555555556,
              "#d8576b"
             ],
             [
              0.6666666666666666,
              "#ed7953"
             ],
             [
              0.7777777777777778,
              "#fb9f3a"
             ],
             [
              0.8888888888888888,
              "#fdca26"
             ],
             [
              1,
              "#f0f921"
             ]
            ],
            "type": "surface"
           }
          ],
          "table": [
           {
            "cells": {
             "fill": {
              "color": "#EBF0F8"
             },
             "line": {
              "color": "white"
             }
            },
            "header": {
             "fill": {
              "color": "#C8D4E3"
             },
             "line": {
              "color": "white"
             }
            },
            "type": "table"
           }
          ]
         },
         "layout": {
          "annotationdefaults": {
           "arrowcolor": "#2a3f5f",
           "arrowhead": 0,
           "arrowwidth": 1
          },
          "autotypenumbers": "strict",
          "coloraxis": {
           "colorbar": {
            "outlinewidth": 0,
            "ticks": ""
           }
          },
          "colorscale": {
           "diverging": [
            [
             0,
             "#8e0152"
            ],
            [
             0.1,
             "#c51b7d"
            ],
            [
             0.2,
             "#de77ae"
            ],
            [
             0.3,
             "#f1b6da"
            ],
            [
             0.4,
             "#fde0ef"
            ],
            [
             0.5,
             "#f7f7f7"
            ],
            [
             0.6,
             "#e6f5d0"
            ],
            [
             0.7,
             "#b8e186"
            ],
            [
             0.8,
             "#7fbc41"
            ],
            [
             0.9,
             "#4d9221"
            ],
            [
             1,
             "#276419"
            ]
           ],
           "sequential": [
            [
             0,
             "#0d0887"
            ],
            [
             0.1111111111111111,
             "#46039f"
            ],
            [
             0.2222222222222222,
             "#7201a8"
            ],
            [
             0.3333333333333333,
             "#9c179e"
            ],
            [
             0.4444444444444444,
             "#bd3786"
            ],
            [
             0.5555555555555556,
             "#d8576b"
            ],
            [
             0.6666666666666666,
             "#ed7953"
            ],
            [
             0.7777777777777778,
             "#fb9f3a"
            ],
            [
             0.8888888888888888,
             "#fdca26"
            ],
            [
             1,
             "#f0f921"
            ]
           ],
           "sequentialminus": [
            [
             0,
             "#0d0887"
            ],
            [
             0.1111111111111111,
             "#46039f"
            ],
            [
             0.2222222222222222,
             "#7201a8"
            ],
            [
             0.3333333333333333,
             "#9c179e"
            ],
            [
             0.4444444444444444,
             "#bd3786"
            ],
            [
             0.5555555555555556,
             "#d8576b"
            ],
            [
             0.6666666666666666,
             "#ed7953"
            ],
            [
             0.7777777777777778,
             "#fb9f3a"
            ],
            [
             0.8888888888888888,
             "#fdca26"
            ],
            [
             1,
             "#f0f921"
            ]
           ]
          },
          "colorway": [
           "#636efa",
           "#EF553B",
           "#00cc96",
           "#ab63fa",
           "#FFA15A",
           "#19d3f3",
           "#FF6692",
           "#B6E880",
           "#FF97FF",
           "#FECB52"
          ],
          "font": {
           "color": "#2a3f5f"
          },
          "geo": {
           "bgcolor": "white",
           "lakecolor": "white",
           "landcolor": "#E5ECF6",
           "showlakes": true,
           "showland": true,
           "subunitcolor": "white"
          },
          "hoverlabel": {
           "align": "left"
          },
          "hovermode": "closest",
          "mapbox": {
           "style": "light"
          },
          "paper_bgcolor": "white",
          "plot_bgcolor": "#E5ECF6",
          "polar": {
           "angularaxis": {
            "gridcolor": "white",
            "linecolor": "white",
            "ticks": ""
           },
           "bgcolor": "#E5ECF6",
           "radialaxis": {
            "gridcolor": "white",
            "linecolor": "white",
            "ticks": ""
           }
          },
          "scene": {
           "xaxis": {
            "backgroundcolor": "#E5ECF6",
            "gridcolor": "white",
            "gridwidth": 2,
            "linecolor": "white",
            "showbackground": true,
            "ticks": "",
            "zerolinecolor": "white"
           },
           "yaxis": {
            "backgroundcolor": "#E5ECF6",
            "gridcolor": "white",
            "gridwidth": 2,
            "linecolor": "white",
            "showbackground": true,
            "ticks": "",
            "zerolinecolor": "white"
           },
           "zaxis": {
            "backgroundcolor": "#E5ECF6",
            "gridcolor": "white",
            "gridwidth": 2,
            "linecolor": "white",
            "showbackground": true,
            "ticks": "",
            "zerolinecolor": "white"
           }
          },
          "shapedefaults": {
           "line": {
            "color": "#2a3f5f"
           }
          },
          "ternary": {
           "aaxis": {
            "gridcolor": "white",
            "linecolor": "white",
            "ticks": ""
           },
           "baxis": {
            "gridcolor": "white",
            "linecolor": "white",
            "ticks": ""
           },
           "bgcolor": "#E5ECF6",
           "caxis": {
            "gridcolor": "white",
            "linecolor": "white",
            "ticks": ""
           }
          },
          "title": {
           "x": 0.05
          },
          "xaxis": {
           "automargin": true,
           "gridcolor": "white",
           "linecolor": "white",
           "ticks": "",
           "title": {
            "standoff": 15
           },
           "zerolinecolor": "white",
           "zerolinewidth": 2
          },
          "yaxis": {
           "automargin": true,
           "gridcolor": "white",
           "linecolor": "white",
           "ticks": "",
           "title": {
            "standoff": 15
           },
           "zerolinecolor": "white",
           "zerolinewidth": 2
          }
         }
        }
       }
      }
     },
     "metadata": {},
     "output_type": "display_data"
    }
   ],
   "source": [
    "# Graficar los embedddings en 3D\n",
    "\n",
    "vecs, labels = reduce_dimensions(w2v_model,3)\n",
    "\n",
    "fig = px.scatter_3d(x=vecs[:MAX_WORDS,0], y=vecs[:MAX_WORDS,1], z=vecs[:MAX_WORDS,2],text=labels[:MAX_WORDS])\n",
    "fig.update_traces(marker_size = 2)\n",
    "fig.show() # esto para plotly en colab"
   ]
  },
  {
   "cell_type": "code",
   "execution_count": null,
   "metadata": {},
   "outputs": [],
   "source": [
    "# También se pueden guardar los vectores y labels como tsv para graficar en\n",
    "# http://projector.tensorflow.org/\n",
    "\n",
    "\n",
    "vectors = np.asarray(w2v_model.wv.vectors)\n",
    "labels = list(w2v_model.wv.index_to_key)\n",
    "\n",
    "np.savetxt(\"vectors.tsv\", vectors, delimiter=\"\\t\")\n",
    "\n",
    "with open(\"labels.tsv\", \"w\") as fp:\n",
    "    for item in labels:\n",
    "        fp.write(\"%s\\n\" % item)"
   ]
  },
  {
   "cell_type": "markdown",
   "metadata": {
    "id": "yMM_SHSaZ9N-"
   },
   "source": [
    "### Alumno"
   ]
  },
  {
   "cell_type": "markdown",
   "metadata": {
    "id": "WivQZ3ZCZ9N_"
   },
   "source": [
    "- Crear sus propios vectores con Gensim basado en lo visto en clase con otro dataset.\n",
    "- Probar términos de interés y explicar similitudes en el espacio de embeddings (sacar conclusiones entre palabras similitudes y diferencias).\n",
    "- Graficarlos.\n",
    "- Obtener conclusiones."
   ]
  }
 ],
 "metadata": {
  "colab": {
   "collapsed_sections": [],
   "provenance": []
  },
  "kernelspec": {
   "display_name": "nlp-ejercicios",
   "language": "python",
   "name": "python3"
  },
  "language_info": {
   "codemirror_mode": {
    "name": "ipython",
    "version": 3
   },
   "file_extension": ".py",
   "mimetype": "text/x-python",
   "name": "python",
   "nbconvert_exporter": "python",
   "pygments_lexer": "ipython3",
   "version": "3.11.11"
  }
 },
 "nbformat": 4,
 "nbformat_minor": 4
}
