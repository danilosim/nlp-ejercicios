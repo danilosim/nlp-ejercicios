{
 "cells": [
  {
   "cell_type": "markdown",
   "metadata": {
    "id": "vA7nqkumo9z9"
   },
   "source": [
    "### Objetivo\n",
    "El objetivo es utilizar documentos / corpus para crear embeddings de palabras basado en ese contexto. Se utilizará canciones de bandas para generar los embeddings, es decir, que los vectores tendrán la forma en función de como esa banda haya utilizado las palabras en sus canciones."
   ]
  },
  {
   "cell_type": "code",
   "execution_count": 2,
   "metadata": {
    "id": "lFToQs5FK5uZ"
   },
   "outputs": [],
   "source": [
    "import pandas as pd\n",
    "import matplotlib.pyplot as plt\n",
    "import seaborn as sns\n",
    "\n",
    "import multiprocessing\n",
    "from gensim.models import Word2Vec"
   ]
  },
  {
   "cell_type": "markdown",
   "metadata": {
    "id": "g07zJxG7H9vG"
   },
   "source": [
    "### Datos\n",
    "Utilizaremos como dataset canciones de bandas de habla inglesa."
   ]
  },
  {
   "cell_type": "code",
   "execution_count": 3,
   "metadata": {
    "id": "l7z4CSBfpR3X"
   },
   "outputs": [
    {
     "name": "stdout",
     "output_type": "stream",
     "text": [
      "El dataset ya se encuentra descargado\n"
     ]
    }
   ],
   "source": [
    "# Descargar la carpeta de dataset\n",
    "import os\n",
    "import platform\n",
    "if os.access('./songs_dataset', os.F_OK) is False:\n",
    "    if os.access('songs_dataset.zip', os.F_OK) is False:\n",
    "        !curl https://raw.githubusercontent.com/FIUBA-Posgrado-Inteligencia-Artificial/procesamiento_lenguaje_natural/main/datasets/songs_dataset.zip -o songs_dataset.zip\n",
    "    !unzip -q songs_dataset.zip   \n",
    "else:\n",
    "    print(\"El dataset ya se encuentra descargado\")"
   ]
  },
  {
   "cell_type": "code",
   "execution_count": 4,
   "metadata": {
    "id": "mysGrIw9ljC2"
   },
   "outputs": [
    {
     "data": {
      "text/plain": [
       "['prince.txt',\n",
       " 'dickinson.txt',\n",
       " 'notorious-big.txt',\n",
       " 'beatles.txt',\n",
       " 'bob-dylan.txt',\n",
       " 'bjork.txt',\n",
       " 'johnny-cash.txt',\n",
       " 'disney.txt',\n",
       " 'janisjoplin.txt',\n",
       " 'kanye.txt',\n",
       " 'bob-marley.txt',\n",
       " 'leonard-cohen.txt',\n",
       " 'ludacris.txt',\n",
       " 'adele.txt',\n",
       " 'alicia-keys.txt',\n",
       " 'joni-mitchell.txt',\n",
       " 'amy-winehouse.txt',\n",
       " 'lorde.txt',\n",
       " 'rihanna.txt',\n",
       " 'Kanye_West.txt',\n",
       " 'nirvana.txt',\n",
       " 'cake.txt',\n",
       " 'bieber.txt',\n",
       " 'notorious_big.txt',\n",
       " 'missy-elliott.txt',\n",
       " 'dolly-parton.txt',\n",
       " 'jimi-hendrix.txt',\n",
       " 'michael-jackson.txt',\n",
       " 'al-green.txt',\n",
       " 'lil-wayne.txt',\n",
       " 'lady-gaga.txt',\n",
       " 'lin-manuel-miranda.txt',\n",
       " 'nursery_rhymes.txt',\n",
       " 'dj-khaled.txt',\n",
       " 'radiohead.txt',\n",
       " 'patti-smith.txt',\n",
       " 'blink-182.txt',\n",
       " 'Lil_Wayne.txt',\n",
       " 'dr-seuss.txt',\n",
       " 'r-kelly.txt',\n",
       " 'drake.txt',\n",
       " 'britney-spears.txt',\n",
       " 'bruce-springsteen.txt',\n",
       " 'nicki-minaj.txt',\n",
       " 'kanye-west.txt',\n",
       " 'paul-simon.txt',\n",
       " 'nickelback.txt',\n",
       " 'eminem.txt',\n",
       " 'bruno-mars.txt']"
      ]
     },
     "execution_count": 4,
     "metadata": {},
     "output_type": "execute_result"
    }
   ],
   "source": [
    "# Posibles bandas\n",
    "os.listdir(\"./songs_dataset/\")"
   ]
  },
  {
   "cell_type": "code",
   "execution_count": 34,
   "metadata": {
    "id": "ticoqYD1Z3I7"
   },
   "outputs": [
    {
     "name": "stderr",
     "output_type": "stream",
     "text": [
      "/var/folders/ml/gmqmyfhd39bc7mggbpwznw0r0000gn/T/ipykernel_24433/2070319298.py:2: ParserWarning:\n",
      "\n",
      "Falling back to the 'python' engine because the 'c' engine does not support regex separators (separators > 1 char and different from '\\s+' are interpreted as regex); you can avoid this warning by specifying engine='python'.\n",
      "\n",
      "/var/folders/ml/gmqmyfhd39bc7mggbpwznw0r0000gn/T/ipykernel_24433/2070319298.py:3: ParserWarning:\n",
      "\n",
      "Falling back to the 'python' engine because the 'c' engine does not support regex separators (separators > 1 char and different from '\\s+' are interpreted as regex); you can avoid this warning by specifying engine='python'.\n",
      "\n",
      "/var/folders/ml/gmqmyfhd39bc7mggbpwznw0r0000gn/T/ipykernel_24433/2070319298.py:4: ParserWarning:\n",
      "\n",
      "Falling back to the 'python' engine because the 'c' engine does not support regex separators (separators > 1 char and different from '\\s+' are interpreted as regex); you can avoid this warning by specifying engine='python'.\n",
      "\n"
     ]
    },
    {
     "data": {
      "text/html": [
       "<div>\n",
       "<style scoped>\n",
       "    .dataframe tbody tr th:only-of-type {\n",
       "        vertical-align: middle;\n",
       "    }\n",
       "\n",
       "    .dataframe tbody tr th {\n",
       "        vertical-align: top;\n",
       "    }\n",
       "\n",
       "    .dataframe thead th {\n",
       "        text-align: right;\n",
       "    }\n",
       "</style>\n",
       "<table border=\"1\" class=\"dataframe\">\n",
       "  <thead>\n",
       "    <tr style=\"text-align: right;\">\n",
       "      <th></th>\n",
       "      <th>0</th>\n",
       "    </tr>\n",
       "  </thead>\n",
       "  <tbody>\n",
       "    <tr>\n",
       "      <th>0</th>\n",
       "      <td>N-now th-that that don't kill me</td>\n",
       "    </tr>\n",
       "    <tr>\n",
       "      <th>1</th>\n",
       "      <td>Can only make me stronger</td>\n",
       "    </tr>\n",
       "    <tr>\n",
       "      <th>2</th>\n",
       "      <td>I need you to hurry up now</td>\n",
       "    </tr>\n",
       "    <tr>\n",
       "      <th>3</th>\n",
       "      <td>Cause I can't wait much longer</td>\n",
       "    </tr>\n",
       "    <tr>\n",
       "      <th>4</th>\n",
       "      <td>I know I got to be right now</td>\n",
       "    </tr>\n",
       "  </tbody>\n",
       "</table>\n",
       "</div>"
      ],
      "text/plain": [
       "                                  0\n",
       "0  N-now th-that that don't kill me\n",
       "1         Can only make me stronger\n",
       "2        I need you to hurry up now\n",
       "3    Cause I can't wait much longer\n",
       "4      I know I got to be right now"
      ]
     },
     "execution_count": 34,
     "metadata": {},
     "output_type": "execute_result"
    }
   ],
   "source": [
    "# Armar el dataset utilizando salto de línea para separar las oraciones/docs\n",
    "df = pd.read_csv('songs_dataset/kanye.txt', sep='/n', header=None)\n",
    "df = pd.concat([df, pd.read_csv('songs_dataset/Kanye_West.txt', sep='/n', header=None)])\n",
    "df = pd.concat([df, pd.read_csv('songs_dataset/kanye-west.txt', sep='/n', header=None)])\n",
    "df.head()"
   ]
  },
  {
   "cell_type": "markdown",
   "metadata": {},
   "source": [
    "Vamos a usar el dataset de canciones de Kanye West"
   ]
  },
  {
   "cell_type": "code",
   "execution_count": 35,
   "metadata": {
    "id": "LEpKubK9XzXN"
   },
   "outputs": [
    {
     "name": "stdout",
     "output_type": "stream",
     "text": [
      "Cantidad de documentos: 16170\n"
     ]
    }
   ],
   "source": [
    "print(\"Cantidad de documentos:\", df.shape[0])"
   ]
  },
  {
   "cell_type": "markdown",
   "metadata": {
    "id": "ab94qaFlrA1G"
   },
   "source": [
    "### 1 - Preprocesamiento"
   ]
  },
  {
   "cell_type": "code",
   "execution_count": 36,
   "metadata": {
    "id": "rIsmMWmjrDHd"
   },
   "outputs": [],
   "source": [
    "from tensorflow.keras.preprocessing.text import text_to_word_sequence\n",
    "\n",
    "sentence_tokens = []\n",
    "# Recorrer todas las filas y transformar las oraciones\n",
    "# en una secuencia de palabras (esto podría realizarse con NLTK o spaCy también)\n",
    "for _, row in df[:None].iterrows():\n",
    "    sentence_tokens.append(text_to_word_sequence(row[0]))"
   ]
  },
  {
   "cell_type": "code",
   "execution_count": 37,
   "metadata": {
    "id": "CHepi_DGrbhq"
   },
   "outputs": [
    {
     "data": {
      "text/plain": [
       "[['n', 'now', 'th', 'that', 'that', \"don't\", 'kill', 'me'],\n",
       " ['can', 'only', 'make', 'me', 'stronger']]"
      ]
     },
     "execution_count": 37,
     "metadata": {},
     "output_type": "execute_result"
    }
   ],
   "source": [
    "# Demos un vistazo\n",
    "sentence_tokens[:2]"
   ]
  },
  {
   "cell_type": "markdown",
   "metadata": {
    "id": "BaXV6nlHr5Aa"
   },
   "source": [
    "### 2 - Crear los vectores (word2vec)"
   ]
  },
  {
   "cell_type": "code",
   "execution_count": 38,
   "metadata": {
    "id": "OSb0v7h8r7hK"
   },
   "outputs": [],
   "source": [
    "from gensim.models.callbacks import CallbackAny2Vec\n",
    "# Durante el entrenamiento gensim por defecto no informa el \"loss\" en cada época\n",
    "# Sobrecargamos el callback para poder tener esta información\n",
    "class callback(CallbackAny2Vec):\n",
    "    \"\"\"\n",
    "    Callback to print loss after each epoch\n",
    "    \"\"\"\n",
    "    def __init__(self):\n",
    "        self.epoch = 0\n",
    "\n",
    "    def on_epoch_end(self, model):\n",
    "        loss = model.get_latest_training_loss()\n",
    "        if self.epoch == 0:\n",
    "            print('Loss after epoch {}: {}'.format(self.epoch, loss))\n",
    "        else:\n",
    "            print('Loss after epoch {}: {}'.format(self.epoch, loss- self.loss_previous_step))\n",
    "        self.epoch += 1\n",
    "        self.loss_previous_step = loss"
   ]
  },
  {
   "cell_type": "code",
   "execution_count": 39,
   "metadata": {
    "id": "i0wnDdv9sJ47"
   },
   "outputs": [],
   "source": [
    "# Crearmos el modelo generador de vectores\n",
    "# En este caso utilizaremos la estructura modelo Skipgram\n",
    "w2v_model = Word2Vec(min_count=5,    # frecuencia mínima de palabra para incluirla en el vocabulario\n",
    "                     window=2,       # cant de palabras antes y desp de la predicha\n",
    "                     vector_size=300,       # dimensionalidad de los vectores \n",
    "                     negative=20,    # cantidad de negative samples... 0 es no se usa\n",
    "                     workers=1,      # si tienen más cores pueden cambiar este valor\n",
    "                     sg=1)           # modelo 0:CBOW  1:skipgram"
   ]
  },
  {
   "cell_type": "code",
   "execution_count": 45,
   "metadata": {
    "id": "5lTt8wErsf17"
   },
   "outputs": [],
   "source": [
    "# Obtener el vocabulario con los tokens\n",
    "w2v_model.build_vocab(sentence_tokens)"
   ]
  },
  {
   "cell_type": "code",
   "execution_count": 46,
   "metadata": {
    "id": "TNc9qt4os5AT"
   },
   "outputs": [
    {
     "name": "stdout",
     "output_type": "stream",
     "text": [
      "Cantidad de docs en el corpus: 16170\n"
     ]
    }
   ],
   "source": [
    "# Cantidad de filas/docs encontradas en el corpus\n",
    "print(\"Cantidad de docs en el corpus:\", w2v_model.corpus_count)"
   ]
  },
  {
   "cell_type": "code",
   "execution_count": 47,
   "metadata": {
    "id": "idw9cHF3tSMl"
   },
   "outputs": [
    {
     "name": "stdout",
     "output_type": "stream",
     "text": [
      "Cantidad de words distintas en el corpus: 2303\n"
     ]
    }
   ],
   "source": [
    "# Cantidad de words encontradas en el corpus\n",
    "print(\"Cantidad de words distintas en el corpus:\", len(w2v_model.wv.index_to_key))"
   ]
  },
  {
   "cell_type": "markdown",
   "metadata": {
    "id": "fC9mZ8DPk-UC"
   },
   "source": [
    "### 3 - Entrenar embeddings"
   ]
  },
  {
   "cell_type": "code",
   "execution_count": 48,
   "metadata": {
    "id": "QSp-x0PAsq56"
   },
   "outputs": [
    {
     "name": "stdout",
     "output_type": "stream",
     "text": [
      "Loss after epoch 0: 754229.3125\n",
      "Loss after epoch 1: 610867.1875\n",
      "Loss after epoch 2: 555751.375\n",
      "Loss after epoch 3: 509525.375\n",
      "Loss after epoch 4: 490145.5\n",
      "Loss after epoch 5: 478287.5\n",
      "Loss after epoch 6: 472097.0\n",
      "Loss after epoch 7: 457186.25\n",
      "Loss after epoch 8: 432811.5\n",
      "Loss after epoch 9: 428484.5\n",
      "Loss after epoch 10: 424174.5\n",
      "Loss after epoch 11: 422687.0\n",
      "Loss after epoch 12: 419850.5\n",
      "Loss after epoch 13: 418317.0\n",
      "Loss after epoch 14: 417619.5\n",
      "Loss after epoch 15: 415033.0\n",
      "Loss after epoch 16: 414518.5\n",
      "Loss after epoch 17: 401306.5\n",
      "Loss after epoch 18: 380295.0\n",
      "Loss after epoch 19: 380038.0\n",
      "Loss after epoch 20: 376738.0\n",
      "Loss after epoch 21: 376163.0\n",
      "Loss after epoch 22: 373554.0\n",
      "Loss after epoch 23: 373226.0\n",
      "Loss after epoch 24: 372293.0\n",
      "Loss after epoch 25: 370157.0\n",
      "Loss after epoch 26: 368527.0\n",
      "Loss after epoch 27: 367685.0\n",
      "Loss after epoch 28: 365853.0\n",
      "Loss after epoch 29: 365298.0\n",
      "Loss after epoch 30: 363608.0\n",
      "Loss after epoch 31: 362783.0\n",
      "Loss after epoch 32: 362758.0\n",
      "Loss after epoch 33: 359054.0\n",
      "Loss after epoch 34: 358052.0\n",
      "Loss after epoch 35: 358860.0\n",
      "Loss after epoch 36: 357927.0\n",
      "Loss after epoch 37: 355818.0\n",
      "Loss after epoch 38: 356190.0\n",
      "Loss after epoch 39: 352301.0\n",
      "Loss after epoch 40: 335370.0\n",
      "Loss after epoch 41: 315388.0\n",
      "Loss after epoch 42: 315510.0\n",
      "Loss after epoch 43: 312684.0\n",
      "Loss after epoch 44: 311164.0\n",
      "Loss after epoch 45: 311450.0\n",
      "Loss after epoch 46: 308910.0\n",
      "Loss after epoch 47: 308436.0\n",
      "Loss after epoch 48: 306926.0\n",
      "Loss after epoch 49: 307318.0\n"
     ]
    },
    {
     "data": {
      "text/plain": [
       "(4362701, 6662900)"
      ]
     },
     "execution_count": 48,
     "metadata": {},
     "output_type": "execute_result"
    }
   ],
   "source": [
    "# Entrenamos el modelo generador de vectores\n",
    "# Utilizamos nuestro callback\n",
    "w2v_model.train(sentence_tokens,\n",
    "                 total_examples=w2v_model.corpus_count,\n",
    "                 epochs=50,\n",
    "                 compute_loss = True,\n",
    "                 callbacks=[callback()]\n",
    "                 )"
   ]
  },
  {
   "cell_type": "markdown",
   "metadata": {
    "id": "ddT9NVuNlCAe"
   },
   "source": [
    "### 4 - Ensayar"
   ]
  },
  {
   "cell_type": "code",
   "execution_count": 49,
   "metadata": {
    "id": "6cHN9xGLuPEm"
   },
   "outputs": [
    {
     "data": {
      "text/plain": [
       "[('bike', 0.3482590317726135),\n",
       " ('blame', 0.3426142930984497),\n",
       " ('wronger', 0.3407529890537262),\n",
       " ('seem', 0.3330535292625427),\n",
       " ('lockdown', 0.33089980483055115),\n",
       " ('peoples', 0.3243332803249359),\n",
       " ('recall', 0.3172752857208252),\n",
       " ('dudes', 0.3134351372718811),\n",
       " ('judge', 0.3094424903392792),\n",
       " ('couture', 0.30928218364715576)]"
      ]
     },
     "execution_count": 49,
     "metadata": {},
     "output_type": "execute_result"
    }
   ],
   "source": [
    "# Palabras que MÁS se relacionan con...:\n",
    "w2v_model.wv.most_similar(positive=[\"love\"], topn=10)"
   ]
  },
  {
   "cell_type": "markdown",
   "metadata": {},
   "source": [
    "Con esto podemos ver que palabras como love se relacionan con blame, wronger, lockdown, etc. Todas palabras que en el contexto de las canciones de Kanye West tienen una connotación negativa."
   ]
  },
  {
   "cell_type": "code",
   "execution_count": 62,
   "metadata": {
    "id": "47HiU5gdkdMq"
   },
   "outputs": [
    {
     "data": {
      "text/plain": [
       "[('u', -0.005728171672672033),\n",
       " ('hotel', -0.008979514241218567),\n",
       " ('copped', -0.011036550626158714),\n",
       " ('ones', -0.03288609907031059),\n",
       " ('label', -0.033720895648002625),\n",
       " ('women', -0.04091444984078407),\n",
       " ('grind', -0.04176895692944527),\n",
       " ('plate', -0.04758397862315178),\n",
       " ('children', -0.04801640659570694),\n",
       " ('summertime', -0.05179606378078461)]"
      ]
     },
     "execution_count": 62,
     "metadata": {},
     "output_type": "execute_result"
    }
   ],
   "source": [
    "# Palabras que MENOS se relacionan con...:\n",
    "w2v_model.wv.most_similar(negative=[\"love\"], topn=10)"
   ]
  },
  {
   "cell_type": "markdown",
   "metadata": {},
   "source": [
    "Algo que podemos sacar de esta comparación de la palabra \"love\" con las palabras menos similares, es que aparece la palabra \"women\", por lo que podemos inferir que casi nunca se habla de amor en el contexto de las mujeres en las canciones de Kanye West."
   ]
  },
  {
   "cell_type": "code",
   "execution_count": 63,
   "metadata": {
    "id": "DT4Rvno2mD65"
   },
   "outputs": [
    {
     "data": {
      "text/plain": [
       "[('n', 0.5179175138473511),\n",
       " ('fail', 0.40852048993110657),\n",
       " ('faster', 0.39622068405151367),\n",
       " ('harder', 0.3953496515750885),\n",
       " ('anybody', 0.39364510774612427),\n",
       " ('th', 0.39095115661621094),\n",
       " ('mayonnaise', 0.37812143564224243),\n",
       " ('ma', 0.3777454197406769),\n",
       " ('run', 0.3686571717262268),\n",
       " ('knees', 0.36519381403923035)]"
      ]
     },
     "execution_count": 63,
     "metadata": {},
     "output_type": "execute_result"
    }
   ],
   "source": [
    "# Palabras que MÁS se relacionan con...:\n",
    "w2v_model.wv.most_similar(positive=[\"stronger\"], topn=10)"
   ]
  },
  {
   "cell_type": "code",
   "execution_count": 64,
   "metadata": {
    "id": "XPLDPgzBmQXt"
   },
   "outputs": [
    {
     "data": {
      "text/plain": [
       "[('joke', 0.3136986494064331),\n",
       " ('paradigm', 0.30123090744018555),\n",
       " ('ello', 0.30081257224082947),\n",
       " ('put', 0.2992168664932251),\n",
       " ('flashing', 0.2971089780330658)]"
      ]
     },
     "execution_count": 64,
     "metadata": {},
     "output_type": "execute_result"
    }
   ],
   "source": [
    "# Palabras que MÁS se relacionan con...:\n",
    "w2v_model.wv.most_similar(positive=[\"need\"], topn=5)"
   ]
  },
  {
   "cell_type": "code",
   "execution_count": 67,
   "metadata": {
    "id": "L_UvHPMMklOr"
   },
   "outputs": [
    {
     "data": {
      "text/plain": [
       "[('satisfied', 0.026746604591608047),\n",
       " ('met', -0.009308302775025368),\n",
       " ('cousins', -0.017366500571370125),\n",
       " ('any', -0.01783943735063076),\n",
       " ('baddest', -0.023940591141581535),\n",
       " ('trips', -0.027956059202551842),\n",
       " ('had', -0.03290630504488945),\n",
       " ('atlanta', -0.035806212574243546),\n",
       " ('other', -0.03853766992688179),\n",
       " ('theme', -0.041522979736328125)]"
      ]
     },
     "execution_count": 67,
     "metadata": {},
     "output_type": "execute_result"
    }
   ],
   "source": [
    "# Palabras que MENOS se relacionan con...:\n",
    "w2v_model.wv.most_similar(negative=[\"police\"])"
   ]
  },
  {
   "cell_type": "code",
   "execution_count": 68,
   "metadata": {},
   "outputs": [
    {
     "name": "stdout",
     "output_type": "stream",
     "text": [
      "[-0.31212252 -0.11257433  0.7584697   0.10845624  0.35580492  0.71279186\n",
      " -0.09605224  0.6047854  -0.22640601 -0.2909778   0.3572329  -0.72795266\n",
      " -0.00695828  0.21321659 -0.48813272 -0.06538494  0.20967233 -0.39311755\n",
      "  0.7977855   0.3295214  -0.22386101 -0.07906915 -0.11005306  1.0903326\n",
      " -0.09763583 -0.11994542  0.05128441 -0.43061754 -0.15013023 -0.35233253\n",
      " -1.108348    0.58065027 -0.2693319  -0.07097553 -0.26919138  0.01157808\n",
      " -0.39763308  0.35213825 -0.7743042   0.4324203   0.13418308  0.8106665\n",
      " -0.55857     0.243782    0.19409558  0.1119362  -0.30440572  0.8455403\n",
      "  0.42485243  0.704425    0.25199723 -0.19773112 -0.04633939 -0.717621\n",
      "  0.53777254  0.3126517   0.86628544  0.29579952 -0.04591222  0.05310382\n",
      "  0.64539033 -0.17120045  0.2805235  -0.26253402  0.22329943 -0.31737912\n",
      "  0.50185555  0.62668496 -0.2792441   0.8492668  -0.02900762  0.43942192\n",
      "  0.32180718 -0.5005264  -0.14574918  0.43660337  0.4852426  -0.20742235\n",
      " -0.16941598  0.22811897 -0.15815803  0.36682537 -0.34041762  0.02674762\n",
      "  0.32042938 -0.0209656   0.2152665   0.1778409  -0.3507776   0.12459029\n",
      "  0.2824784  -0.34746432  0.90848565  0.7771153   0.5142687   0.50900143\n",
      "  0.9479238  -0.47122687  0.56577784  0.25797355 -0.25481367 -0.18906839\n",
      " -0.10091728  0.08161637  0.38681757 -0.01059521 -0.51545703  0.5919165\n",
      " -0.38433316  0.81530845 -0.19862312  0.17566746 -0.46575782 -0.19247699\n",
      "  0.43787    -0.00765559  0.04169175 -0.5789495  -0.2531584  -0.15822913\n",
      " -0.17831615  0.4471938   1.0019435   0.07204491  0.1609537   0.3691534\n",
      " -0.80596966 -0.416315    0.50209844  0.7736107   0.5369137   1.0777742\n",
      " -0.40853024 -0.43702802 -0.5900427  -0.31839395 -0.05070122  0.32706857\n",
      " -0.33567712 -0.60570717  0.6747699  -0.87577045 -0.6552402   0.30177444\n",
      "  0.4429769  -0.24812809  0.23732036 -0.4741622   0.09389226  0.34190953\n",
      " -0.33590472 -0.55803204  0.17851612 -0.917796   -0.31061435 -0.63917077\n",
      " -0.20470282 -0.10044938 -0.57962275 -0.27869305  0.081608   -0.04674511\n",
      " -0.59574664  0.3291341  -0.23719423 -0.78451574  0.19094057  0.27035964\n",
      " -0.32229838 -0.56174755 -0.25109586  0.10873774 -0.04745107  0.44065812\n",
      " -0.52084446  0.66504735 -0.13445453 -0.46248844 -0.11142163  0.8955316\n",
      "  0.00379645  0.21524107 -0.18798947 -0.05939336  0.16044757  0.7636381\n",
      " -0.20426205  0.23068902 -0.7094495  -0.02666788 -0.493081    0.64331216\n",
      " -0.5101895  -0.0810998   0.31856534  0.33897093  0.9405071   0.29932803\n",
      "  0.26666853  0.2919292   0.24080378  0.4173335  -0.06831218 -0.1878351\n",
      " -0.30527928  0.39610678 -0.74598473  0.1944134   0.07493545 -0.63623494\n",
      "  0.17631735  0.7681761   0.751625   -0.60046524  0.04739886 -0.10796984\n",
      " -0.7384194  -0.7893261  -0.39963657 -0.06892324  0.7618034  -0.06205225\n",
      "  0.33007202 -0.40661377 -1.0148661  -0.35591415  0.33884904 -0.28227603\n",
      "  0.347446   -0.22088163 -0.12930992 -0.09844283  0.10343929 -0.2988124\n",
      " -0.6711643  -0.3901071  -0.28572    -0.0177601   0.7556433  -0.10963151\n",
      " -0.1409616  -0.39416677  0.27181125 -0.03101834 -0.06145594 -0.54723436\n",
      " -0.27577052 -0.828961    0.03343222 -0.02016848  0.16356361  0.36812663\n",
      "  0.12562664  0.1300254  -0.01529346  0.16014685  0.4760332  -0.54006857\n",
      " -0.12166394 -0.46691453  0.29903254 -0.06067287  0.7552867  -0.21181796\n",
      "  0.2986803   0.7064978   0.04996292  0.34444723 -0.03314055  0.53442454\n",
      "  0.1991993   1.5702991   0.03606151  0.21962339 -0.30217922  0.5633763\n",
      "  0.68045545  0.42192736 -0.96094894 -0.21128808  0.69089365 -0.2657337\n",
      "  0.75779957  0.14343552 -0.34825933  0.54282176 -0.12697478  0.4560164\n",
      "  0.19995597  0.14200678  0.34863842 -0.16333844 -0.21244542  0.11851262\n",
      "  0.66512746 -0.13681921 -0.2342741   0.7473959   0.30410662  0.4021879 ]\n"
     ]
    }
   ],
   "source": [
    "# el método `get_vector` permite obtener los vectores:\n",
    "vector_love = w2v_model.wv.get_vector(\"dream\")\n",
    "print(vector_love)"
   ]
  },
  {
   "cell_type": "code",
   "execution_count": 69,
   "metadata": {},
   "outputs": [
    {
     "data": {
      "text/plain": [
       "[('dream', 1.0),\n",
       " ('hollerin', 0.3888697028160095),\n",
       " ('message', 0.3483738601207733),\n",
       " ('france', 0.34741002321243286),\n",
       " ('chillin', 0.3420707583427429),\n",
       " ('mali', 0.34016308188438416),\n",
       " ('selfish', 0.337076872587204),\n",
       " ('jordans', 0.33550071716308594),\n",
       " ('depends', 0.33533385396003723),\n",
       " ('happens', 0.32865288853645325)]"
      ]
     },
     "execution_count": 69,
     "metadata": {},
     "output_type": "execute_result"
    }
   ],
   "source": [
    "# el método `most_similar` también permite comparar a partir de vectores\n",
    "w2v_model.wv.most_similar(vector_love)"
   ]
  },
  {
   "cell_type": "code",
   "execution_count": 70,
   "metadata": {},
   "outputs": [
    {
     "data": {
      "text/plain": [
       "[('bike', 0.3482590317726135),\n",
       " ('blame', 0.3426142930984497),\n",
       " ('wronger', 0.3407529890537262),\n",
       " ('seem', 0.3330535292625427),\n",
       " ('lockdown', 0.33089980483055115),\n",
       " ('peoples', 0.3243332803249359),\n",
       " ('recall', 0.3172752857208252),\n",
       " ('dudes', 0.3134351372718811),\n",
       " ('judge', 0.3094424903392792),\n",
       " ('couture', 0.30928218364715576)]"
      ]
     },
     "execution_count": 70,
     "metadata": {},
     "output_type": "execute_result"
    }
   ],
   "source": [
    "# Palabras que MÁS se relacionan con...:\n",
    "w2v_model.wv.most_similar(positive=[\"love\"], topn=10)"
   ]
  },
  {
   "cell_type": "markdown",
   "metadata": {
    "id": "_g8UVWe6lFmh"
   },
   "source": [
    "### 5 - Visualizar agrupación de vectores"
   ]
  },
  {
   "cell_type": "code",
   "execution_count": 71,
   "metadata": {
    "id": "pDxEVXAivjr9"
   },
   "outputs": [],
   "source": [
    "from sklearn.decomposition import IncrementalPCA    \n",
    "from sklearn.manifold import TSNE                   \n",
    "import numpy as np                                  \n",
    "\n",
    "def reduce_dimensions(model, num_dimensions = 2 ):\n",
    "     \n",
    "    vectors = np.asarray(model.wv.vectors)\n",
    "    labels = np.asarray(model.wv.index_to_key)  \n",
    "\n",
    "    tsne = TSNE(n_components=num_dimensions, random_state=0)\n",
    "    vectors = tsne.fit_transform(vectors)\n",
    "\n",
    "    return vectors, labels"
   ]
  },
  {
   "cell_type": "code",
   "execution_count": 72,
   "metadata": {
    "id": "NCCXtDpcugmd"
   },
   "outputs": [
    {
     "data": {
      "application/vnd.plotly.v1+json": {
       "config": {
        "plotlyServerURL": "https://plot.ly"
       },
       "data": [
        {
         "hovertemplate": "x=%{x}<br>y=%{y}<br>text=%{text}<extra></extra>",
         "legendgroup": "",
         "marker": {
          "color": "#636efa",
          "symbol": "circle"
         },
         "mode": "markers+text",
         "name": "",
         "orientation": "v",
         "showlegend": false,
         "text": [
          "the",
          "i",
          "you",
          "a",
          "to",
          "and",
          "my",
          "in",
          "me",
          "that",
          "it",
          "like",
          "on",
          "we",
          "im",
          "they",
          "your",
          "of",
          "so",
          "up",
          "know",
          "she",
          "but",
          "with",
          "get",
          "got",
          "is",
          "this",
          "all",
          "for",
          "now",
          "be",
          "just",
          "dont",
          "was",
          "what",
          "when",
          "at",
          "if",
          "aint",
          "no",
          "her",
          "out",
          "he",
          "do",
          "go",
          "its",
          "niggas",
          "cause",
          "say",
          "how",
          "shit",
          "see",
          "man",
          "nigga",
          "back",
          "thats",
          "from",
          "need",
          "down",
          "right",
          "i'm",
          "girl",
          "make",
          "love",
          "some",
          "can",
          "have",
          "more",
          "want",
          "off",
          "feel",
          "then",
          "baby",
          "been",
          "never",
          "had",
          "one",
          "not",
          "said",
          "tell",
          "way",
          "cant",
          "as",
          "about",
          "good",
          "take",
          "let",
          "yeah",
          "oh",
          "time",
          "life",
          "only",
          "where",
          "these",
          "bitch",
          "his",
          "them",
          "why",
          "fuck",
          "could",
          "new",
          "still",
          "god",
          "us",
          "look",
          "too",
          "money",
          "told",
          "keep",
          "even",
          "or",
          "who",
          "don't",
          "yall",
          "well",
          "gon",
          "him",
          "did",
          "day",
          "em",
          "wanna",
          "ass",
          "black",
          "ya",
          "every",
          "than",
          "ain't",
          "by",
          "bad",
          "give",
          "gotta",
          "yo",
          "people",
          "come",
          "made",
          "think",
          "an",
          "head",
          "call",
          "whole",
          "mean",
          "talk",
          "hit",
          "here",
          "bout",
          "much",
          "yeezy",
          "everybody",
          "ill",
          "damn",
          "uh",
          "over",
          "would",
          "kanye",
          "through",
          "always",
          "ever",
          "guess",
          "gonna",
          "real",
          "best",
          "girls",
          "home",
          "really",
          "first",
          "are",
          "hey",
          "huh",
          "imma",
          "thing",
          "before",
          "put",
          "our",
          "tryna",
          "night",
          "it's",
          "ye",
          "around",
          "youre",
          "turn",
          "can't",
          "everything",
          "hate",
          "kids",
          "nobody",
          "ask",
          "something",
          "last",
          "big",
          "will",
          "show",
          "again",
          "lights",
          "light",
          "high",
          "play",
          "talking",
          "bitches",
          "world"
         ],
         "type": "scatter",
         "x": {
          "bdata": "MJozPylNBj9NTFA//GsoP4kSGT+L9w8/PF8RPzHhGz+fvzY/MX8qP8IkBj8kPxE/V9wlP/TuNT/0hF4/f1ldPyqIQD91MDk/IuVIP0l4BD8knAM/kZoUP5aaNz/D0As/eQ4dP2RzGz9wjj0/A8tCP1/sLD/Vdm8/5rE+P5hXKT9bVio/6UBAP3zBSD9ZISk/mltEP4NjIz+KmVc/rULLP0Rmbj9gZzA/63QYP/W+Rj+6pQY/4FTrPo2Miz+iBjk/Kr4wPykkYj+wkW4/olODPwe42j7GMGs/oz5IP28HFD9Fx6A/r/WTPavhKj9YKcc/ZwgqP/5rjz9u/oI+LNEBP0FbCz9WMtM/W90OP40lQD+F4YY/EY0+P3lHfj/jRAo/nfCBPzwfCD8p6J/A9/NaP097gz+5y2I/wvObP4/KWj/KLYc/VGs9P2XTyj9GrpU/EkpGPzrimT9fYbc+oV8ZP6OUXD98iLU+VvQmP4lpJD+Q+xs/ZsLnPv6zcj+9bkE/bMcIPy1gCD8IlF8/hBRDP9hGYj8PrBo+MRZRP2vQVj+JHWw/9QhEPwIEoj+fyMw/64QOQOhkZ776914/ChCSP+MAiD8lq1o/3xc6PuGsuj78xKo/5nqKPzhd8D4dIkQ/az2YQHxidj8jbJ0/EoXOP5i8Yj86JZs/3kOjP2A27T84a64/MVhmPwzokj977UI/TLQ+P0GgUz94YPQ+djU1PxcDWT/eeF8+OK+tP0YVuT2Sm4c+XYLKvtiHWz/5G6s+QoDiPm82ez+TgJc//wDHPcE+pz+1KMI/Xj5IPzzPqD5LysI+w7/WPQ89Or/3j/s/c+APP5mvrj+dQbu77LuFP6SukD/HAJQ/YrWUP9tqQz6D180/1FdBQMYVdT26lPY/KKt0vepkur/PxxI/JZRAwGc9qz9Qf2xAsWS3P1cDuz+S5bA/bQkRP1S4sb88nFW/L88mPby6zj8UqAI/3l6XvfQVHL+CmC0/s3ukP9hNvD+qd3w+9xUaQBrxUT/Ipt099wIHPwAl3z1OQN4/TthbQByD8z8SrSk8diWCwG24sj8=",
          "dtype": "f4"
         },
         "xaxis": "x",
         "y": {
          "bdata": "H7YKPhGMfD6Me5I+jp2lPlQetj1Dovw9Gxy1PQ3EVD7rfn0++5qMPoJdtj4A5Mo+YlQHPqqN1z45Zac+FhnKPvXyWz72foA+q1uUPuR+vz5HxoI+1UMCP7dt3z7IwYY+sFKPPprWoD6wE1o+f9vAPq4jpj45JaC9OLbUPvZXxD4e/ok+ohPRPkqBTz6gwYw+i/imPkUfQz/zmu8+27gRP7cs0D5Oz88+OqvSPZ/HZj6ohYM+CWDzPlK2OD/xjV8+swPAPm1+iD63RN0+JYoZPEp70j5gMpE+YcyiPuNUGz1Sq7S+YfS7PlEF0z62pmy+sagPP111yj7a8nY/k8yQPpjQDD5I5BM/8U/bPrIjIz+cOIA+A44mP7bIprx4blc/DDGcPtnSxz5SWpe/XAXpPmiWKz+/11Y+Pa6WPccx8D4PPZs+DGqKPp+FM0DbO4E/qfRiPtsngT0uTvk+ic/bPhphEj/VZbA8qQOuPm1gB7ygrck+40cNP3CzET4j9EU/giDyPbTB7D7mtA8/6x29Pn+nHj91b8c+f32tPj9AMT6lxQM9EV4lPxli+D44nUU+uZZYvZAyc756xes+sEKqPv48Fj94aRs/qrTWvjAisj3EeG49mb4NPQFrAT9ogKo9Kbwlv0UVHD/9B3C/NzVkP5of0T6E3QQ/bxSePnREJD+Hsqw/StbZPyp58D7halg/Z3GFwAcweD+i2C6+PzzjvgrlCT8ocyA/rDGzPujb6LyWLjg/V9ATv8iokz2hPTk/tOFnPSfBMr73yJY+6ZcbPrB+jr16b7C/i8aDPTWQtD65PoW/fXY1PGNjfz8bDNg+DmOVP2wNkD7ULCE/PmbIPBS94j5cTWA/dg+MP2JK/T4wCOQ+gBjnv3q/jD/FUyU/A9fSPkanpb8b8NU9lJZJv1vrm76obO+/5SK7v9U/8D7P6o8/Ax8tvqbBTD8Qs9Y/ecCFPu7eO0A6TeA+628BwGi9Tb8KUY0/fDULPx9BJz+XaT2/s6yPv0ogar55WqU+lzH8vtB4sT5ORpQ/PrpFQDUUj79LmQQ9EOqAvzDoyT8=",
          "dtype": "f4"
         },
         "yaxis": "y"
        }
       ],
       "layout": {
        "legend": {
         "tracegroupgap": 0
        },
        "margin": {
         "t": 60
        },
        "template": {
         "data": {
          "bar": [
           {
            "error_x": {
             "color": "#2a3f5f"
            },
            "error_y": {
             "color": "#2a3f5f"
            },
            "marker": {
             "line": {
              "color": "#E5ECF6",
              "width": 0.5
             },
             "pattern": {
              "fillmode": "overlay",
              "size": 10,
              "solidity": 0.2
             }
            },
            "type": "bar"
           }
          ],
          "barpolar": [
           {
            "marker": {
             "line": {
              "color": "#E5ECF6",
              "width": 0.5
             },
             "pattern": {
              "fillmode": "overlay",
              "size": 10,
              "solidity": 0.2
             }
            },
            "type": "barpolar"
           }
          ],
          "carpet": [
           {
            "aaxis": {
             "endlinecolor": "#2a3f5f",
             "gridcolor": "white",
             "linecolor": "white",
             "minorgridcolor": "white",
             "startlinecolor": "#2a3f5f"
            },
            "baxis": {
             "endlinecolor": "#2a3f5f",
             "gridcolor": "white",
             "linecolor": "white",
             "minorgridcolor": "white",
             "startlinecolor": "#2a3f5f"
            },
            "type": "carpet"
           }
          ],
          "choropleth": [
           {
            "colorbar": {
             "outlinewidth": 0,
             "ticks": ""
            },
            "type": "choropleth"
           }
          ],
          "contour": [
           {
            "colorbar": {
             "outlinewidth": 0,
             "ticks": ""
            },
            "colorscale": [
             [
              0,
              "#0d0887"
             ],
             [
              0.1111111111111111,
              "#46039f"
             ],
             [
              0.2222222222222222,
              "#7201a8"
             ],
             [
              0.3333333333333333,
              "#9c179e"
             ],
             [
              0.4444444444444444,
              "#bd3786"
             ],
             [
              0.5555555555555556,
              "#d8576b"
             ],
             [
              0.6666666666666666,
              "#ed7953"
             ],
             [
              0.7777777777777778,
              "#fb9f3a"
             ],
             [
              0.8888888888888888,
              "#fdca26"
             ],
             [
              1,
              "#f0f921"
             ]
            ],
            "type": "contour"
           }
          ],
          "contourcarpet": [
           {
            "colorbar": {
             "outlinewidth": 0,
             "ticks": ""
            },
            "type": "contourcarpet"
           }
          ],
          "heatmap": [
           {
            "colorbar": {
             "outlinewidth": 0,
             "ticks": ""
            },
            "colorscale": [
             [
              0,
              "#0d0887"
             ],
             [
              0.1111111111111111,
              "#46039f"
             ],
             [
              0.2222222222222222,
              "#7201a8"
             ],
             [
              0.3333333333333333,
              "#9c179e"
             ],
             [
              0.4444444444444444,
              "#bd3786"
             ],
             [
              0.5555555555555556,
              "#d8576b"
             ],
             [
              0.6666666666666666,
              "#ed7953"
             ],
             [
              0.7777777777777778,
              "#fb9f3a"
             ],
             [
              0.8888888888888888,
              "#fdca26"
             ],
             [
              1,
              "#f0f921"
             ]
            ],
            "type": "heatmap"
           }
          ],
          "histogram": [
           {
            "marker": {
             "pattern": {
              "fillmode": "overlay",
              "size": 10,
              "solidity": 0.2
             }
            },
            "type": "histogram"
           }
          ],
          "histogram2d": [
           {
            "colorbar": {
             "outlinewidth": 0,
             "ticks": ""
            },
            "colorscale": [
             [
              0,
              "#0d0887"
             ],
             [
              0.1111111111111111,
              "#46039f"
             ],
             [
              0.2222222222222222,
              "#7201a8"
             ],
             [
              0.3333333333333333,
              "#9c179e"
             ],
             [
              0.4444444444444444,
              "#bd3786"
             ],
             [
              0.5555555555555556,
              "#d8576b"
             ],
             [
              0.6666666666666666,
              "#ed7953"
             ],
             [
              0.7777777777777778,
              "#fb9f3a"
             ],
             [
              0.8888888888888888,
              "#fdca26"
             ],
             [
              1,
              "#f0f921"
             ]
            ],
            "type": "histogram2d"
           }
          ],
          "histogram2dcontour": [
           {
            "colorbar": {
             "outlinewidth": 0,
             "ticks": ""
            },
            "colorscale": [
             [
              0,
              "#0d0887"
             ],
             [
              0.1111111111111111,
              "#46039f"
             ],
             [
              0.2222222222222222,
              "#7201a8"
             ],
             [
              0.3333333333333333,
              "#9c179e"
             ],
             [
              0.4444444444444444,
              "#bd3786"
             ],
             [
              0.5555555555555556,
              "#d8576b"
             ],
             [
              0.6666666666666666,
              "#ed7953"
             ],
             [
              0.7777777777777778,
              "#fb9f3a"
             ],
             [
              0.8888888888888888,
              "#fdca26"
             ],
             [
              1,
              "#f0f921"
             ]
            ],
            "type": "histogram2dcontour"
           }
          ],
          "mesh3d": [
           {
            "colorbar": {
             "outlinewidth": 0,
             "ticks": ""
            },
            "type": "mesh3d"
           }
          ],
          "parcoords": [
           {
            "line": {
             "colorbar": {
              "outlinewidth": 0,
              "ticks": ""
             }
            },
            "type": "parcoords"
           }
          ],
          "pie": [
           {
            "automargin": true,
            "type": "pie"
           }
          ],
          "scatter": [
           {
            "fillpattern": {
             "fillmode": "overlay",
             "size": 10,
             "solidity": 0.2
            },
            "type": "scatter"
           }
          ],
          "scatter3d": [
           {
            "line": {
             "colorbar": {
              "outlinewidth": 0,
              "ticks": ""
             }
            },
            "marker": {
             "colorbar": {
              "outlinewidth": 0,
              "ticks": ""
             }
            },
            "type": "scatter3d"
           }
          ],
          "scattercarpet": [
           {
            "marker": {
             "colorbar": {
              "outlinewidth": 0,
              "ticks": ""
             }
            },
            "type": "scattercarpet"
           }
          ],
          "scattergeo": [
           {
            "marker": {
             "colorbar": {
              "outlinewidth": 0,
              "ticks": ""
             }
            },
            "type": "scattergeo"
           }
          ],
          "scattergl": [
           {
            "marker": {
             "colorbar": {
              "outlinewidth": 0,
              "ticks": ""
             }
            },
            "type": "scattergl"
           }
          ],
          "scattermap": [
           {
            "marker": {
             "colorbar": {
              "outlinewidth": 0,
              "ticks": ""
             }
            },
            "type": "scattermap"
           }
          ],
          "scattermapbox": [
           {
            "marker": {
             "colorbar": {
              "outlinewidth": 0,
              "ticks": ""
             }
            },
            "type": "scattermapbox"
           }
          ],
          "scatterpolar": [
           {
            "marker": {
             "colorbar": {
              "outlinewidth": 0,
              "ticks": ""
             }
            },
            "type": "scatterpolar"
           }
          ],
          "scatterpolargl": [
           {
            "marker": {
             "colorbar": {
              "outlinewidth": 0,
              "ticks": ""
             }
            },
            "type": "scatterpolargl"
           }
          ],
          "scatterternary": [
           {
            "marker": {
             "colorbar": {
              "outlinewidth": 0,
              "ticks": ""
             }
            },
            "type": "scatterternary"
           }
          ],
          "surface": [
           {
            "colorbar": {
             "outlinewidth": 0,
             "ticks": ""
            },
            "colorscale": [
             [
              0,
              "#0d0887"
             ],
             [
              0.1111111111111111,
              "#46039f"
             ],
             [
              0.2222222222222222,
              "#7201a8"
             ],
             [
              0.3333333333333333,
              "#9c179e"
             ],
             [
              0.4444444444444444,
              "#bd3786"
             ],
             [
              0.5555555555555556,
              "#d8576b"
             ],
             [
              0.6666666666666666,
              "#ed7953"
             ],
             [
              0.7777777777777778,
              "#fb9f3a"
             ],
             [
              0.8888888888888888,
              "#fdca26"
             ],
             [
              1,
              "#f0f921"
             ]
            ],
            "type": "surface"
           }
          ],
          "table": [
           {
            "cells": {
             "fill": {
              "color": "#EBF0F8"
             },
             "line": {
              "color": "white"
             }
            },
            "header": {
             "fill": {
              "color": "#C8D4E3"
             },
             "line": {
              "color": "white"
             }
            },
            "type": "table"
           }
          ]
         },
         "layout": {
          "annotationdefaults": {
           "arrowcolor": "#2a3f5f",
           "arrowhead": 0,
           "arrowwidth": 1
          },
          "autotypenumbers": "strict",
          "coloraxis": {
           "colorbar": {
            "outlinewidth": 0,
            "ticks": ""
           }
          },
          "colorscale": {
           "diverging": [
            [
             0,
             "#8e0152"
            ],
            [
             0.1,
             "#c51b7d"
            ],
            [
             0.2,
             "#de77ae"
            ],
            [
             0.3,
             "#f1b6da"
            ],
            [
             0.4,
             "#fde0ef"
            ],
            [
             0.5,
             "#f7f7f7"
            ],
            [
             0.6,
             "#e6f5d0"
            ],
            [
             0.7,
             "#b8e186"
            ],
            [
             0.8,
             "#7fbc41"
            ],
            [
             0.9,
             "#4d9221"
            ],
            [
             1,
             "#276419"
            ]
           ],
           "sequential": [
            [
             0,
             "#0d0887"
            ],
            [
             0.1111111111111111,
             "#46039f"
            ],
            [
             0.2222222222222222,
             "#7201a8"
            ],
            [
             0.3333333333333333,
             "#9c179e"
            ],
            [
             0.4444444444444444,
             "#bd3786"
            ],
            [
             0.5555555555555556,
             "#d8576b"
            ],
            [
             0.6666666666666666,
             "#ed7953"
            ],
            [
             0.7777777777777778,
             "#fb9f3a"
            ],
            [
             0.8888888888888888,
             "#fdca26"
            ],
            [
             1,
             "#f0f921"
            ]
           ],
           "sequentialminus": [
            [
             0,
             "#0d0887"
            ],
            [
             0.1111111111111111,
             "#46039f"
            ],
            [
             0.2222222222222222,
             "#7201a8"
            ],
            [
             0.3333333333333333,
             "#9c179e"
            ],
            [
             0.4444444444444444,
             "#bd3786"
            ],
            [
             0.5555555555555556,
             "#d8576b"
            ],
            [
             0.6666666666666666,
             "#ed7953"
            ],
            [
             0.7777777777777778,
             "#fb9f3a"
            ],
            [
             0.8888888888888888,
             "#fdca26"
            ],
            [
             1,
             "#f0f921"
            ]
           ]
          },
          "colorway": [
           "#636efa",
           "#EF553B",
           "#00cc96",
           "#ab63fa",
           "#FFA15A",
           "#19d3f3",
           "#FF6692",
           "#B6E880",
           "#FF97FF",
           "#FECB52"
          ],
          "font": {
           "color": "#2a3f5f"
          },
          "geo": {
           "bgcolor": "white",
           "lakecolor": "white",
           "landcolor": "#E5ECF6",
           "showlakes": true,
           "showland": true,
           "subunitcolor": "white"
          },
          "hoverlabel": {
           "align": "left"
          },
          "hovermode": "closest",
          "mapbox": {
           "style": "light"
          },
          "paper_bgcolor": "white",
          "plot_bgcolor": "#E5ECF6",
          "polar": {
           "angularaxis": {
            "gridcolor": "white",
            "linecolor": "white",
            "ticks": ""
           },
           "bgcolor": "#E5ECF6",
           "radialaxis": {
            "gridcolor": "white",
            "linecolor": "white",
            "ticks": ""
           }
          },
          "scene": {
           "xaxis": {
            "backgroundcolor": "#E5ECF6",
            "gridcolor": "white",
            "gridwidth": 2,
            "linecolor": "white",
            "showbackground": true,
            "ticks": "",
            "zerolinecolor": "white"
           },
           "yaxis": {
            "backgroundcolor": "#E5ECF6",
            "gridcolor": "white",
            "gridwidth": 2,
            "linecolor": "white",
            "showbackground": true,
            "ticks": "",
            "zerolinecolor": "white"
           },
           "zaxis": {
            "backgroundcolor": "#E5ECF6",
            "gridcolor": "white",
            "gridwidth": 2,
            "linecolor": "white",
            "showbackground": true,
            "ticks": "",
            "zerolinecolor": "white"
           }
          },
          "shapedefaults": {
           "line": {
            "color": "#2a3f5f"
           }
          },
          "ternary": {
           "aaxis": {
            "gridcolor": "white",
            "linecolor": "white",
            "ticks": ""
           },
           "baxis": {
            "gridcolor": "white",
            "linecolor": "white",
            "ticks": ""
           },
           "bgcolor": "#E5ECF6",
           "caxis": {
            "gridcolor": "white",
            "linecolor": "white",
            "ticks": ""
           }
          },
          "title": {
           "x": 0.05
          },
          "xaxis": {
           "automargin": true,
           "gridcolor": "white",
           "linecolor": "white",
           "ticks": "",
           "title": {
            "standoff": 15
           },
           "zerolinecolor": "white",
           "zerolinewidth": 2
          },
          "yaxis": {
           "automargin": true,
           "gridcolor": "white",
           "linecolor": "white",
           "ticks": "",
           "title": {
            "standoff": 15
           },
           "zerolinecolor": "white",
           "zerolinewidth": 2
          }
         }
        },
        "xaxis": {
         "anchor": "y",
         "domain": [
          0,
          1
         ],
         "title": {
          "text": "x"
         }
        },
        "yaxis": {
         "anchor": "x",
         "domain": [
          0,
          1
         ],
         "title": {
          "text": "y"
         }
        }
       }
      }
     },
     "metadata": {},
     "output_type": "display_data"
    }
   ],
   "source": [
    "# Graficar los embedddings en 2D\n",
    "import plotly.graph_objects as go\n",
    "import plotly.express as px\n",
    "\n",
    "vecs, labels = reduce_dimensions(w2v_model)\n",
    "\n",
    "MAX_WORDS=200\n",
    "fig = px.scatter(x=vecs[:MAX_WORDS,0], y=vecs[:MAX_WORDS,1], text=labels[:MAX_WORDS])\n",
    "fig.show() # esto para plotly en colab"
   ]
  },
  {
   "cell_type": "code",
   "execution_count": 60,
   "metadata": {},
   "outputs": [
    {
     "data": {
      "application/vnd.plotly.v1+json": {
       "config": {
        "plotlyServerURL": "https://plot.ly"
       },
       "data": [
        {
         "hovertemplate": "x=%{x}<br>y=%{y}<br>z=%{z}<br>text=%{text}<extra></extra>",
         "legendgroup": "",
         "marker": {
          "color": "#636efa",
          "size": 2,
          "symbol": "circle"
         },
         "mode": "markers+text",
         "name": "",
         "scene": "scene",
         "showlegend": false,
         "text": [
          "the",
          "i",
          "you",
          "a",
          "to",
          "and",
          "my",
          "in",
          "me",
          "that",
          "it",
          "like",
          "on",
          "we",
          "im",
          "they",
          "your",
          "of",
          "so",
          "up",
          "know",
          "she",
          "but",
          "with",
          "get",
          "got",
          "is",
          "this",
          "all",
          "for",
          "now",
          "be",
          "just",
          "dont",
          "was",
          "what",
          "when",
          "at",
          "if",
          "aint",
          "no",
          "her",
          "out",
          "he",
          "do",
          "go",
          "its",
          "niggas",
          "cause",
          "say",
          "how",
          "shit",
          "see",
          "man",
          "nigga",
          "back",
          "thats",
          "from",
          "need",
          "down",
          "right",
          "i'm",
          "girl",
          "make",
          "love",
          "some",
          "can",
          "have",
          "more",
          "want",
          "off",
          "feel",
          "then",
          "baby",
          "been",
          "never",
          "had",
          "one",
          "not",
          "said",
          "tell",
          "way",
          "cant",
          "as",
          "about",
          "good",
          "take",
          "let",
          "yeah",
          "oh",
          "time",
          "life",
          "only",
          "where",
          "these",
          "bitch",
          "his",
          "them",
          "why",
          "fuck",
          "could",
          "new",
          "still",
          "god",
          "us",
          "look",
          "too",
          "money",
          "told",
          "keep",
          "even",
          "or",
          "who",
          "don't",
          "yall",
          "well",
          "gon",
          "him",
          "did",
          "day",
          "em",
          "wanna",
          "ass",
          "black",
          "ya",
          "every",
          "than",
          "ain't",
          "by",
          "bad",
          "give",
          "gotta",
          "yo",
          "people",
          "come",
          "made",
          "think",
          "an",
          "head",
          "call",
          "whole",
          "mean",
          "talk",
          "hit",
          "here",
          "bout",
          "much",
          "yeezy",
          "everybody",
          "ill",
          "damn",
          "uh",
          "over",
          "would",
          "kanye",
          "through",
          "always",
          "ever",
          "guess",
          "gonna",
          "real",
          "best",
          "girls",
          "home",
          "really",
          "first",
          "are",
          "hey",
          "huh",
          "imma",
          "thing",
          "before",
          "put",
          "our",
          "tryna",
          "night",
          "it's",
          "ye",
          "around",
          "youre",
          "turn",
          "can't",
          "everything",
          "hate",
          "kids",
          "nobody",
          "ask",
          "something",
          "last",
          "big",
          "will",
          "show",
          "again",
          "lights",
          "light",
          "high",
          "play",
          "talking",
          "bitches",
          "world"
         ],
         "type": "scatter3d",
         "x": {
          "bdata": "Ye0mwwP9UMEC/Y3B/wPMwP5fZ8GB6QLBHs4qwUVmF8EvIGHB+apLwTeVUMHRcbvA+iN4wcvYpMEmBcnBIOJyweRxgcHeA+/AAs7xwHsHLsHodp7BDS6ywZufccGsiGrBMVmKwXmcrsHfGJjBX/NTwazHscHm1eLBN025wUi7qsGxWtzB1XfbwWy81sHWyKPBTzA5wf9+qMFtDILBYtA+wYZ4wcG9PJbBbcUtwuhDfcG2NY/BMmvlwDSxOcHGPB/CG/ftwY9dFcGdA57ByxS/weVgv8ETwvXBqkTewW1UtsGeUztBNRlOQqs8ycEVKBDC0d7fwdHh68EfrxzCQVlPwWu6l8FnE93BiY7kwTUqv8FYrVXCKFT5wNnpicEzbZDBFtVhwsSVYsLbo0JCz9KewZJ1IkKZ2plBwg+bwVCwhsHEOtPBTVKzwdsRDcIVsPvBaRYlwvwl2sFPqOnBj8rLwTcmgcLOPGvCkElswZW0DsK+N1fAKU2DQvvBZsKb9TDC3UykwVQTWcLocoHCEYR+wfZ1DsLqnTFBuqIdwi+dwMF7hwTCtUk8wqWxJcKd4EPCKkcdP6wiKcJMLeXBuZl6whUcDMIIX/bBFwf1wG3VnUF0pfrBIoNkQjQJpMHKaUPC4dQ5wrfvKsBje03CoNXOwT2EMsJz0hfCfdBywsqqYcHsGhpBOv6DQofKZcIxcCTCszRXwukFy8GOxmTCAogDwgLK7kFPfMrBLl1ZwuqVScJUUFJCj34uQluFKsLlJSJBzLcwQgCwhcK6Yh/C0zRfQsA7AsLZMkPBxvZcQr6XRUJWWTlCvusfwpCRg0HcLi1Cjb13QtGdRsJpXgZBgyhnwlQnB8K8KtTBckVZwmRfR0JrdH/C29tUwunXgcKDz4tAFQEBwR+Y9T4Rz2ZCBi3lwVyuLELg9ThC3qD+QJC3AkLfnVrBmMvBwSc7scH4cOjBEtdVwrbcEsIRtH9CZwexQJScJ0H4qQDCfRZuwiJcXMJB+PFBYeILQi+sZkK1CRxB+j8uQstWg0IGPQ/C9LetQZKPwkHQ+WrB7AYhQra5P0I=",
          "dtype": "f4"
         },
         "y": {
          "bdata": "mjcgQ/MopkF2d6BB1x1iQeWRTkGs7TVB3EFhQSyqfUHk0pNBcC6GQc3twUH20otB+et7QYCAoEECUJtBwVDJQX1lNkG4KqlBWQaeQanQB0FoPnJBNoxcQX1AjkHHCsBAPaD/QOVkFkHCQ9pBiCq3QV8lTkEVS/JA0hK5QV3yvEFb5VNBKACOQS31HUIATIhBnvjdQVf24UFDebtBadXuQfWp/UHycJxBie2BQXhJsUFWj5pBzt4IQlcCFEIGoAFC4rlmQY31s0FB+eBBSIKpQUv0HkGyAg5Cw9UWQrHClkFIYFBCuJTaQbxZ7EHh/R9C9EbcQclHpkHjNo3BmYyTQS9fSUExW9BBAke+QbyNjUHGysbBVvHkQYr8x0FXGAhCZLQJwtZvSEEbMG/AQvfEQYt1BEJVhxtCILknQk5rCUKxL8ZBENsMQpqCzUHFR8BBdbmvQcH6fUEYHo9BywC3QSgHP0HllOzBMN5IQt4OU0G7cW9C/ZEEQd4mkUFh+r5BA31sQoK9uz9knA5BTK8EQjsTqEEQf13Cc/LsQaQIRUIvI+9BPXHIQZqg7UAtewbCZRQZQrad/sGh1rNBVPMNwRkF40HdDZxBD5dhQmWWfkK6YvxBLSgSQuFPOkLXkg5CmhUlQsrkLEKMOexBJE4tQtzD70FmVhZCg4m8wbzP+0H4+hnCK8MvQYTb4L+RXbhBeogCwjEK7kEagwFCF7vTQb6JMkKy0bhBhUP4wMkRNEFRsdTBWRXkQRj0DMFdAjLAr1gmQlX7JT/In2FBIbgBwo0GDELo/DBCYSgFQiWzC0JmuApCay5HQszZSsI4yUxBogwUweGNasEvGl9CsEIrQEyAukGRJ1NCGlbfQXV/M0LYN6jAmDUUwYPmNsFOgl5CrM95QmN+wkFIZTxBbOiBwYsjnsEeYUPBcTaeQMUqSkIbdyBCFwVjQnZIXsHsOwHC+9EeQsWd6EEahn/Bk7xawQtHgMDMkTJCUOaIweVo70H4xPnBrLnsQcU/70FYHFTCWNytQRI8ocB/jUlC9+R2QkSdy0E1lVzCH6fTQVpA2sA=",
          "dtype": "f4"
         },
         "z": {
          "bdata": "foUZwxtl20Dkfq1AQ7kOQWy+lkDD04ZALAyxPUcjwcCLg0xAheEHQdktTEHlhztAkPwKwXCntMDU67tAmefcQKW8eb+/pUDAAZUhQTuRBEHhttRAO6ehQQF2FsB+1mZBcub3QMG+GEArR5rAMmDNwJLNi8Biabi/jQ5IP+dQA0FvkU1AwD8SwNzllcDr9Jc/IsxMPoBWPMGCrI8+tlThwNSCD8BUfJxBOtWDQZPQTsEbdi1BC/AbQG4Vd0FwabtBWOEjQfjmK0CINmlAiUSmwaMvEUGISC9Aqe8sQbkZR8E15npAflX5QbwfGEHXcTzAdpIoQO2evkCAfJFByNd3QVLrUEGKE2/BB9RPQRahVUEUIQi+eTRyQejfbMJut05CRbyGQIJ34MAgobjBB2NtQTJYbMGmgBdCVscZQUeBhMGB/8bALVeLQKKcPb5A2MPBC5lkwTLTO8K3TZdBjcO3QQBfGr/XwPjA0FF3wd7EgEFEyilBISApQZFopcGQipY/XDBXwdbpDEL9dDJBV9dXvKklakEd/wDCRMZvQbg0OEFgfRxCMMGDQahLjUHKC4jApAdlweuadUEuSARCjph9wdcD7UH3rgvAlPGXwSjYbkFGf9HAiISIvrFnGkKcxKBBZ1tywVtnPMIWzJ++sH9VQFfKAEHzCQhBh5OYQPaxG8Hs0kRCZLbDv+q120BVSrtB4HWLwYC1jUG6mEjBLViiQVdh4cAIhltCQlSKQcyCGkL1ZqbAAy3+PxgHQUL+JYBCo9/qweTFGEC0jr9BCw+AwXSSikEANjlChvNsQdvBocHCHbTA5hpDwcZ2tsFwdj/CujnEP0MHv0GiKA1CKs2FQf+9CsGfY0dAuvPAQVnCJkFPsGtBEtMDwuiau0AdU2dBB2UYv2o2OEFocQBCP11AwgfpLMKyvfdA10GDvxrhzcFc+Y5BaQK4wQGoKUKiCh3CWbtAP2fH1j4tsU1BrGlDQiBOuEGkwWBB67dhQRAFPUGAMgxCXrEIQhR+MMEM/v5BsWz7QR+IQUE+ZLNBQ39RQLoEM0I4C/vBPjLIwEuVM0I=",
          "dtype": "f4"
         }
        }
       ],
       "layout": {
        "legend": {
         "tracegroupgap": 0
        },
        "margin": {
         "t": 60
        },
        "scene": {
         "domain": {
          "x": [
           0,
           1
          ],
          "y": [
           0,
           1
          ]
         },
         "xaxis": {
          "title": {
           "text": "x"
          }
         },
         "yaxis": {
          "title": {
           "text": "y"
          }
         },
         "zaxis": {
          "title": {
           "text": "z"
          }
         }
        },
        "template": {
         "data": {
          "bar": [
           {
            "error_x": {
             "color": "#2a3f5f"
            },
            "error_y": {
             "color": "#2a3f5f"
            },
            "marker": {
             "line": {
              "color": "#E5ECF6",
              "width": 0.5
             },
             "pattern": {
              "fillmode": "overlay",
              "size": 10,
              "solidity": 0.2
             }
            },
            "type": "bar"
           }
          ],
          "barpolar": [
           {
            "marker": {
             "line": {
              "color": "#E5ECF6",
              "width": 0.5
             },
             "pattern": {
              "fillmode": "overlay",
              "size": 10,
              "solidity": 0.2
             }
            },
            "type": "barpolar"
           }
          ],
          "carpet": [
           {
            "aaxis": {
             "endlinecolor": "#2a3f5f",
             "gridcolor": "white",
             "linecolor": "white",
             "minorgridcolor": "white",
             "startlinecolor": "#2a3f5f"
            },
            "baxis": {
             "endlinecolor": "#2a3f5f",
             "gridcolor": "white",
             "linecolor": "white",
             "minorgridcolor": "white",
             "startlinecolor": "#2a3f5f"
            },
            "type": "carpet"
           }
          ],
          "choropleth": [
           {
            "colorbar": {
             "outlinewidth": 0,
             "ticks": ""
            },
            "type": "choropleth"
           }
          ],
          "contour": [
           {
            "colorbar": {
             "outlinewidth": 0,
             "ticks": ""
            },
            "colorscale": [
             [
              0,
              "#0d0887"
             ],
             [
              0.1111111111111111,
              "#46039f"
             ],
             [
              0.2222222222222222,
              "#7201a8"
             ],
             [
              0.3333333333333333,
              "#9c179e"
             ],
             [
              0.4444444444444444,
              "#bd3786"
             ],
             [
              0.5555555555555556,
              "#d8576b"
             ],
             [
              0.6666666666666666,
              "#ed7953"
             ],
             [
              0.7777777777777778,
              "#fb9f3a"
             ],
             [
              0.8888888888888888,
              "#fdca26"
             ],
             [
              1,
              "#f0f921"
             ]
            ],
            "type": "contour"
           }
          ],
          "contourcarpet": [
           {
            "colorbar": {
             "outlinewidth": 0,
             "ticks": ""
            },
            "type": "contourcarpet"
           }
          ],
          "heatmap": [
           {
            "colorbar": {
             "outlinewidth": 0,
             "ticks": ""
            },
            "colorscale": [
             [
              0,
              "#0d0887"
             ],
             [
              0.1111111111111111,
              "#46039f"
             ],
             [
              0.2222222222222222,
              "#7201a8"
             ],
             [
              0.3333333333333333,
              "#9c179e"
             ],
             [
              0.4444444444444444,
              "#bd3786"
             ],
             [
              0.5555555555555556,
              "#d8576b"
             ],
             [
              0.6666666666666666,
              "#ed7953"
             ],
             [
              0.7777777777777778,
              "#fb9f3a"
             ],
             [
              0.8888888888888888,
              "#fdca26"
             ],
             [
              1,
              "#f0f921"
             ]
            ],
            "type": "heatmap"
           }
          ],
          "histogram": [
           {
            "marker": {
             "pattern": {
              "fillmode": "overlay",
              "size": 10,
              "solidity": 0.2
             }
            },
            "type": "histogram"
           }
          ],
          "histogram2d": [
           {
            "colorbar": {
             "outlinewidth": 0,
             "ticks": ""
            },
            "colorscale": [
             [
              0,
              "#0d0887"
             ],
             [
              0.1111111111111111,
              "#46039f"
             ],
             [
              0.2222222222222222,
              "#7201a8"
             ],
             [
              0.3333333333333333,
              "#9c179e"
             ],
             [
              0.4444444444444444,
              "#bd3786"
             ],
             [
              0.5555555555555556,
              "#d8576b"
             ],
             [
              0.6666666666666666,
              "#ed7953"
             ],
             [
              0.7777777777777778,
              "#fb9f3a"
             ],
             [
              0.8888888888888888,
              "#fdca26"
             ],
             [
              1,
              "#f0f921"
             ]
            ],
            "type": "histogram2d"
           }
          ],
          "histogram2dcontour": [
           {
            "colorbar": {
             "outlinewidth": 0,
             "ticks": ""
            },
            "colorscale": [
             [
              0,
              "#0d0887"
             ],
             [
              0.1111111111111111,
              "#46039f"
             ],
             [
              0.2222222222222222,
              "#7201a8"
             ],
             [
              0.3333333333333333,
              "#9c179e"
             ],
             [
              0.4444444444444444,
              "#bd3786"
             ],
             [
              0.5555555555555556,
              "#d8576b"
             ],
             [
              0.6666666666666666,
              "#ed7953"
             ],
             [
              0.7777777777777778,
              "#fb9f3a"
             ],
             [
              0.8888888888888888,
              "#fdca26"
             ],
             [
              1,
              "#f0f921"
             ]
            ],
            "type": "histogram2dcontour"
           }
          ],
          "mesh3d": [
           {
            "colorbar": {
             "outlinewidth": 0,
             "ticks": ""
            },
            "type": "mesh3d"
           }
          ],
          "parcoords": [
           {
            "line": {
             "colorbar": {
              "outlinewidth": 0,
              "ticks": ""
             }
            },
            "type": "parcoords"
           }
          ],
          "pie": [
           {
            "automargin": true,
            "type": "pie"
           }
          ],
          "scatter": [
           {
            "fillpattern": {
             "fillmode": "overlay",
             "size": 10,
             "solidity": 0.2
            },
            "type": "scatter"
           }
          ],
          "scatter3d": [
           {
            "line": {
             "colorbar": {
              "outlinewidth": 0,
              "ticks": ""
             }
            },
            "marker": {
             "colorbar": {
              "outlinewidth": 0,
              "ticks": ""
             }
            },
            "type": "scatter3d"
           }
          ],
          "scattercarpet": [
           {
            "marker": {
             "colorbar": {
              "outlinewidth": 0,
              "ticks": ""
             }
            },
            "type": "scattercarpet"
           }
          ],
          "scattergeo": [
           {
            "marker": {
             "colorbar": {
              "outlinewidth": 0,
              "ticks": ""
             }
            },
            "type": "scattergeo"
           }
          ],
          "scattergl": [
           {
            "marker": {
             "colorbar": {
              "outlinewidth": 0,
              "ticks": ""
             }
            },
            "type": "scattergl"
           }
          ],
          "scattermap": [
           {
            "marker": {
             "colorbar": {
              "outlinewidth": 0,
              "ticks": ""
             }
            },
            "type": "scattermap"
           }
          ],
          "scattermapbox": [
           {
            "marker": {
             "colorbar": {
              "outlinewidth": 0,
              "ticks": ""
             }
            },
            "type": "scattermapbox"
           }
          ],
          "scatterpolar": [
           {
            "marker": {
             "colorbar": {
              "outlinewidth": 0,
              "ticks": ""
             }
            },
            "type": "scatterpolar"
           }
          ],
          "scatterpolargl": [
           {
            "marker": {
             "colorbar": {
              "outlinewidth": 0,
              "ticks": ""
             }
            },
            "type": "scatterpolargl"
           }
          ],
          "scatterternary": [
           {
            "marker": {
             "colorbar": {
              "outlinewidth": 0,
              "ticks": ""
             }
            },
            "type": "scatterternary"
           }
          ],
          "surface": [
           {
            "colorbar": {
             "outlinewidth": 0,
             "ticks": ""
            },
            "colorscale": [
             [
              0,
              "#0d0887"
             ],
             [
              0.1111111111111111,
              "#46039f"
             ],
             [
              0.2222222222222222,
              "#7201a8"
             ],
             [
              0.3333333333333333,
              "#9c179e"
             ],
             [
              0.4444444444444444,
              "#bd3786"
             ],
             [
              0.5555555555555556,
              "#d8576b"
             ],
             [
              0.6666666666666666,
              "#ed7953"
             ],
             [
              0.7777777777777778,
              "#fb9f3a"
             ],
             [
              0.8888888888888888,
              "#fdca26"
             ],
             [
              1,
              "#f0f921"
             ]
            ],
            "type": "surface"
           }
          ],
          "table": [
           {
            "cells": {
             "fill": {
              "color": "#EBF0F8"
             },
             "line": {
              "color": "white"
             }
            },
            "header": {
             "fill": {
              "color": "#C8D4E3"
             },
             "line": {
              "color": "white"
             }
            },
            "type": "table"
           }
          ]
         },
         "layout": {
          "annotationdefaults": {
           "arrowcolor": "#2a3f5f",
           "arrowhead": 0,
           "arrowwidth": 1
          },
          "autotypenumbers": "strict",
          "coloraxis": {
           "colorbar": {
            "outlinewidth": 0,
            "ticks": ""
           }
          },
          "colorscale": {
           "diverging": [
            [
             0,
             "#8e0152"
            ],
            [
             0.1,
             "#c51b7d"
            ],
            [
             0.2,
             "#de77ae"
            ],
            [
             0.3,
             "#f1b6da"
            ],
            [
             0.4,
             "#fde0ef"
            ],
            [
             0.5,
             "#f7f7f7"
            ],
            [
             0.6,
             "#e6f5d0"
            ],
            [
             0.7,
             "#b8e186"
            ],
            [
             0.8,
             "#7fbc41"
            ],
            [
             0.9,
             "#4d9221"
            ],
            [
             1,
             "#276419"
            ]
           ],
           "sequential": [
            [
             0,
             "#0d0887"
            ],
            [
             0.1111111111111111,
             "#46039f"
            ],
            [
             0.2222222222222222,
             "#7201a8"
            ],
            [
             0.3333333333333333,
             "#9c179e"
            ],
            [
             0.4444444444444444,
             "#bd3786"
            ],
            [
             0.5555555555555556,
             "#d8576b"
            ],
            [
             0.6666666666666666,
             "#ed7953"
            ],
            [
             0.7777777777777778,
             "#fb9f3a"
            ],
            [
             0.8888888888888888,
             "#fdca26"
            ],
            [
             1,
             "#f0f921"
            ]
           ],
           "sequentialminus": [
            [
             0,
             "#0d0887"
            ],
            [
             0.1111111111111111,
             "#46039f"
            ],
            [
             0.2222222222222222,
             "#7201a8"
            ],
            [
             0.3333333333333333,
             "#9c179e"
            ],
            [
             0.4444444444444444,
             "#bd3786"
            ],
            [
             0.5555555555555556,
             "#d8576b"
            ],
            [
             0.6666666666666666,
             "#ed7953"
            ],
            [
             0.7777777777777778,
             "#fb9f3a"
            ],
            [
             0.8888888888888888,
             "#fdca26"
            ],
            [
             1,
             "#f0f921"
            ]
           ]
          },
          "colorway": [
           "#636efa",
           "#EF553B",
           "#00cc96",
           "#ab63fa",
           "#FFA15A",
           "#19d3f3",
           "#FF6692",
           "#B6E880",
           "#FF97FF",
           "#FECB52"
          ],
          "font": {
           "color": "#2a3f5f"
          },
          "geo": {
           "bgcolor": "white",
           "lakecolor": "white",
           "landcolor": "#E5ECF6",
           "showlakes": true,
           "showland": true,
           "subunitcolor": "white"
          },
          "hoverlabel": {
           "align": "left"
          },
          "hovermode": "closest",
          "mapbox": {
           "style": "light"
          },
          "paper_bgcolor": "white",
          "plot_bgcolor": "#E5ECF6",
          "polar": {
           "angularaxis": {
            "gridcolor": "white",
            "linecolor": "white",
            "ticks": ""
           },
           "bgcolor": "#E5ECF6",
           "radialaxis": {
            "gridcolor": "white",
            "linecolor": "white",
            "ticks": ""
           }
          },
          "scene": {
           "xaxis": {
            "backgroundcolor": "#E5ECF6",
            "gridcolor": "white",
            "gridwidth": 2,
            "linecolor": "white",
            "showbackground": true,
            "ticks": "",
            "zerolinecolor": "white"
           },
           "yaxis": {
            "backgroundcolor": "#E5ECF6",
            "gridcolor": "white",
            "gridwidth": 2,
            "linecolor": "white",
            "showbackground": true,
            "ticks": "",
            "zerolinecolor": "white"
           },
           "zaxis": {
            "backgroundcolor": "#E5ECF6",
            "gridcolor": "white",
            "gridwidth": 2,
            "linecolor": "white",
            "showbackground": true,
            "ticks": "",
            "zerolinecolor": "white"
           }
          },
          "shapedefaults": {
           "line": {
            "color": "#2a3f5f"
           }
          },
          "ternary": {
           "aaxis": {
            "gridcolor": "white",
            "linecolor": "white",
            "ticks": ""
           },
           "baxis": {
            "gridcolor": "white",
            "linecolor": "white",
            "ticks": ""
           },
           "bgcolor": "#E5ECF6",
           "caxis": {
            "gridcolor": "white",
            "linecolor": "white",
            "ticks": ""
           }
          },
          "title": {
           "x": 0.05
          },
          "xaxis": {
           "automargin": true,
           "gridcolor": "white",
           "linecolor": "white",
           "ticks": "",
           "title": {
            "standoff": 15
           },
           "zerolinecolor": "white",
           "zerolinewidth": 2
          },
          "yaxis": {
           "automargin": true,
           "gridcolor": "white",
           "linecolor": "white",
           "ticks": "",
           "title": {
            "standoff": 15
           },
           "zerolinecolor": "white",
           "zerolinewidth": 2
          }
         }
        }
       }
      }
     },
     "metadata": {},
     "output_type": "display_data"
    }
   ],
   "source": [
    "# Graficar los embedddings en 3D\n",
    "\n",
    "vecs, labels = reduce_dimensions(w2v_model,3)\n",
    "\n",
    "fig = px.scatter_3d(x=vecs[:MAX_WORDS,0], y=vecs[:MAX_WORDS,1], z=vecs[:MAX_WORDS,2],text=labels[:MAX_WORDS])\n",
    "fig.update_traces(marker_size = 2)\n",
    "fig.show() # esto para plotly en colab"
   ]
  },
  {
   "cell_type": "code",
   "execution_count": null,
   "metadata": {},
   "outputs": [],
   "source": [
    "# También se pueden guardar los vectores y labels como tsv para graficar en\n",
    "# http://projector.tensorflow.org/\n",
    "\n",
    "\n",
    "vectors = np.asarray(w2v_model.wv.vectors)\n",
    "labels = list(w2v_model.wv.index_to_key)\n",
    "\n",
    "np.savetxt(\"vectors.tsv\", vectors, delimiter=\"\\t\")\n",
    "\n",
    "with open(\"labels.tsv\", \"w\") as fp:\n",
    "    for item in labels:\n",
    "        fp.write(\"%s\\n\" % item)"
   ]
  },
  {
   "cell_type": "code",
   "execution_count": null,
   "metadata": {},
   "outputs": [
    {
     "name": "stdout",
     "output_type": "stream",
     "text": [
      "=== Análisis de similitudes y diferencias ===\n",
      "\n",
      "1. Emociones - Palabras similares a 'pain':\n",
      "   women: 0.350\n",
      "   paper: 0.343\n",
      "   deeper: 0.327\n",
      "   weave: 0.324\n",
      "   halle: 0.323\n",
      "\n",
      "2. Emociones - Palabras similares a 'light':\n",
      "   turbo: 0.374\n",
      "   sun: 0.355\n",
      "   theyll: 0.332\n",
      "   cheating: 0.326\n",
      "   woo: 0.320\n",
      "\n",
      "3. Conceptos opuestos - 'high' vs 'low':\n",
      "Similares a 'high':\n",
      "   heels: 0.363\n",
      "   low: 0.351\n",
      "   explain: 0.341\n",
      "Similares a 'low':\n",
      "   eye: 0.398\n",
      "   dwell: 0.386\n",
      "   writing: 0.372\n",
      "\n",
      "4. Similitud directa entre pares de palabras:\n",
      "   'love' y 'heart': 0.155\n",
      "   'time' y 'moment': 0.259\n",
      "   'eyes' y 'see': 0.232\n",
      "   'mind' y 'think': 0.197\n",
      "\n",
      "5. Analogías vectoriales:\n",
      "Intentando: 'you' - 'me' + 'i' = ?\n",
      "   twista: 0.285\n",
      "   unfollow: 0.249\n",
      "   clear: 0.240\n"
     ]
    }
   ],
   "source": [
    "# Probemos diferentes palabras para analizar similitudes y diferencias en el espacio de embeddings\n",
    "\n",
    "print(\"=== Análisis de similitudes y diferencias ===\\n\")\n",
    "\n",
    "# 1. Palabras relacionadas con emociones\n",
    "print(\"1. Emociones - Palabras similares a 'pain':\")\n",
    "try:\n",
    "    similar_pain = w2v_model.wv.most_similar(positive=[\"pain\"], topn=5)\n",
    "    for word, similarity in similar_pain:\n",
    "        print(f\"   {word}: {similarity:.3f}\")\n",
    "except:\n",
    "    print(\"   'pain' no está en el vocabulario\")\n",
    "\n",
    "print(\"\\n2. Emociones - Palabras similares a 'light':\")\n",
    "try:\n",
    "    similar_light = w2v_model.wv.most_similar(positive=[\"light\"], topn=5)\n",
    "    for word, similarity in similar_light:\n",
    "        print(f\"   {word}: {similarity:.3f}\")\n",
    "except:\n",
    "    print(\"   'light' no está en el vocabulario\")\n",
    "\n",
    "# 3. Comparación de similitudes entre conceptos opuestos\n",
    "print(\"\\n3. Conceptos opuestos - 'high' vs 'low':\")\n",
    "try:\n",
    "    print(\"Similares a 'high':\")\n",
    "    similar_high = w2v_model.wv.most_similar(positive=[\"high\"], topn=3)\n",
    "    for word, similarity in similar_high:\n",
    "        print(f\"   {word}: {similarity:.3f}\")\n",
    "except:\n",
    "    print(\"   'high' no está en el vocabulario\")\n",
    "\n",
    "try:\n",
    "    print(\"Similares a 'low':\")\n",
    "    similar_low = w2v_model.wv.most_similar(positive=[\"low\"], topn=3)\n",
    "    for word, similarity in similar_low:\n",
    "        print(f\"   {word}: {similarity:.3f}\")\n",
    "except:\n",
    "    print(\"   'low' no está en el vocabulario\")\n",
    "\n",
    "# 4. Cálculo de similitud entre palabras específicas\n",
    "print(\"\\n4. Similitud directa entre pares de palabras:\")\n",
    "word_pairs = [(\"love\", \"heart\"), (\"time\", \"moment\"), (\"eyes\", \"see\"), (\"mind\", \"think\")]\n",
    "\n",
    "for word1, word2 in word_pairs:\n",
    "    try:\n",
    "        similarity = w2v_model.wv.similarity(word1, word2)\n",
    "        print(f\"   '{word1}' y '{word2}': {similarity:.3f}\")\n",
    "    except:\n",
    "        print(f\"   Una de las palabras '{word1}' o '{word2}' no está en el vocabulario\")\n",
    "\n",
    "# 5. Analogías usando operaciones vectoriales\n",
    "print(\"\\n5. Analogías vectoriales:\")\n",
    "print(\"Intentando: 'you' - 'me' + 'i' = ?\")\n",
    "try:\n",
    "    analogy = w2v_model.wv.most_similar(positive=[\"you\", \"i\"], negative=[\"me\"], topn=3)\n",
    "    for word, similarity in analogy:\n",
    "        print(f\"   {word}: {similarity:.3f}\")\n",
    "except:\n",
    "    print(\"   No se pudo calcular la analogía (palabras faltantes)\")"
   ]
  },
  {
   "cell_type": "markdown",
   "metadata": {},
   "source": [
    "Del análisis anterior podemos ver que en las palabras similares a \"pain\" se encuentran las palabras \"deep\" y \"women\", dando a entender que en las canciones de Kanye West el dolor está asociado a las mujeres y a algo profundo.\n",
    "\n",
    "En cuanto a los conceptos opuestos \"high\" y \"low\", podemos ver que las palabras similares a \"high\" son \"heels\" (nuevamente relacionado a las mujeres) y la palabra \"low\" está relacionada con \"writing\", lo que puede interpretarse como que muchas veces cuando Kanye West se siente \"bajo\" lo expresa a través de la escritura.\n",
    "\n",
    "También podemos concluír que no tiene mucho sentido hacer analogías vectoriales con este tipo de embeddings, ya que el contexto es muy específico y no se pueden extrapolar las relaciones entre palabras a otros contextos."
   ]
  }
 ],
 "metadata": {
  "colab": {
   "collapsed_sections": [],
   "provenance": []
  },
  "kernelspec": {
   "display_name": "nlp-ejercicios",
   "language": "python",
   "name": "python3"
  },
  "language_info": {
   "codemirror_mode": {
    "name": "ipython",
    "version": 3
   },
   "file_extension": ".py",
   "mimetype": "text/x-python",
   "name": "python",
   "nbconvert_exporter": "python",
   "pygments_lexer": "ipython3",
   "version": "3.11.11"
  }
 },
 "nbformat": 4,
 "nbformat_minor": 4
}
